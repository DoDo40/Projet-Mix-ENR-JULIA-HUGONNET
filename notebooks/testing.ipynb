{
 "cells": [
  {
   "cell_type": "code",
   "execution_count": 86,
   "metadata": {
    "collapsed": true,
    "ExecuteTime": {
     "end_time": "2023-05-18T20:56:25.334772100Z",
     "start_time": "2023-05-18T20:56:24.613228100Z"
    }
   },
   "outputs": [],
   "source": [
    "from sklearn.preprocessing import RobustScaler\n",
    "import numpy as np\n",
    "import pandas as pd\n",
    "import matplotlib.pyplot as plt"
   ]
  },
  {
   "cell_type": "code",
   "execution_count": 212,
   "outputs": [],
   "source": [
    "import data_processing as dp"
   ],
   "metadata": {
    "collapsed": false,
    "ExecuteTime": {
     "end_time": "2023-05-19T10:35:04.363259500Z",
     "start_time": "2023-05-19T10:35:04.346255400Z"
    }
   }
  },
  {
   "cell_type": "code",
   "execution_count": 213,
   "outputs": [],
   "source": [
    "# Define some parameters\n",
    "pv = 122\n",
    "onshore = 80\n",
    "offshore = 13"
   ],
   "metadata": {
    "collapsed": false,
    "ExecuteTime": {
     "end_time": "2023-05-19T10:35:07.323260400Z",
     "start_time": "2023-05-19T10:35:07.307256600Z"
    }
   }
  },
  {
   "cell_type": "code",
   "execution_count": 272,
   "outputs": [],
   "source": [
    "data_clean = pd.read_csv('../data/data_clean3.csv', sep=';', parse_dates=['Datetime']).set_index('Datetime')\n",
    "prodSol = pd.read_csv('../data/prod/prodSol.csv', sep=';', parse_dates=['Datetime']).set_index('Datetime')\n",
    "prodEol = pd.read_csv('../data/prod/prodEol.csv', sep=';', parse_dates=['Datetime']).set_index('Datetime')\n",
    "prodRiv = pd.read_csv('../data/prod/prodRiv.csv', sep=';', parse_dates=['Datetime']).set_index('Datetime')"
   ],
   "metadata": {
    "collapsed": false,
    "ExecuteTime": {
     "end_time": "2023-05-19T13:04:06.347938300Z",
     "start_time": "2023-05-19T13:04:03.983255600Z"
    }
   }
  },
  {
   "cell_type": "code",
   "execution_count": 273,
   "outputs": [
    {
     "data": {
      "text/plain": "                     Solaire (TW)\nDatetime                         \n2012-01-01 00:00:00      0.000000\n2012-01-01 00:15:00      0.000000\n2012-01-01 00:30:00      0.000000\n2012-01-01 00:45:00      0.000000\n2012-01-01 01:00:00      0.000000\n...                           ...\n2023-05-12 22:45:00      0.493231\n2023-05-12 23:00:00      0.493231\n2023-05-12 23:15:00      0.493231\n2023-05-12 23:30:00      0.493231\n2023-05-12 23:45:00      0.493231\n\n[398400 rows x 1 columns]",
      "text/html": "<div>\n<style scoped>\n    .dataframe tbody tr th:only-of-type {\n        vertical-align: middle;\n    }\n\n    .dataframe tbody tr th {\n        vertical-align: top;\n    }\n\n    .dataframe thead th {\n        text-align: right;\n    }\n</style>\n<table border=\"1\" class=\"dataframe\">\n  <thead>\n    <tr style=\"text-align: right;\">\n      <th></th>\n      <th>Solaire (TW)</th>\n    </tr>\n    <tr>\n      <th>Datetime</th>\n      <th></th>\n    </tr>\n  </thead>\n  <tbody>\n    <tr>\n      <th>2012-01-01 00:00:00</th>\n      <td>0.000000</td>\n    </tr>\n    <tr>\n      <th>2012-01-01 00:15:00</th>\n      <td>0.000000</td>\n    </tr>\n    <tr>\n      <th>2012-01-01 00:30:00</th>\n      <td>0.000000</td>\n    </tr>\n    <tr>\n      <th>2012-01-01 00:45:00</th>\n      <td>0.000000</td>\n    </tr>\n    <tr>\n      <th>2012-01-01 01:00:00</th>\n      <td>0.000000</td>\n    </tr>\n    <tr>\n      <th>...</th>\n      <td>...</td>\n    </tr>\n    <tr>\n      <th>2023-05-12 22:45:00</th>\n      <td>0.493231</td>\n    </tr>\n    <tr>\n      <th>2023-05-12 23:00:00</th>\n      <td>0.493231</td>\n    </tr>\n    <tr>\n      <th>2023-05-12 23:15:00</th>\n      <td>0.493231</td>\n    </tr>\n    <tr>\n      <th>2023-05-12 23:30:00</th>\n      <td>0.493231</td>\n    </tr>\n    <tr>\n      <th>2023-05-12 23:45:00</th>\n      <td>0.493231</td>\n    </tr>\n  </tbody>\n</table>\n<p>398400 rows × 1 columns</p>\n</div>"
     },
     "execution_count": 273,
     "metadata": {},
     "output_type": "execute_result"
    }
   ],
   "source": [
    "prodSol"
   ],
   "metadata": {
    "collapsed": false,
    "ExecuteTime": {
     "end_time": "2023-05-19T13:04:06.709994900Z",
     "start_time": "2023-05-19T13:04:06.684988500Z"
    }
   }
  },
  {
   "cell_type": "code",
   "execution_count": 274,
   "outputs": [
    {
     "data": {
      "text/plain": "                     Pression au niveau mer   \nDatetime                                      \n2012-01-01 01:00:00             101912.1325  \\\n2012-01-01 01:15:00             101909.5278   \n2012-01-01 01:30:00             101906.9230   \n2012-01-01 01:45:00             101904.3182   \n2012-01-01 02:00:00             101901.7134   \n...                                     ...   \n2023-05-10 13:45:00             101690.4182   \n2023-05-10 14:00:00             101688.5445   \n2023-05-10 14:15:00             101683.9215   \n2023-05-10 14:30:00             101679.2986   \n2023-05-10 14:45:00             101674.6756   \n\n                     Variation de pression en 3 heures  Température   \nDatetime                                                              \n2012-01-01 01:00:00                         -26.204878   284.441001  \\\n2012-01-01 01:15:00                         -26.399241   284.418138   \n2012-01-01 01:30:00                         -26.593603   284.395274   \n2012-01-01 01:45:00                         -26.787965   284.372410   \n2012-01-01 02:00:00                         -26.982327   284.349546   \n...                                                ...          ...   \n2023-05-10 13:45:00                          -5.555157   288.633609   \n2023-05-10 14:00:00                         -11.812752   288.791610   \n2023-05-10 14:15:00                         -15.072847   288.828798   \n2023-05-10 14:30:00                         -18.332943   288.865986   \n2023-05-10 14:45:00                         -21.593038   288.903174   \n\n                      Humidité  Consommation (MW)  Holiday      A      B   \nDatetime                                                                   \n2012-01-01 01:00:00  90.875456            56231.0     True   True   True  \\\n2012-01-01 01:15:00  91.010688            56153.0     True   True   True   \n2012-01-01 01:30:00  91.145920            56075.0     True   True   True   \n2012-01-01 01:45:00  91.281152            55803.5     True   True   True   \n2012-01-01 02:00:00  91.416384            55532.0     True   True   True   \n...                        ...                ...      ...    ...    ...   \n2023-05-10 13:45:00  67.142344            48632.0    False  False  False   \n2023-05-10 14:00:00  66.369890            48073.0    False  False  False   \n2023-05-10 14:15:00  66.207288            48427.0    False  False  False   \n2023-05-10 14:30:00  66.044685            47688.0    False  False  False   \n2023-05-10 14:45:00  65.882083            47403.0    False  False  False   \n\n                         C  Confinement  Prévision J (MW)  Prévision J-1 (MW)   \nDatetime                                                                        \n2012-01-01 01:00:00   True            0             55100               55200  \\\n2012-01-01 01:15:00   True            0             55250               55600   \n2012-01-01 01:30:00   True            0             55400               56000   \n2012-01-01 01:45:00   True            0             55200               56000   \n2012-01-01 02:00:00   True            0             55000               56000   \n...                    ...          ...               ...                 ...   \n2023-05-10 13:45:00  False            0             48350               49900   \n2023-05-10 14:00:00  False            0             48300               49700   \n2023-05-10 14:15:00  False            0             47850               49600   \n2023-05-10 14:30:00  False            0             47400               49500   \n2023-05-10 14:45:00  False            0             47150               48800   \n\n                     week-end  Prix Elec 1kWh  Solaire (TW)  Eolien (TW)   \nDatetime                                                                   \n2012-01-01 01:00:00         1           69.37      0.000000    63.768199  \\\n2012-01-01 01:15:00         1           69.37      0.000000    63.678029   \n2012-01-01 01:30:00         1           69.37      0.000000    63.587859   \n2012-01-01 01:45:00         1           69.37      0.000000    63.669012   \n2012-01-01 02:00:00         1           69.37      0.000000    63.750165   \n...                       ...             ...           ...          ...   \n2023-05-10 13:45:00         0          104.08     85.847085    35.917932   \n2023-05-10 14:00:00         0          104.08     83.554008    37.196585   \n2023-05-10 14:15:00         0          104.08     86.745207    39.156329   \n2023-05-10 14:30:00         0          104.08     84.729210    40.216518   \n2023-05-10 14:45:00         0          104.08     83.152719    39.824569   \n\n                     Hydraulique (MW)  \nDatetime                               \n2012-01-01 01:00:00            7598.0  \n2012-01-01 01:15:00            7448.5  \n2012-01-01 01:30:00            7299.0  \n2012-01-01 01:45:00            7229.0  \n2012-01-01 02:00:00            7159.0  \n...                               ...  \n2023-05-10 13:45:00            6661.0  \n2023-05-10 14:00:00            6695.0  \n2023-05-10 14:15:00            6784.0  \n2023-05-10 14:30:00            6495.0  \n2023-05-10 14:45:00            6568.0  \n\n[399608 rows x 17 columns]",
      "text/html": "<div>\n<style scoped>\n    .dataframe tbody tr th:only-of-type {\n        vertical-align: middle;\n    }\n\n    .dataframe tbody tr th {\n        vertical-align: top;\n    }\n\n    .dataframe thead th {\n        text-align: right;\n    }\n</style>\n<table border=\"1\" class=\"dataframe\">\n  <thead>\n    <tr style=\"text-align: right;\">\n      <th></th>\n      <th>Pression au niveau mer</th>\n      <th>Variation de pression en 3 heures</th>\n      <th>Température</th>\n      <th>Humidité</th>\n      <th>Consommation (MW)</th>\n      <th>Holiday</th>\n      <th>A</th>\n      <th>B</th>\n      <th>C</th>\n      <th>Confinement</th>\n      <th>Prévision J (MW)</th>\n      <th>Prévision J-1 (MW)</th>\n      <th>week-end</th>\n      <th>Prix Elec 1kWh</th>\n      <th>Solaire (TW)</th>\n      <th>Eolien (TW)</th>\n      <th>Hydraulique (MW)</th>\n    </tr>\n    <tr>\n      <th>Datetime</th>\n      <th></th>\n      <th></th>\n      <th></th>\n      <th></th>\n      <th></th>\n      <th></th>\n      <th></th>\n      <th></th>\n      <th></th>\n      <th></th>\n      <th></th>\n      <th></th>\n      <th></th>\n      <th></th>\n      <th></th>\n      <th></th>\n      <th></th>\n    </tr>\n  </thead>\n  <tbody>\n    <tr>\n      <th>2012-01-01 01:00:00</th>\n      <td>101912.1325</td>\n      <td>-26.204878</td>\n      <td>284.441001</td>\n      <td>90.875456</td>\n      <td>56231.0</td>\n      <td>True</td>\n      <td>True</td>\n      <td>True</td>\n      <td>True</td>\n      <td>0</td>\n      <td>55100</td>\n      <td>55200</td>\n      <td>1</td>\n      <td>69.37</td>\n      <td>0.000000</td>\n      <td>63.768199</td>\n      <td>7598.0</td>\n    </tr>\n    <tr>\n      <th>2012-01-01 01:15:00</th>\n      <td>101909.5278</td>\n      <td>-26.399241</td>\n      <td>284.418138</td>\n      <td>91.010688</td>\n      <td>56153.0</td>\n      <td>True</td>\n      <td>True</td>\n      <td>True</td>\n      <td>True</td>\n      <td>0</td>\n      <td>55250</td>\n      <td>55600</td>\n      <td>1</td>\n      <td>69.37</td>\n      <td>0.000000</td>\n      <td>63.678029</td>\n      <td>7448.5</td>\n    </tr>\n    <tr>\n      <th>2012-01-01 01:30:00</th>\n      <td>101906.9230</td>\n      <td>-26.593603</td>\n      <td>284.395274</td>\n      <td>91.145920</td>\n      <td>56075.0</td>\n      <td>True</td>\n      <td>True</td>\n      <td>True</td>\n      <td>True</td>\n      <td>0</td>\n      <td>55400</td>\n      <td>56000</td>\n      <td>1</td>\n      <td>69.37</td>\n      <td>0.000000</td>\n      <td>63.587859</td>\n      <td>7299.0</td>\n    </tr>\n    <tr>\n      <th>2012-01-01 01:45:00</th>\n      <td>101904.3182</td>\n      <td>-26.787965</td>\n      <td>284.372410</td>\n      <td>91.281152</td>\n      <td>55803.5</td>\n      <td>True</td>\n      <td>True</td>\n      <td>True</td>\n      <td>True</td>\n      <td>0</td>\n      <td>55200</td>\n      <td>56000</td>\n      <td>1</td>\n      <td>69.37</td>\n      <td>0.000000</td>\n      <td>63.669012</td>\n      <td>7229.0</td>\n    </tr>\n    <tr>\n      <th>2012-01-01 02:00:00</th>\n      <td>101901.7134</td>\n      <td>-26.982327</td>\n      <td>284.349546</td>\n      <td>91.416384</td>\n      <td>55532.0</td>\n      <td>True</td>\n      <td>True</td>\n      <td>True</td>\n      <td>True</td>\n      <td>0</td>\n      <td>55000</td>\n      <td>56000</td>\n      <td>1</td>\n      <td>69.37</td>\n      <td>0.000000</td>\n      <td>63.750165</td>\n      <td>7159.0</td>\n    </tr>\n    <tr>\n      <th>...</th>\n      <td>...</td>\n      <td>...</td>\n      <td>...</td>\n      <td>...</td>\n      <td>...</td>\n      <td>...</td>\n      <td>...</td>\n      <td>...</td>\n      <td>...</td>\n      <td>...</td>\n      <td>...</td>\n      <td>...</td>\n      <td>...</td>\n      <td>...</td>\n      <td>...</td>\n      <td>...</td>\n      <td>...</td>\n    </tr>\n    <tr>\n      <th>2023-05-10 13:45:00</th>\n      <td>101690.4182</td>\n      <td>-5.555157</td>\n      <td>288.633609</td>\n      <td>67.142344</td>\n      <td>48632.0</td>\n      <td>False</td>\n      <td>False</td>\n      <td>False</td>\n      <td>False</td>\n      <td>0</td>\n      <td>48350</td>\n      <td>49900</td>\n      <td>0</td>\n      <td>104.08</td>\n      <td>85.847085</td>\n      <td>35.917932</td>\n      <td>6661.0</td>\n    </tr>\n    <tr>\n      <th>2023-05-10 14:00:00</th>\n      <td>101688.5445</td>\n      <td>-11.812752</td>\n      <td>288.791610</td>\n      <td>66.369890</td>\n      <td>48073.0</td>\n      <td>False</td>\n      <td>False</td>\n      <td>False</td>\n      <td>False</td>\n      <td>0</td>\n      <td>48300</td>\n      <td>49700</td>\n      <td>0</td>\n      <td>104.08</td>\n      <td>83.554008</td>\n      <td>37.196585</td>\n      <td>6695.0</td>\n    </tr>\n    <tr>\n      <th>2023-05-10 14:15:00</th>\n      <td>101683.9215</td>\n      <td>-15.072847</td>\n      <td>288.828798</td>\n      <td>66.207288</td>\n      <td>48427.0</td>\n      <td>False</td>\n      <td>False</td>\n      <td>False</td>\n      <td>False</td>\n      <td>0</td>\n      <td>47850</td>\n      <td>49600</td>\n      <td>0</td>\n      <td>104.08</td>\n      <td>86.745207</td>\n      <td>39.156329</td>\n      <td>6784.0</td>\n    </tr>\n    <tr>\n      <th>2023-05-10 14:30:00</th>\n      <td>101679.2986</td>\n      <td>-18.332943</td>\n      <td>288.865986</td>\n      <td>66.044685</td>\n      <td>47688.0</td>\n      <td>False</td>\n      <td>False</td>\n      <td>False</td>\n      <td>False</td>\n      <td>0</td>\n      <td>47400</td>\n      <td>49500</td>\n      <td>0</td>\n      <td>104.08</td>\n      <td>84.729210</td>\n      <td>40.216518</td>\n      <td>6495.0</td>\n    </tr>\n    <tr>\n      <th>2023-05-10 14:45:00</th>\n      <td>101674.6756</td>\n      <td>-21.593038</td>\n      <td>288.903174</td>\n      <td>65.882083</td>\n      <td>47403.0</td>\n      <td>False</td>\n      <td>False</td>\n      <td>False</td>\n      <td>False</td>\n      <td>0</td>\n      <td>47150</td>\n      <td>48800</td>\n      <td>0</td>\n      <td>104.08</td>\n      <td>83.152719</td>\n      <td>39.824569</td>\n      <td>6568.0</td>\n    </tr>\n  </tbody>\n</table>\n<p>399608 rows × 17 columns</p>\n</div>"
     },
     "execution_count": 274,
     "metadata": {},
     "output_type": "execute_result"
    }
   ],
   "source": [
    "data = pd.merge(data_clean, (prodSol*pv).merge((prodEol*(offshore+onshore)).merge(prodRiv,on='Datetime'),on='Datetime'),on='Datetime')\n",
    "data"
   ],
   "metadata": {
    "collapsed": false,
    "ExecuteTime": {
     "end_time": "2023-05-19T13:04:09.134257300Z",
     "start_time": "2023-05-19T13:04:08.377582500Z"
    }
   }
  },
  {
   "cell_type": "code",
   "execution_count": 216,
   "outputs": [
    {
     "data": {
      "text/plain": "                     Pression au niveau mer   \nDatetime                                      \n2012-01-01 01:00:00             101912.1325  \\\n2012-01-01 01:15:00             101909.5278   \n2012-01-01 01:30:00             101906.9230   \n2012-01-01 01:45:00             101904.3182   \n2012-01-01 02:00:00             101901.7134   \n...                                     ...   \n2023-05-10 13:45:00             101690.4182   \n2023-05-10 14:00:00             101688.5445   \n2023-05-10 14:15:00             101683.9215   \n2023-05-10 14:30:00             101679.2986   \n2023-05-10 14:45:00             101674.6756   \n\n                     Variation de pression en 3 heures  Température   \nDatetime                                                              \n2012-01-01 01:00:00                         -26.204878   284.441001  \\\n2012-01-01 01:15:00                         -26.399241   284.418138   \n2012-01-01 01:30:00                         -26.593603   284.395274   \n2012-01-01 01:45:00                         -26.787965   284.372410   \n2012-01-01 02:00:00                         -26.982327   284.349546   \n...                                                ...          ...   \n2023-05-10 13:45:00                          -5.555157   288.633609   \n2023-05-10 14:00:00                         -11.812752   288.791610   \n2023-05-10 14:15:00                         -15.072847   288.828798   \n2023-05-10 14:30:00                         -18.332943   288.865986   \n2023-05-10 14:45:00                         -21.593038   288.903174   \n\n                      Humidité  Consommation (MW)  Holiday      A      B   \nDatetime                                                                   \n2012-01-01 01:00:00  90.875456            56231.0     True   True   True  \\\n2012-01-01 01:15:00  91.010688            56153.0     True   True   True   \n2012-01-01 01:30:00  91.145920            56075.0     True   True   True   \n2012-01-01 01:45:00  91.281152            55803.5     True   True   True   \n2012-01-01 02:00:00  91.416384            55532.0     True   True   True   \n...                        ...                ...      ...    ...    ...   \n2023-05-10 13:45:00  67.142344            48632.0    False  False  False   \n2023-05-10 14:00:00  66.369890            48073.0    False  False  False   \n2023-05-10 14:15:00  66.207288            48427.0    False  False  False   \n2023-05-10 14:30:00  66.044685            47688.0    False  False  False   \n2023-05-10 14:45:00  65.882083            47403.0    False  False  False   \n\n                         C  Confinement  ...  week-end  Prix Elec 1kWh   \nDatetime                                 ...                             \n2012-01-01 01:00:00   True            0  ...         1           69.37  \\\n2012-01-01 01:15:00   True            0  ...         1           69.37   \n2012-01-01 01:30:00   True            0  ...         1           69.37   \n2012-01-01 01:45:00   True            0  ...         1           69.37   \n2012-01-01 02:00:00   True            0  ...         1           69.37   \n...                    ...          ...  ...       ...             ...   \n2023-05-10 13:45:00  False            0  ...         0          104.08   \n2023-05-10 14:00:00  False            0  ...         0          104.08   \n2023-05-10 14:15:00  False            0  ...         0          104.08   \n2023-05-10 14:30:00  False            0  ...         0          104.08   \n2023-05-10 14:45:00  False            0  ...         0          104.08   \n\n                     Solaire (MW)  Eolien (MW)  Hydraulique (MW)  Annee  Mois   \nDatetime                                                                        \n2012-01-01 01:00:00      0.000000    63.768199            7598.0   2012     1  \\\n2012-01-01 01:15:00      0.000000    63.678029            7448.5   2012     1   \n2012-01-01 01:30:00      0.000000    63.587859            7299.0   2012     1   \n2012-01-01 01:45:00      0.000000    63.669012            7229.0   2012     1   \n2012-01-01 02:00:00      0.000000    63.750165            7159.0   2012     1   \n...                           ...          ...               ...    ...   ...   \n2023-05-10 13:45:00     85.847085    35.917932            6661.0   2023     5   \n2023-05-10 14:00:00     83.554008    37.196585            6695.0   2023     5   \n2023-05-10 14:15:00     86.745207    39.156329            6784.0   2023     5   \n2023-05-10 14:30:00     84.729210    40.216518            6495.0   2023     5   \n2023-05-10 14:45:00     83.152719    39.824569            6568.0   2023     5   \n\n                     Jour  Heure  Minute  \nDatetime                                  \n2012-01-01 01:00:00     1      1       0  \n2012-01-01 01:15:00     1      1      15  \n2012-01-01 01:30:00     1      1      30  \n2012-01-01 01:45:00     1      1      45  \n2012-01-01 02:00:00     1      2       0  \n...                   ...    ...     ...  \n2023-05-10 13:45:00    10     13      45  \n2023-05-10 14:00:00    10     14       0  \n2023-05-10 14:15:00    10     14      15  \n2023-05-10 14:30:00    10     14      30  \n2023-05-10 14:45:00    10     14      45  \n\n[399608 rows x 22 columns]",
      "text/html": "<div>\n<style scoped>\n    .dataframe tbody tr th:only-of-type {\n        vertical-align: middle;\n    }\n\n    .dataframe tbody tr th {\n        vertical-align: top;\n    }\n\n    .dataframe thead th {\n        text-align: right;\n    }\n</style>\n<table border=\"1\" class=\"dataframe\">\n  <thead>\n    <tr style=\"text-align: right;\">\n      <th></th>\n      <th>Pression au niveau mer</th>\n      <th>Variation de pression en 3 heures</th>\n      <th>Température</th>\n      <th>Humidité</th>\n      <th>Consommation (MW)</th>\n      <th>Holiday</th>\n      <th>A</th>\n      <th>B</th>\n      <th>C</th>\n      <th>Confinement</th>\n      <th>...</th>\n      <th>week-end</th>\n      <th>Prix Elec 1kWh</th>\n      <th>Solaire (MW)</th>\n      <th>Eolien (MW)</th>\n      <th>Hydraulique (MW)</th>\n      <th>Annee</th>\n      <th>Mois</th>\n      <th>Jour</th>\n      <th>Heure</th>\n      <th>Minute</th>\n    </tr>\n    <tr>\n      <th>Datetime</th>\n      <th></th>\n      <th></th>\n      <th></th>\n      <th></th>\n      <th></th>\n      <th></th>\n      <th></th>\n      <th></th>\n      <th></th>\n      <th></th>\n      <th></th>\n      <th></th>\n      <th></th>\n      <th></th>\n      <th></th>\n      <th></th>\n      <th></th>\n      <th></th>\n      <th></th>\n      <th></th>\n      <th></th>\n    </tr>\n  </thead>\n  <tbody>\n    <tr>\n      <th>2012-01-01 01:00:00</th>\n      <td>101912.1325</td>\n      <td>-26.204878</td>\n      <td>284.441001</td>\n      <td>90.875456</td>\n      <td>56231.0</td>\n      <td>True</td>\n      <td>True</td>\n      <td>True</td>\n      <td>True</td>\n      <td>0</td>\n      <td>...</td>\n      <td>1</td>\n      <td>69.37</td>\n      <td>0.000000</td>\n      <td>63.768199</td>\n      <td>7598.0</td>\n      <td>2012</td>\n      <td>1</td>\n      <td>1</td>\n      <td>1</td>\n      <td>0</td>\n    </tr>\n    <tr>\n      <th>2012-01-01 01:15:00</th>\n      <td>101909.5278</td>\n      <td>-26.399241</td>\n      <td>284.418138</td>\n      <td>91.010688</td>\n      <td>56153.0</td>\n      <td>True</td>\n      <td>True</td>\n      <td>True</td>\n      <td>True</td>\n      <td>0</td>\n      <td>...</td>\n      <td>1</td>\n      <td>69.37</td>\n      <td>0.000000</td>\n      <td>63.678029</td>\n      <td>7448.5</td>\n      <td>2012</td>\n      <td>1</td>\n      <td>1</td>\n      <td>1</td>\n      <td>15</td>\n    </tr>\n    <tr>\n      <th>2012-01-01 01:30:00</th>\n      <td>101906.9230</td>\n      <td>-26.593603</td>\n      <td>284.395274</td>\n      <td>91.145920</td>\n      <td>56075.0</td>\n      <td>True</td>\n      <td>True</td>\n      <td>True</td>\n      <td>True</td>\n      <td>0</td>\n      <td>...</td>\n      <td>1</td>\n      <td>69.37</td>\n      <td>0.000000</td>\n      <td>63.587859</td>\n      <td>7299.0</td>\n      <td>2012</td>\n      <td>1</td>\n      <td>1</td>\n      <td>1</td>\n      <td>30</td>\n    </tr>\n    <tr>\n      <th>2012-01-01 01:45:00</th>\n      <td>101904.3182</td>\n      <td>-26.787965</td>\n      <td>284.372410</td>\n      <td>91.281152</td>\n      <td>55803.5</td>\n      <td>True</td>\n      <td>True</td>\n      <td>True</td>\n      <td>True</td>\n      <td>0</td>\n      <td>...</td>\n      <td>1</td>\n      <td>69.37</td>\n      <td>0.000000</td>\n      <td>63.669012</td>\n      <td>7229.0</td>\n      <td>2012</td>\n      <td>1</td>\n      <td>1</td>\n      <td>1</td>\n      <td>45</td>\n    </tr>\n    <tr>\n      <th>2012-01-01 02:00:00</th>\n      <td>101901.7134</td>\n      <td>-26.982327</td>\n      <td>284.349546</td>\n      <td>91.416384</td>\n      <td>55532.0</td>\n      <td>True</td>\n      <td>True</td>\n      <td>True</td>\n      <td>True</td>\n      <td>0</td>\n      <td>...</td>\n      <td>1</td>\n      <td>69.37</td>\n      <td>0.000000</td>\n      <td>63.750165</td>\n      <td>7159.0</td>\n      <td>2012</td>\n      <td>1</td>\n      <td>1</td>\n      <td>2</td>\n      <td>0</td>\n    </tr>\n    <tr>\n      <th>...</th>\n      <td>...</td>\n      <td>...</td>\n      <td>...</td>\n      <td>...</td>\n      <td>...</td>\n      <td>...</td>\n      <td>...</td>\n      <td>...</td>\n      <td>...</td>\n      <td>...</td>\n      <td>...</td>\n      <td>...</td>\n      <td>...</td>\n      <td>...</td>\n      <td>...</td>\n      <td>...</td>\n      <td>...</td>\n      <td>...</td>\n      <td>...</td>\n      <td>...</td>\n      <td>...</td>\n    </tr>\n    <tr>\n      <th>2023-05-10 13:45:00</th>\n      <td>101690.4182</td>\n      <td>-5.555157</td>\n      <td>288.633609</td>\n      <td>67.142344</td>\n      <td>48632.0</td>\n      <td>False</td>\n      <td>False</td>\n      <td>False</td>\n      <td>False</td>\n      <td>0</td>\n      <td>...</td>\n      <td>0</td>\n      <td>104.08</td>\n      <td>85.847085</td>\n      <td>35.917932</td>\n      <td>6661.0</td>\n      <td>2023</td>\n      <td>5</td>\n      <td>10</td>\n      <td>13</td>\n      <td>45</td>\n    </tr>\n    <tr>\n      <th>2023-05-10 14:00:00</th>\n      <td>101688.5445</td>\n      <td>-11.812752</td>\n      <td>288.791610</td>\n      <td>66.369890</td>\n      <td>48073.0</td>\n      <td>False</td>\n      <td>False</td>\n      <td>False</td>\n      <td>False</td>\n      <td>0</td>\n      <td>...</td>\n      <td>0</td>\n      <td>104.08</td>\n      <td>83.554008</td>\n      <td>37.196585</td>\n      <td>6695.0</td>\n      <td>2023</td>\n      <td>5</td>\n      <td>10</td>\n      <td>14</td>\n      <td>0</td>\n    </tr>\n    <tr>\n      <th>2023-05-10 14:15:00</th>\n      <td>101683.9215</td>\n      <td>-15.072847</td>\n      <td>288.828798</td>\n      <td>66.207288</td>\n      <td>48427.0</td>\n      <td>False</td>\n      <td>False</td>\n      <td>False</td>\n      <td>False</td>\n      <td>0</td>\n      <td>...</td>\n      <td>0</td>\n      <td>104.08</td>\n      <td>86.745207</td>\n      <td>39.156329</td>\n      <td>6784.0</td>\n      <td>2023</td>\n      <td>5</td>\n      <td>10</td>\n      <td>14</td>\n      <td>15</td>\n    </tr>\n    <tr>\n      <th>2023-05-10 14:30:00</th>\n      <td>101679.2986</td>\n      <td>-18.332943</td>\n      <td>288.865986</td>\n      <td>66.044685</td>\n      <td>47688.0</td>\n      <td>False</td>\n      <td>False</td>\n      <td>False</td>\n      <td>False</td>\n      <td>0</td>\n      <td>...</td>\n      <td>0</td>\n      <td>104.08</td>\n      <td>84.729210</td>\n      <td>40.216518</td>\n      <td>6495.0</td>\n      <td>2023</td>\n      <td>5</td>\n      <td>10</td>\n      <td>14</td>\n      <td>30</td>\n    </tr>\n    <tr>\n      <th>2023-05-10 14:45:00</th>\n      <td>101674.6756</td>\n      <td>-21.593038</td>\n      <td>288.903174</td>\n      <td>65.882083</td>\n      <td>47403.0</td>\n      <td>False</td>\n      <td>False</td>\n      <td>False</td>\n      <td>False</td>\n      <td>0</td>\n      <td>...</td>\n      <td>0</td>\n      <td>104.08</td>\n      <td>83.152719</td>\n      <td>39.824569</td>\n      <td>6568.0</td>\n      <td>2023</td>\n      <td>5</td>\n      <td>10</td>\n      <td>14</td>\n      <td>45</td>\n    </tr>\n  </tbody>\n</table>\n<p>399608 rows × 22 columns</p>\n</div>"
     },
     "execution_count": 216,
     "metadata": {},
     "output_type": "execute_result"
    }
   ],
   "source": [
    "data['Annee'] = data.index.year\n",
    "data['Mois'] = data.index.month\n",
    "data['Jour'] = data.index.day\n",
    "data['Heure'] = data.index.hour\n",
    "data['Minute'] = data.index.minute\n",
    "data"
   ],
   "metadata": {
    "collapsed": false,
    "ExecuteTime": {
     "end_time": "2023-05-19T10:35:13.524291300Z",
     "start_time": "2023-05-19T10:35:13.384256700Z"
    }
   }
  },
  {
   "cell_type": "code",
   "execution_count": 81,
   "outputs": [],
   "source": [
    "# prixElec = pd.read_csv('../data/PrixElec.csv', sep=';')"
   ],
   "metadata": {
    "collapsed": false,
    "ExecuteTime": {
     "end_time": "2023-05-18T20:54:59.005739300Z",
     "start_time": "2023-05-18T20:54:58.990735600Z"
    }
   }
  },
  {
   "cell_type": "code",
   "execution_count": 95,
   "outputs": [],
   "source": [
    "data_clean['Annee'] = data_clean.index.year\n",
    "\n",
    "# Supposons que vous avez les données dans un DataFrame appelé 'prix_data'\n",
    "prix_data = pd.read_csv('../data/PrixElec.csv', sep=';')  # Charger les données depuis un fichier CSV\n",
    "\n",
    "# Créer un dictionnaire de correspondance entre l'année et le prix\n",
    "prix_dict = prix_data.set_index('Annee')['Prix pour 1kWh dans un contrat 3kW'].to_dict()\n",
    "\n",
    "# Ajouter les valeurs de prix correspondantes dans une nouvelle colonne 'Prix Elec 1kWh'\n",
    "data_clean['Prix Elec 1kWh'] = data_clean['Annee'].map(prix_dict)"
   ],
   "metadata": {
    "collapsed": false,
    "ExecuteTime": {
     "end_time": "2023-05-18T21:10:36.802248800Z",
     "start_time": "2023-05-18T21:10:36.773242300Z"
    }
   }
  },
  {
   "cell_type": "code",
   "execution_count": 105,
   "outputs": [
    {
     "data": {
      "text/plain": "                     Pression au niveau mer   \nDatetime                                      \n2012-01-01 01:00:00             101912.1325  \\\n2012-01-01 01:15:00             101909.5278   \n2012-01-01 01:30:00             101906.9230   \n2012-01-01 01:45:00             101904.3182   \n2012-01-01 02:00:00             101901.7134   \n...                                     ...   \n2023-05-10 13:45:00             101690.4182   \n2023-05-10 14:00:00             101688.5445   \n2023-05-10 14:15:00             101683.9215   \n2023-05-10 14:30:00             101679.2986   \n2023-05-10 14:45:00             101674.6756   \n\n                     Variation de pression en 3 heures  Température   \nDatetime                                                              \n2012-01-01 01:00:00                         -26.204878   284.441001  \\\n2012-01-01 01:15:00                         -26.399241   284.418138   \n2012-01-01 01:30:00                         -26.593603   284.395274   \n2012-01-01 01:45:00                         -26.787965   284.372410   \n2012-01-01 02:00:00                         -26.982327   284.349546   \n...                                                ...          ...   \n2023-05-10 13:45:00                          -5.555157   288.633609   \n2023-05-10 14:00:00                         -11.812752   288.791610   \n2023-05-10 14:15:00                         -15.072847   288.828798   \n2023-05-10 14:30:00                         -18.332943   288.865986   \n2023-05-10 14:45:00                         -21.593038   288.903174   \n\n                      Humidité  Consommation (MW)  Holiday      A      B   \nDatetime                                                                   \n2012-01-01 01:00:00  90.875456            56231.0     True   True   True  \\\n2012-01-01 01:15:00  91.010688            56153.0     True   True   True   \n2012-01-01 01:30:00  91.145920            56075.0     True   True   True   \n2012-01-01 01:45:00  91.281152            55803.5     True   True   True   \n2012-01-01 02:00:00  91.416384            55532.0     True   True   True   \n...                        ...                ...      ...    ...    ...   \n2023-05-10 13:45:00  67.142344            48632.0    False  False  False   \n2023-05-10 14:00:00  66.369890            48073.0    False  False  False   \n2023-05-10 14:15:00  66.207288            48427.0    False  False  False   \n2023-05-10 14:30:00  66.044685            47688.0    False  False  False   \n2023-05-10 14:45:00  65.882083            47403.0    False  False  False   \n\n                         C  Confinement  Prévision J (MW)  Prévision J-1 (MW)   \nDatetime                                                                        \n2012-01-01 01:00:00   True            0             55100               55200  \\\n2012-01-01 01:15:00   True            0             55250               55600   \n2012-01-01 01:30:00   True            0             55400               56000   \n2012-01-01 01:45:00   True            0             55200               56000   \n2012-01-01 02:00:00   True            0             55000               56000   \n...                    ...          ...               ...                 ...   \n2023-05-10 13:45:00  False            0             48350               49900   \n2023-05-10 14:00:00  False            0             48300               49700   \n2023-05-10 14:15:00  False            0             47850               49600   \n2023-05-10 14:30:00  False            0             47400               49500   \n2023-05-10 14:45:00  False            0             47150               48800   \n\n                     week-end  Prix Elec 1kWh  \nDatetime                                       \n2012-01-01 01:00:00         1           69.37  \n2012-01-01 01:15:00         1           69.37  \n2012-01-01 01:30:00         1           69.37  \n2012-01-01 01:45:00         1           69.37  \n2012-01-01 02:00:00         1           69.37  \n...                       ...             ...  \n2023-05-10 13:45:00         0          104.08  \n2023-05-10 14:00:00         0          104.08  \n2023-05-10 14:15:00         0          104.08  \n2023-05-10 14:30:00         0          104.08  \n2023-05-10 14:45:00         0          104.08  \n\n[398264 rows x 14 columns]",
      "text/html": "<div>\n<style scoped>\n    .dataframe tbody tr th:only-of-type {\n        vertical-align: middle;\n    }\n\n    .dataframe tbody tr th {\n        vertical-align: top;\n    }\n\n    .dataframe thead th {\n        text-align: right;\n    }\n</style>\n<table border=\"1\" class=\"dataframe\">\n  <thead>\n    <tr style=\"text-align: right;\">\n      <th></th>\n      <th>Pression au niveau mer</th>\n      <th>Variation de pression en 3 heures</th>\n      <th>Température</th>\n      <th>Humidité</th>\n      <th>Consommation (MW)</th>\n      <th>Holiday</th>\n      <th>A</th>\n      <th>B</th>\n      <th>C</th>\n      <th>Confinement</th>\n      <th>Prévision J (MW)</th>\n      <th>Prévision J-1 (MW)</th>\n      <th>week-end</th>\n      <th>Prix Elec 1kWh</th>\n    </tr>\n    <tr>\n      <th>Datetime</th>\n      <th></th>\n      <th></th>\n      <th></th>\n      <th></th>\n      <th></th>\n      <th></th>\n      <th></th>\n      <th></th>\n      <th></th>\n      <th></th>\n      <th></th>\n      <th></th>\n      <th></th>\n      <th></th>\n    </tr>\n  </thead>\n  <tbody>\n    <tr>\n      <th>2012-01-01 01:00:00</th>\n      <td>101912.1325</td>\n      <td>-26.204878</td>\n      <td>284.441001</td>\n      <td>90.875456</td>\n      <td>56231.0</td>\n      <td>True</td>\n      <td>True</td>\n      <td>True</td>\n      <td>True</td>\n      <td>0</td>\n      <td>55100</td>\n      <td>55200</td>\n      <td>1</td>\n      <td>69.37</td>\n    </tr>\n    <tr>\n      <th>2012-01-01 01:15:00</th>\n      <td>101909.5278</td>\n      <td>-26.399241</td>\n      <td>284.418138</td>\n      <td>91.010688</td>\n      <td>56153.0</td>\n      <td>True</td>\n      <td>True</td>\n      <td>True</td>\n      <td>True</td>\n      <td>0</td>\n      <td>55250</td>\n      <td>55600</td>\n      <td>1</td>\n      <td>69.37</td>\n    </tr>\n    <tr>\n      <th>2012-01-01 01:30:00</th>\n      <td>101906.9230</td>\n      <td>-26.593603</td>\n      <td>284.395274</td>\n      <td>91.145920</td>\n      <td>56075.0</td>\n      <td>True</td>\n      <td>True</td>\n      <td>True</td>\n      <td>True</td>\n      <td>0</td>\n      <td>55400</td>\n      <td>56000</td>\n      <td>1</td>\n      <td>69.37</td>\n    </tr>\n    <tr>\n      <th>2012-01-01 01:45:00</th>\n      <td>101904.3182</td>\n      <td>-26.787965</td>\n      <td>284.372410</td>\n      <td>91.281152</td>\n      <td>55803.5</td>\n      <td>True</td>\n      <td>True</td>\n      <td>True</td>\n      <td>True</td>\n      <td>0</td>\n      <td>55200</td>\n      <td>56000</td>\n      <td>1</td>\n      <td>69.37</td>\n    </tr>\n    <tr>\n      <th>2012-01-01 02:00:00</th>\n      <td>101901.7134</td>\n      <td>-26.982327</td>\n      <td>284.349546</td>\n      <td>91.416384</td>\n      <td>55532.0</td>\n      <td>True</td>\n      <td>True</td>\n      <td>True</td>\n      <td>True</td>\n      <td>0</td>\n      <td>55000</td>\n      <td>56000</td>\n      <td>1</td>\n      <td>69.37</td>\n    </tr>\n    <tr>\n      <th>...</th>\n      <td>...</td>\n      <td>...</td>\n      <td>...</td>\n      <td>...</td>\n      <td>...</td>\n      <td>...</td>\n      <td>...</td>\n      <td>...</td>\n      <td>...</td>\n      <td>...</td>\n      <td>...</td>\n      <td>...</td>\n      <td>...</td>\n      <td>...</td>\n    </tr>\n    <tr>\n      <th>2023-05-10 13:45:00</th>\n      <td>101690.4182</td>\n      <td>-5.555157</td>\n      <td>288.633609</td>\n      <td>67.142344</td>\n      <td>48632.0</td>\n      <td>False</td>\n      <td>False</td>\n      <td>False</td>\n      <td>False</td>\n      <td>0</td>\n      <td>48350</td>\n      <td>49900</td>\n      <td>0</td>\n      <td>104.08</td>\n    </tr>\n    <tr>\n      <th>2023-05-10 14:00:00</th>\n      <td>101688.5445</td>\n      <td>-11.812752</td>\n      <td>288.791610</td>\n      <td>66.369890</td>\n      <td>48073.0</td>\n      <td>False</td>\n      <td>False</td>\n      <td>False</td>\n      <td>False</td>\n      <td>0</td>\n      <td>48300</td>\n      <td>49700</td>\n      <td>0</td>\n      <td>104.08</td>\n    </tr>\n    <tr>\n      <th>2023-05-10 14:15:00</th>\n      <td>101683.9215</td>\n      <td>-15.072847</td>\n      <td>288.828798</td>\n      <td>66.207288</td>\n      <td>48427.0</td>\n      <td>False</td>\n      <td>False</td>\n      <td>False</td>\n      <td>False</td>\n      <td>0</td>\n      <td>47850</td>\n      <td>49600</td>\n      <td>0</td>\n      <td>104.08</td>\n    </tr>\n    <tr>\n      <th>2023-05-10 14:30:00</th>\n      <td>101679.2986</td>\n      <td>-18.332943</td>\n      <td>288.865986</td>\n      <td>66.044685</td>\n      <td>47688.0</td>\n      <td>False</td>\n      <td>False</td>\n      <td>False</td>\n      <td>False</td>\n      <td>0</td>\n      <td>47400</td>\n      <td>49500</td>\n      <td>0</td>\n      <td>104.08</td>\n    </tr>\n    <tr>\n      <th>2023-05-10 14:45:00</th>\n      <td>101674.6756</td>\n      <td>-21.593038</td>\n      <td>288.903174</td>\n      <td>65.882083</td>\n      <td>47403.0</td>\n      <td>False</td>\n      <td>False</td>\n      <td>False</td>\n      <td>False</td>\n      <td>0</td>\n      <td>47150</td>\n      <td>48800</td>\n      <td>0</td>\n      <td>104.08</td>\n    </tr>\n  </tbody>\n</table>\n<p>398264 rows × 14 columns</p>\n</div>"
     },
     "execution_count": 105,
     "metadata": {},
     "output_type": "execute_result"
    }
   ],
   "source": [
    "#data.to_csv('../data/data_clean2.csv', sep=';')\n",
    "#data_clean.drop('Annee', axis=1, inplace=True)\n",
    "#data_clean.to_csv('../data/data_clean3.csv', sep=';')\n",
    "data_clean"
   ],
   "metadata": {
    "collapsed": false,
    "ExecuteTime": {
     "end_time": "2023-05-18T21:14:25.197733900Z",
     "start_time": "2023-05-18T21:14:25.181729500Z"
    }
   }
  },
  {
   "cell_type": "code",
   "execution_count": 217,
   "outputs": [],
   "source": [
    "data['Production Residuelle (MW)'] = dp.prodRes(Conso=data['Consommation (MW)'], prodEol=data['Eolien (MW)'], prodSol=data['Solaire (MW)'], prodRiv=data['Hydraulique (MW)'],pv=1, onshore=1, offshore=1)"
   ],
   "metadata": {
    "collapsed": false,
    "ExecuteTime": {
     "end_time": "2023-05-19T10:47:47.728273300Z",
     "start_time": "2023-05-19T10:47:47.709268600Z"
    }
   }
  },
  {
   "cell_type": "code",
   "execution_count": 218,
   "outputs": [
    {
     "data": {
      "text/plain": "                     Pression au niveau mer   \nDatetime                                      \n2012-01-01 01:00:00             101912.1325  \\\n2012-01-01 01:15:00             101909.5278   \n2012-01-01 01:30:00             101906.9230   \n2012-01-01 01:45:00             101904.3182   \n2012-01-01 02:00:00             101901.7134   \n...                                     ...   \n2023-05-10 13:45:00             101690.4182   \n2023-05-10 14:00:00             101688.5445   \n2023-05-10 14:15:00             101683.9215   \n2023-05-10 14:30:00             101679.2986   \n2023-05-10 14:45:00             101674.6756   \n\n                     Variation de pression en 3 heures  Température   \nDatetime                                                              \n2012-01-01 01:00:00                         -26.204878   284.441001  \\\n2012-01-01 01:15:00                         -26.399241   284.418138   \n2012-01-01 01:30:00                         -26.593603   284.395274   \n2012-01-01 01:45:00                         -26.787965   284.372410   \n2012-01-01 02:00:00                         -26.982327   284.349546   \n...                                                ...          ...   \n2023-05-10 13:45:00                          -5.555157   288.633609   \n2023-05-10 14:00:00                         -11.812752   288.791610   \n2023-05-10 14:15:00                         -15.072847   288.828798   \n2023-05-10 14:30:00                         -18.332943   288.865986   \n2023-05-10 14:45:00                         -21.593038   288.903174   \n\n                      Humidité  Consommation (MW)  Holiday      A      B   \nDatetime                                                                   \n2012-01-01 01:00:00  90.875456            56231.0     True   True   True  \\\n2012-01-01 01:15:00  91.010688            56153.0     True   True   True   \n2012-01-01 01:30:00  91.145920            56075.0     True   True   True   \n2012-01-01 01:45:00  91.281152            55803.5     True   True   True   \n2012-01-01 02:00:00  91.416384            55532.0     True   True   True   \n...                        ...                ...      ...    ...    ...   \n2023-05-10 13:45:00  67.142344            48632.0    False  False  False   \n2023-05-10 14:00:00  66.369890            48073.0    False  False  False   \n2023-05-10 14:15:00  66.207288            48427.0    False  False  False   \n2023-05-10 14:30:00  66.044685            47688.0    False  False  False   \n2023-05-10 14:45:00  65.882083            47403.0    False  False  False   \n\n                         C  Confinement  ...  Prix Elec 1kWh  Solaire (MW)   \nDatetime                                 ...                                 \n2012-01-01 01:00:00   True            0  ...           69.37      0.000000  \\\n2012-01-01 01:15:00   True            0  ...           69.37      0.000000   \n2012-01-01 01:30:00   True            0  ...           69.37      0.000000   \n2012-01-01 01:45:00   True            0  ...           69.37      0.000000   \n2012-01-01 02:00:00   True            0  ...           69.37      0.000000   \n...                    ...          ...  ...             ...           ...   \n2023-05-10 13:45:00  False            0  ...          104.08     85.847085   \n2023-05-10 14:00:00  False            0  ...          104.08     83.554008   \n2023-05-10 14:15:00  False            0  ...          104.08     86.745207   \n2023-05-10 14:30:00  False            0  ...          104.08     84.729210   \n2023-05-10 14:45:00  False            0  ...          104.08     83.152719   \n\n                     Eolien (MW)  Hydraulique (MW)  Annee  Mois  Jour  Heure   \nDatetime                                                                       \n2012-01-01 01:00:00    63.768199            7598.0   2012     1     1      1  \\\n2012-01-01 01:15:00    63.678029            7448.5   2012     1     1      1   \n2012-01-01 01:30:00    63.587859            7299.0   2012     1     1      1   \n2012-01-01 01:45:00    63.669012            7229.0   2012     1     1      1   \n2012-01-01 02:00:00    63.750165            7159.0   2012     1     1      2   \n...                          ...               ...    ...   ...   ...    ...   \n2023-05-10 13:45:00    35.917932            6661.0   2023     5    10     13   \n2023-05-10 14:00:00    37.196585            6695.0   2023     5    10     14   \n2023-05-10 14:15:00    39.156329            6784.0   2023     5    10     14   \n2023-05-10 14:30:00    40.216518            6495.0   2023     5    10     14   \n2023-05-10 14:45:00    39.824569            6568.0   2023     5    10     14   \n\n                     Minute  Production Residuelle (MW)  \nDatetime                                                 \n2012-01-01 01:00:00       0                78903.398418  \n2012-01-01 01:15:00      15                78651.558488  \n2012-01-01 01:30:00      30                78399.718558  \n2012-01-01 01:45:00      45                78763.524495  \n2012-01-01 02:00:00       0                79127.330432  \n...                     ...                         ...  \n2023-05-10 13:45:00      45               115711.948953  \n2023-05-10 14:00:00       0               116569.176900  \n2023-05-10 14:15:00      15               123414.864377  \n2023-05-10 14:30:00      30               123969.245968  \n2023-05-10 14:45:00      45               121966.857636  \n\n[399608 rows x 23 columns]",
      "text/html": "<div>\n<style scoped>\n    .dataframe tbody tr th:only-of-type {\n        vertical-align: middle;\n    }\n\n    .dataframe tbody tr th {\n        vertical-align: top;\n    }\n\n    .dataframe thead th {\n        text-align: right;\n    }\n</style>\n<table border=\"1\" class=\"dataframe\">\n  <thead>\n    <tr style=\"text-align: right;\">\n      <th></th>\n      <th>Pression au niveau mer</th>\n      <th>Variation de pression en 3 heures</th>\n      <th>Température</th>\n      <th>Humidité</th>\n      <th>Consommation (MW)</th>\n      <th>Holiday</th>\n      <th>A</th>\n      <th>B</th>\n      <th>C</th>\n      <th>Confinement</th>\n      <th>...</th>\n      <th>Prix Elec 1kWh</th>\n      <th>Solaire (MW)</th>\n      <th>Eolien (MW)</th>\n      <th>Hydraulique (MW)</th>\n      <th>Annee</th>\n      <th>Mois</th>\n      <th>Jour</th>\n      <th>Heure</th>\n      <th>Minute</th>\n      <th>Production Residuelle (MW)</th>\n    </tr>\n    <tr>\n      <th>Datetime</th>\n      <th></th>\n      <th></th>\n      <th></th>\n      <th></th>\n      <th></th>\n      <th></th>\n      <th></th>\n      <th></th>\n      <th></th>\n      <th></th>\n      <th></th>\n      <th></th>\n      <th></th>\n      <th></th>\n      <th></th>\n      <th></th>\n      <th></th>\n      <th></th>\n      <th></th>\n      <th></th>\n      <th></th>\n    </tr>\n  </thead>\n  <tbody>\n    <tr>\n      <th>2012-01-01 01:00:00</th>\n      <td>101912.1325</td>\n      <td>-26.204878</td>\n      <td>284.441001</td>\n      <td>90.875456</td>\n      <td>56231.0</td>\n      <td>True</td>\n      <td>True</td>\n      <td>True</td>\n      <td>True</td>\n      <td>0</td>\n      <td>...</td>\n      <td>69.37</td>\n      <td>0.000000</td>\n      <td>63.768199</td>\n      <td>7598.0</td>\n      <td>2012</td>\n      <td>1</td>\n      <td>1</td>\n      <td>1</td>\n      <td>0</td>\n      <td>78903.398418</td>\n    </tr>\n    <tr>\n      <th>2012-01-01 01:15:00</th>\n      <td>101909.5278</td>\n      <td>-26.399241</td>\n      <td>284.418138</td>\n      <td>91.010688</td>\n      <td>56153.0</td>\n      <td>True</td>\n      <td>True</td>\n      <td>True</td>\n      <td>True</td>\n      <td>0</td>\n      <td>...</td>\n      <td>69.37</td>\n      <td>0.000000</td>\n      <td>63.678029</td>\n      <td>7448.5</td>\n      <td>2012</td>\n      <td>1</td>\n      <td>1</td>\n      <td>1</td>\n      <td>15</td>\n      <td>78651.558488</td>\n    </tr>\n    <tr>\n      <th>2012-01-01 01:30:00</th>\n      <td>101906.9230</td>\n      <td>-26.593603</td>\n      <td>284.395274</td>\n      <td>91.145920</td>\n      <td>56075.0</td>\n      <td>True</td>\n      <td>True</td>\n      <td>True</td>\n      <td>True</td>\n      <td>0</td>\n      <td>...</td>\n      <td>69.37</td>\n      <td>0.000000</td>\n      <td>63.587859</td>\n      <td>7299.0</td>\n      <td>2012</td>\n      <td>1</td>\n      <td>1</td>\n      <td>1</td>\n      <td>30</td>\n      <td>78399.718558</td>\n    </tr>\n    <tr>\n      <th>2012-01-01 01:45:00</th>\n      <td>101904.3182</td>\n      <td>-26.787965</td>\n      <td>284.372410</td>\n      <td>91.281152</td>\n      <td>55803.5</td>\n      <td>True</td>\n      <td>True</td>\n      <td>True</td>\n      <td>True</td>\n      <td>0</td>\n      <td>...</td>\n      <td>69.37</td>\n      <td>0.000000</td>\n      <td>63.669012</td>\n      <td>7229.0</td>\n      <td>2012</td>\n      <td>1</td>\n      <td>1</td>\n      <td>1</td>\n      <td>45</td>\n      <td>78763.524495</td>\n    </tr>\n    <tr>\n      <th>2012-01-01 02:00:00</th>\n      <td>101901.7134</td>\n      <td>-26.982327</td>\n      <td>284.349546</td>\n      <td>91.416384</td>\n      <td>55532.0</td>\n      <td>True</td>\n      <td>True</td>\n      <td>True</td>\n      <td>True</td>\n      <td>0</td>\n      <td>...</td>\n      <td>69.37</td>\n      <td>0.000000</td>\n      <td>63.750165</td>\n      <td>7159.0</td>\n      <td>2012</td>\n      <td>1</td>\n      <td>1</td>\n      <td>2</td>\n      <td>0</td>\n      <td>79127.330432</td>\n    </tr>\n    <tr>\n      <th>...</th>\n      <td>...</td>\n      <td>...</td>\n      <td>...</td>\n      <td>...</td>\n      <td>...</td>\n      <td>...</td>\n      <td>...</td>\n      <td>...</td>\n      <td>...</td>\n      <td>...</td>\n      <td>...</td>\n      <td>...</td>\n      <td>...</td>\n      <td>...</td>\n      <td>...</td>\n      <td>...</td>\n      <td>...</td>\n      <td>...</td>\n      <td>...</td>\n      <td>...</td>\n      <td>...</td>\n    </tr>\n    <tr>\n      <th>2023-05-10 13:45:00</th>\n      <td>101690.4182</td>\n      <td>-5.555157</td>\n      <td>288.633609</td>\n      <td>67.142344</td>\n      <td>48632.0</td>\n      <td>False</td>\n      <td>False</td>\n      <td>False</td>\n      <td>False</td>\n      <td>0</td>\n      <td>...</td>\n      <td>104.08</td>\n      <td>85.847085</td>\n      <td>35.917932</td>\n      <td>6661.0</td>\n      <td>2023</td>\n      <td>5</td>\n      <td>10</td>\n      <td>13</td>\n      <td>45</td>\n      <td>115711.948953</td>\n    </tr>\n    <tr>\n      <th>2023-05-10 14:00:00</th>\n      <td>101688.5445</td>\n      <td>-11.812752</td>\n      <td>288.791610</td>\n      <td>66.369890</td>\n      <td>48073.0</td>\n      <td>False</td>\n      <td>False</td>\n      <td>False</td>\n      <td>False</td>\n      <td>0</td>\n      <td>...</td>\n      <td>104.08</td>\n      <td>83.554008</td>\n      <td>37.196585</td>\n      <td>6695.0</td>\n      <td>2023</td>\n      <td>5</td>\n      <td>10</td>\n      <td>14</td>\n      <td>0</td>\n      <td>116569.176900</td>\n    </tr>\n    <tr>\n      <th>2023-05-10 14:15:00</th>\n      <td>101683.9215</td>\n      <td>-15.072847</td>\n      <td>288.828798</td>\n      <td>66.207288</td>\n      <td>48427.0</td>\n      <td>False</td>\n      <td>False</td>\n      <td>False</td>\n      <td>False</td>\n      <td>0</td>\n      <td>...</td>\n      <td>104.08</td>\n      <td>86.745207</td>\n      <td>39.156329</td>\n      <td>6784.0</td>\n      <td>2023</td>\n      <td>5</td>\n      <td>10</td>\n      <td>14</td>\n      <td>15</td>\n      <td>123414.864377</td>\n    </tr>\n    <tr>\n      <th>2023-05-10 14:30:00</th>\n      <td>101679.2986</td>\n      <td>-18.332943</td>\n      <td>288.865986</td>\n      <td>66.044685</td>\n      <td>47688.0</td>\n      <td>False</td>\n      <td>False</td>\n      <td>False</td>\n      <td>False</td>\n      <td>0</td>\n      <td>...</td>\n      <td>104.08</td>\n      <td>84.729210</td>\n      <td>40.216518</td>\n      <td>6495.0</td>\n      <td>2023</td>\n      <td>5</td>\n      <td>10</td>\n      <td>14</td>\n      <td>30</td>\n      <td>123969.245968</td>\n    </tr>\n    <tr>\n      <th>2023-05-10 14:45:00</th>\n      <td>101674.6756</td>\n      <td>-21.593038</td>\n      <td>288.903174</td>\n      <td>65.882083</td>\n      <td>47403.0</td>\n      <td>False</td>\n      <td>False</td>\n      <td>False</td>\n      <td>False</td>\n      <td>0</td>\n      <td>...</td>\n      <td>104.08</td>\n      <td>83.152719</td>\n      <td>39.824569</td>\n      <td>6568.0</td>\n      <td>2023</td>\n      <td>5</td>\n      <td>10</td>\n      <td>14</td>\n      <td>45</td>\n      <td>121966.857636</td>\n    </tr>\n  </tbody>\n</table>\n<p>399608 rows × 23 columns</p>\n</div>"
     },
     "execution_count": 218,
     "metadata": {},
     "output_type": "execute_result"
    }
   ],
   "source": [
    "data"
   ],
   "metadata": {
    "collapsed": false,
    "ExecuteTime": {
     "end_time": "2023-05-19T10:47:49.468786100Z",
     "start_time": "2023-05-19T10:47:49.377261300Z"
    }
   }
  },
  {
   "cell_type": "code",
   "execution_count": 219,
   "outputs": [],
   "source": [
    "from sklearn.preprocessing import RobustScaler\n",
    "\n",
    "scaler = RobustScaler()\n",
    "\n",
    "# Normalisation pour les autres colonnes\n",
    "data_normal = scaler.fit_transform(data.drop(columns=['Annee']))\n",
    "\n",
    "# Normalisation personnalisée pour la colonne 'Annee'\n",
    "annee_min = 2000\n",
    "annee_max = 2100\n",
    "annee_normal = (data['Annee'] - annee_min) / (annee_max - annee_min) * 2 - 1\n",
    "\n",
    "# Concaténer les données normalisées des autres colonnes avec la colonne 'Annee' normalisée\n",
    "data_scaled = np.hstack((data_normal, annee_normal.to_numpy().reshape(-1, 1)))\n"
   ],
   "metadata": {
    "collapsed": false,
    "ExecuteTime": {
     "end_time": "2023-05-19T10:48:29.355917600Z",
     "start_time": "2023-05-19T10:48:28.827675700Z"
    }
   }
  },
  {
   "cell_type": "code",
   "execution_count": 220,
   "outputs": [
    {
     "data": {
      "text/plain": "array([[ 0.17452643, -0.24595539, -0.05556952, ..., -1.        ,\n         0.81728058, -0.76      ],\n       [ 0.17181608, -0.24773119, -0.0578493 , ..., -0.33333333,\n         0.81346728, -0.76      ],\n       [ 0.16910563, -0.24950698, -0.06012909, ...,  0.33333333,\n         0.80965398, -0.76      ],\n       ...,\n       [-0.06294111, -0.14424735,  0.38194678, ..., -0.33333333,\n         1.49126202, -0.54      ],\n       [-0.06775152, -0.17403328,  0.38565486, ...,  0.33333333,\n         1.49965633, -0.54      ],\n       [-0.07256203, -0.20381922,  0.38936296, ...,  1.        ,\n         1.46933667, -0.54      ]])"
     },
     "execution_count": 220,
     "metadata": {},
     "output_type": "execute_result"
    }
   ],
   "source": [
    "data_scaled"
   ],
   "metadata": {
    "collapsed": false,
    "ExecuteTime": {
     "end_time": "2023-05-19T10:48:29.845269500Z",
     "start_time": "2023-05-19T10:48:29.824263500Z"
    }
   }
  },
  {
   "cell_type": "code",
   "execution_count": null,
   "outputs": [],
   "source": [],
   "metadata": {
    "collapsed": false
   }
  },
  {
   "cell_type": "markdown",
   "source": [
    "# Permet de retransformer mon scaled_data en original data sur une ligne :"
   ],
   "metadata": {
    "collapsed": false
   }
  },
  {
   "cell_type": "code",
   "execution_count": 221,
   "outputs": [],
   "source": [
    "original_data = np.hstack((scaler.inverse_transform(data_scaled[:,:-1]), ((data_scaled[:,-1] + 1) * (annee_max - annee_min) / 2 + annee_min).reshape(-1,1)))"
   ],
   "metadata": {
    "collapsed": false,
    "ExecuteTime": {
     "end_time": "2023-05-19T10:48:33.492253300Z",
     "start_time": "2023-05-19T10:48:33.416254400Z"
    }
   }
  },
  {
   "cell_type": "code",
   "execution_count": 222,
   "outputs": [
    {
     "data": {
      "text/plain": "array([[ 1.01912133e+05, -2.62048783e+01,  2.84441001e+02, ...,\n         0.00000000e+00,  7.89033984e+04,  2.01200000e+03],\n       [ 1.01909528e+05, -2.63992405e+01,  2.84418138e+02, ...,\n         1.50000000e+01,  7.86515585e+04,  2.01200000e+03],\n       [ 1.01906923e+05, -2.65936028e+01,  2.84395274e+02, ...,\n         3.00000000e+01,  7.83997186e+04,  2.01200000e+03],\n       ...,\n       [ 1.01683921e+05, -1.50728472e+01,  2.88828798e+02, ...,\n         1.50000000e+01,  1.23414864e+05,  2.02300000e+03],\n       [ 1.01679299e+05, -1.83329427e+01,  2.88865986e+02, ...,\n         3.00000000e+01,  1.23969246e+05,  2.02300000e+03],\n       [ 1.01674676e+05, -2.15930382e+01,  2.88903174e+02, ...,\n         4.50000000e+01,  1.21966858e+05,  2.02300000e+03]])"
     },
     "execution_count": 222,
     "metadata": {},
     "output_type": "execute_result"
    }
   ],
   "source": [
    "original_data"
   ],
   "metadata": {
    "collapsed": false,
    "ExecuteTime": {
     "end_time": "2023-05-19T10:48:33.743264800Z",
     "start_time": "2023-05-19T10:48:33.726260800Z"
    }
   }
  },
  {
   "cell_type": "code",
   "execution_count": null,
   "outputs": [],
   "source": [],
   "metadata": {
    "collapsed": false
   }
  },
  {
   "cell_type": "markdown",
   "source": [
    "# Ajustement du self._state"
   ],
   "metadata": {
    "collapsed": false
   }
  },
  {
   "cell_type": "code",
   "execution_count": 171,
   "outputs": [],
   "source": [
    "lake_inflows = [1.3642965, 1.917242, 1.8321275, 1.418871, 1.0358125, 1.5900905, 1.1641765, 0.9302595,\n",
    "                             1.053223, 0.9381, 0.861544, 1.7097345]"
   ],
   "metadata": {
    "collapsed": false,
    "ExecuteTime": {
     "end_time": "2023-05-19T10:16:02.053256600Z",
     "start_time": "2023-05-19T10:16:02.048255800Z"
    }
   }
  },
  {
   "cell_type": "code",
   "execution_count": 199,
   "outputs": [
    {
     "name": "stdout",
     "output_type": "stream",
     "text": [
      "399512\n"
     ]
    }
   ],
   "source": [
    "current_index = 0\n",
    "max_index = len(data_scaled) - 96\n",
    "current_index = max_index\n",
    "print(max_index)\n",
    "\"\"\"state = np.concatenate((\n",
    "            [np.random.rand(), np.random.rand(), np.random.rand() * .2, lake_inflows[0] / 2000],\n",
    "            # Rajouter les 96 prévisions,\n",
    "            data_scaled[current_index, :]\n",
    "        ))\"\"\""
   ],
   "metadata": {
    "collapsed": false,
    "ExecuteTime": {
     "end_time": "2023-05-19T10:23:01.175933300Z",
     "start_time": "2023-05-19T10:23:01.164930600Z"
    }
   }
  },
  {
   "cell_type": "code",
   "execution_count": 200,
   "outputs": [
    {
     "data": {
      "text/plain": "array([ 3.88382668e-01,  8.05395340e-03,  1.49664686e-01,  6.82148250e-04,\n       -3.24413564e-01, -5.74259980e-01,  4.40269761e-01,  3.09007960e-01,\n       -2.97176128e-01,  0.00000000e+00,  0.00000000e+00,  0.00000000e+00,\n        0.00000000e+00,  0.00000000e+00, -2.84023669e-01, -2.32352941e-01,\n        0.00000000e+00,  7.63203463e-01,  1.16253255e+00,  2.74530652e-01,\n       -1.75824176e-01, -1.66666667e-01, -4.66666667e-01,  3.33333333e-01,\n       -1.00000000e+00, -5.40000000e-01])"
     },
     "execution_count": 200,
     "metadata": {},
     "output_type": "execute_result"
    }
   ],
   "source": [
    "# state"
   ],
   "metadata": {
    "collapsed": false,
    "ExecuteTime": {
     "end_time": "2023-05-19T10:23:02.578253800Z",
     "start_time": "2023-05-19T10:23:02.557256700Z"
    }
   }
  },
  {
   "cell_type": "code",
   "execution_count": 201,
   "outputs": [],
   "source": [
    "values = data_scaled[current_index:current_index+96,10]"
   ],
   "metadata": {
    "collapsed": false,
    "ExecuteTime": {
     "end_time": "2023-05-19T10:23:03.443931900Z",
     "start_time": "2023-05-19T10:23:03.441930700Z"
    }
   }
  },
  {
   "cell_type": "code",
   "execution_count": 202,
   "outputs": [
    {
     "data": {
      "text/plain": "array([-0.28402367, -0.29881657, -0.31360947, -0.34023669, -0.36686391,\n       -0.38461538, -0.40236686, -0.41420118, -0.4260355 , -0.44970414,\n       -0.47337278, -0.44674556, -0.42011834, -0.41420118, -0.40828402,\n       -0.35798817, -0.30769231, -0.30769231, -0.30769231, -0.33431953,\n       -0.36094675, -0.40236686, -0.44378698, -0.46449704, -0.4852071 ,\n       -0.5       , -0.5147929 , -0.50591716, -0.49704142, -0.50591716,\n       -0.5147929 , -0.4704142 , -0.4260355 , -0.42307692, -0.42011834,\n       -0.49704142, -0.5739645 , -0.6183432 , -0.66272189, -0.71597633,\n       -0.76923077, -0.75443787, -0.73964497, -0.75443787, -0.76923077,\n       -0.80473373, -0.84023669, -0.87278107, -0.90532544, -0.92899408,\n       -0.95266272, -0.9704142 , -0.98816568, -0.99112426, -0.99408284,\n       -0.9852071 , -0.97633136, -0.93786982, -0.89940828, -0.84911243,\n       -0.79881657, -0.75443787, -0.71005917, -0.65088757, -0.59171598,\n       -0.52071006, -0.44970414, -0.40236686, -0.35502959, -0.31360947,\n       -0.27218935, -0.26331361, -0.25443787, -0.22781065, -0.20118343,\n       -0.18934911, -0.17751479, -0.18047337, -0.18343195, -0.17159763,\n       -0.15976331, -0.14792899, -0.13609467, -0.11538462, -0.09467456,\n       -0.10946746, -0.12426036, -0.08284024, -0.04142012, -0.1183432 ,\n       -0.19526627, -0.19822485, -0.20118343, -0.22781065, -0.25443787,\n       -0.26923077])"
     },
     "execution_count": 202,
     "metadata": {},
     "output_type": "execute_result"
    }
   ],
   "source": [
    "values"
   ],
   "metadata": {
    "collapsed": false,
    "ExecuteTime": {
     "end_time": "2023-05-19T10:23:03.964428Z",
     "start_time": "2023-05-19T10:23:03.950269600Z"
    }
   }
  },
  {
   "cell_type": "code",
   "execution_count": 206,
   "outputs": [],
   "source": [
    "state = np.concatenate((\n",
    "            [np.random.rand(), np.random.rand(), np.random.rand() * .2, lake_inflows[0] / 2000],\n",
    "            data_scaled[current_index:current_index+96,10],\n",
    "            data_scaled[current_index, :]\n",
    "))"
   ],
   "metadata": {
    "collapsed": false,
    "ExecuteTime": {
     "end_time": "2023-05-19T10:25:13.044915200Z",
     "start_time": "2023-05-19T10:25:13.034901200Z"
    }
   }
  },
  {
   "cell_type": "code",
   "execution_count": 207,
   "outputs": [
    {
     "data": {
      "text/plain": "array([ 2.48625823e-01,  6.12288493e-01,  1.08775934e-02,  6.82148250e-04,\n       -2.84023669e-01, -2.98816568e-01, -3.13609467e-01, -3.40236686e-01,\n       -3.66863905e-01, -3.84615385e-01, -4.02366864e-01, -4.14201183e-01,\n       -4.26035503e-01, -4.49704142e-01, -4.73372781e-01, -4.46745562e-01,\n       -4.20118343e-01, -4.14201183e-01, -4.08284024e-01, -3.57988166e-01,\n       -3.07692308e-01, -3.07692308e-01, -3.07692308e-01, -3.34319527e-01,\n       -3.60946746e-01, -4.02366864e-01, -4.43786982e-01, -4.64497041e-01,\n       -4.85207101e-01, -5.00000000e-01, -5.14792899e-01, -5.05917160e-01,\n       -4.97041420e-01, -5.05917160e-01, -5.14792899e-01, -4.70414201e-01,\n       -4.26035503e-01, -4.23076923e-01, -4.20118343e-01, -4.97041420e-01,\n       -5.73964497e-01, -6.18343195e-01, -6.62721893e-01, -7.15976331e-01,\n       -7.69230769e-01, -7.54437870e-01, -7.39644970e-01, -7.54437870e-01,\n       -7.69230769e-01, -8.04733728e-01, -8.40236686e-01, -8.72781065e-01,\n       -9.05325444e-01, -9.28994083e-01, -9.52662722e-01, -9.70414201e-01,\n       -9.88165680e-01, -9.91124260e-01, -9.94082840e-01, -9.85207101e-01,\n       -9.76331361e-01, -9.37869822e-01, -8.99408284e-01, -8.49112426e-01,\n       -7.98816568e-01, -7.54437870e-01, -7.10059172e-01, -6.50887574e-01,\n       -5.91715976e-01, -5.20710059e-01, -4.49704142e-01, -4.02366864e-01,\n       -3.55029586e-01, -3.13609467e-01, -2.72189349e-01, -2.63313609e-01,\n       -2.54437870e-01, -2.27810651e-01, -2.01183432e-01, -1.89349112e-01,\n       -1.77514793e-01, -1.80473373e-01, -1.83431953e-01, -1.71597633e-01,\n       -1.59763314e-01, -1.47928994e-01, -1.36094675e-01, -1.15384615e-01,\n       -9.46745562e-02, -1.09467456e-01, -1.24260355e-01, -8.28402367e-02,\n       -4.14201183e-02, -1.18343195e-01, -1.95266272e-01, -1.98224852e-01,\n       -2.01183432e-01, -2.27810651e-01, -2.54437870e-01, -2.69230769e-01,\n       -3.24413564e-01, -5.74259980e-01,  4.40269761e-01,  3.09007960e-01,\n       -2.97176128e-01,  0.00000000e+00,  0.00000000e+00,  0.00000000e+00,\n        0.00000000e+00,  0.00000000e+00, -2.84023669e-01, -2.32352941e-01,\n        0.00000000e+00,  7.63203463e-01,  1.16253255e+00,  2.74530652e-01,\n       -1.75824176e-01, -1.66666667e-01, -4.66666667e-01,  3.33333333e-01,\n       -1.00000000e+00, -5.40000000e-01])"
     },
     "execution_count": 207,
     "metadata": {},
     "output_type": "execute_result"
    }
   ],
   "source": [
    "state"
   ],
   "metadata": {
    "collapsed": false,
    "ExecuteTime": {
     "end_time": "2023-05-19T10:25:13.403308800Z",
     "start_time": "2023-05-19T10:25:13.391306300Z"
    }
   }
  },
  {
   "cell_type": "code",
   "execution_count": null,
   "outputs": [],
   "source": [],
   "metadata": {
    "collapsed": false
   }
  },
  {
   "cell_type": "markdown",
   "source": [
    "# Dénormaliser une seul colonne de mon ndarary normalisé avec RobustScaler()\n",
    "pas possible => utilisation de self.data (data frame non normalisé)"
   ],
   "metadata": {
    "collapsed": false
   }
  },
  {
   "cell_type": "code",
   "execution_count": 224,
   "outputs": [
    {
     "ename": "ValueError",
     "evalue": "non-broadcastable output operand with shape (399608,1) doesn't match the broadcast shape (399608,22)",
     "output_type": "error",
     "traceback": [
      "\u001B[1;31m---------------------------------------------------------------------------\u001B[0m",
      "\u001B[1;31mValueError\u001B[0m                                Traceback (most recent call last)",
      "Cell \u001B[1;32mIn[224], line 1\u001B[0m\n\u001B[1;32m----> 1\u001B[0m prodRes \u001B[38;5;241m=\u001B[39m \u001B[43mscaler\u001B[49m\u001B[38;5;241;43m.\u001B[39;49m\u001B[43minverse_transform\u001B[49m\u001B[43m(\u001B[49m\u001B[43mdata_scaled\u001B[49m\u001B[43m[\u001B[49m\u001B[43m:\u001B[49m\u001B[43m,\u001B[49m\u001B[38;5;241;43m21\u001B[39;49m\u001B[43m]\u001B[49m\u001B[38;5;241;43m.\u001B[39;49m\u001B[43mreshape\u001B[49m\u001B[43m(\u001B[49m\u001B[38;5;241;43m-\u001B[39;49m\u001B[38;5;241;43m1\u001B[39;49m\u001B[43m,\u001B[49m\u001B[38;5;241;43m1\u001B[39;49m\u001B[43m)\u001B[49m\u001B[43m)\u001B[49m\n",
      "File \u001B[1;32mc:\\users\\doria\\appdata\\local\\programs\\python\\python38\\lib\\site-packages\\sklearn\\preprocessing\\_data.py:1623\u001B[0m, in \u001B[0;36mRobustScaler.inverse_transform\u001B[1;34m(self, X)\u001B[0m\n\u001B[0;32m   1621\u001B[0m \u001B[38;5;28;01melse\u001B[39;00m:\n\u001B[0;32m   1622\u001B[0m     \u001B[38;5;28;01mif\u001B[39;00m \u001B[38;5;28mself\u001B[39m\u001B[38;5;241m.\u001B[39mwith_scaling:\n\u001B[1;32m-> 1623\u001B[0m         X \u001B[38;5;241m*\u001B[39m\u001B[38;5;241m=\u001B[39m \u001B[38;5;28mself\u001B[39m\u001B[38;5;241m.\u001B[39mscale_\n\u001B[0;32m   1624\u001B[0m     \u001B[38;5;28;01mif\u001B[39;00m \u001B[38;5;28mself\u001B[39m\u001B[38;5;241m.\u001B[39mwith_centering:\n\u001B[0;32m   1625\u001B[0m         X \u001B[38;5;241m+\u001B[39m\u001B[38;5;241m=\u001B[39m \u001B[38;5;28mself\u001B[39m\u001B[38;5;241m.\u001B[39mcenter_\n",
      "\u001B[1;31mValueError\u001B[0m: non-broadcastable output operand with shape (399608,1) doesn't match the broadcast shape (399608,22)"
     ]
    }
   ],
   "source": [
    "prodRes = scaler.inverse_transform(data_scaled[:,:-1])"
   ],
   "metadata": {
    "collapsed": false,
    "ExecuteTime": {
     "end_time": "2023-05-19T10:50:00.997254300Z",
     "start_time": "2023-05-19T10:50:00.960260Z"
    }
   }
  },
  {
   "cell_type": "code",
   "execution_count": 226,
   "outputs": [
    {
     "name": "stdout",
     "output_type": "stream",
     "text": [
      "15\n"
     ]
    }
   ],
   "source": [
    "pasTemp = data['Minute'][current_index-1] - data['Minute'][current_index - 2]\n",
    "print(pasTemp)"
   ],
   "metadata": {
    "collapsed": false,
    "ExecuteTime": {
     "end_time": "2023-05-19T11:06:07.858260500Z",
     "start_time": "2023-05-19T11:06:07.852259200Z"
    }
   }
  },
  {
   "cell_type": "code",
   "execution_count": 246,
   "outputs": [
    {
     "data": {
      "text/plain": "<Figure size 640x480 with 1 Axes>",
      "image/png": "[encoded data removed]"
     },
     "metadata": {},
     "output_type": "display_data"
    }
   ],
   "source": [
    "plt.hist(np.random.normal(937,0.05*937,10000), bins='auto')\n",
    "plt.show()"
   ],
   "metadata": {
    "collapsed": false,
    "ExecuteTime": {
     "end_time": "2023-05-19T11:53:42.052335200Z",
     "start_time": "2023-05-19T11:53:41.894299Z"
    }
   }
  },
  {
   "cell_type": "code",
   "execution_count": 252,
   "outputs": [
    {
     "data": {
      "text/plain": "<Figure size 640x480 with 1 Axes>",
      "image/png": "[encoded data removed]"
     },
     "metadata": {},
     "output_type": "display_data"
    }
   ],
   "source": [
    "plt.hist(np.random.normal(937,50,100000), bins='auto')\n",
    "plt.show()"
   ],
   "metadata": {
    "collapsed": false,
    "ExecuteTime": {
     "end_time": "2023-05-19T11:54:57.895302100Z",
     "start_time": "2023-05-19T11:54:57.698257300Z"
    }
   }
  },
  {
   "cell_type": "code",
   "execution_count": null,
   "outputs": [],
   "source": [
    "np.size(\n",
    "    [[ 9.78989780e-01,  5.81352174e-01,  9.16908011e-02,\n",
    "         6.82148268e-04,  2.01183438e-01,  2.10059166e-01,\n",
    "         2.18934909e-01,  2.07100585e-01,  1.95266277e-01,\n",
    "         1.53846160e-01,  1.12426035e-01,  3.84615399e-02,\n",
    "        -3.55029590e-02, -9.17159766e-02, -1.47928998e-01,\n",
    "        -1.95266277e-01, -2.42603555e-01, -2.78106511e-01,\n",
    "        -3.13609481e-01, -3.34319532e-01, -3.55029583e-01,\n",
    "        -3.69822472e-01, -3.84615391e-01, -3.96449715e-01,\n",
    "        -4.08284038e-01, -4.11242604e-01, -4.14201170e-01,\n",
    "        -4.20118332e-01, -4.26035494e-01, -4.26035494e-01,\n",
    "        -4.26035494e-01, -4.20118332e-01, -4.14201170e-01,\n",
    "        -4.23076928e-01, -4.31952655e-01, -4.26035494e-01,\n",
    "        -4.20118332e-01, -3.90532553e-01, -3.60946745e-01,\n",
    "        -3.37278098e-01, -3.13609481e-01, -2.84023672e-01,\n",
    "        -2.54437864e-01, -2.36686394e-01, -2.18934909e-01,\n",
    "        -1.89349115e-01, -1.59763306e-01, -1.30177513e-01,\n",
    "        -1.00591719e-01, -5.32544367e-02, -5.91715984e-03,\n",
    "         3.25443782e-02,  7.10059181e-02,  2.36686394e-02,\n",
    "        -2.36686394e-02, -6.50887564e-02, -1.06508873e-01,\n",
    "        -1.24260359e-01, -1.42011836e-01, -1.77514791e-01,\n",
    "        -2.13017747e-01, -2.27810651e-01, -2.42603555e-01,\n",
    "        -2.60355026e-01, -2.78106511e-01, -2.75147915e-01,\n",
    "        -2.72189349e-01, -2.39644974e-01, -2.07100585e-01,\n",
    "        -1.36094674e-01, -6.50887564e-02,  1.77514795e-02,\n",
    "         1.00591719e-01,  1.39053255e-01,  1.77514791e-01,\n",
    "         2.18934909e-01,  2.60355026e-01,  2.69230783e-01,\n",
    "         2.78106511e-01,  2.84023672e-01,  2.89940834e-01,\n",
    "         2.72189349e-01,  2.54437864e-01,  2.36686394e-01,\n",
    "         2.18934909e-01,  1.74556211e-01,  1.30177513e-01,\n",
    "         9.76331383e-02,  6.50887564e-02,  1.03550293e-01,\n",
    "         1.42011836e-01,  2.01183438e-01,  2.60355026e-01,\n",
    "         2.15976328e-01,  1.71597630e-01,  1.39053255e-01,\n",
    "         1.30177513e-01,  7.69230798e-02,  2.36686394e-02,\n",
    "        -4.43786979e-02,  1.74526423e-01, -2.45955393e-01,\n",
    "        -5.55695146e-02,  7.12784350e-01,  2.48034939e-01,\n",
    "         1.00000000e+00,  1.00000000e+00,  1.00000000e+00,\n",
    "         1.00000000e+00,  0.00000000e+00,  2.01183438e-01,\n",
    "         2.02941179e-01,  1.00000000e+00,  1.19047621e-02,\n",
    "        -1.49933910e-02,  1.41854632e+00,  1.98051944e-01,\n",
    "         8.17280591e-01, -8.33333313e-01, -1.00000000e+00,\n",
    "        -8.33333313e-01, -1.00000000e+00, -7.59999990e-01]]\n",
    ")"
   ],
   "metadata": {
    "collapsed": false
   }
  }
 ],
 "metadata": {
  "kernelspec": {
   "display_name": "Python 3",
   "language": "python",
   "name": "python3"
  },
  "language_info": {
   "codemirror_mode": {
    "name": "ipython",
    "version": 2
   },
   "file_extension": ".py",
   "mimetype": "text/x-python",
   "name": "python",
   "nbconvert_exporter": "python",
   "pygments_lexer": "ipython2",
   "version": "2.7.6"
  }
 },
 "nbformat": 4,
 "nbformat_minor": 0
}
