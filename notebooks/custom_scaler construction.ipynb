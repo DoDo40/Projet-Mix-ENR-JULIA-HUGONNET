{
 "cells": [
  {
   "cell_type": "markdown",
   "source": [
    "# Création du custom scaler\n",
    "\n",
    "Donc je veux créer un min_max_scaler qui scale toujours de la même manière.\n"
   ],
   "metadata": {
    "collapsed": false
   }
  },
  {
   "cell_type": "code",
   "execution_count": 7,
   "outputs": [],
   "source": [
    "import numpy as np\n",
    "import pandas as pd\n",
    "import data_processing as dp"
   ],
   "metadata": {
    "collapsed": false,
    "ExecuteTime": {
     "end_time": "2023-05-25T13:18:47.676704100Z",
     "start_time": "2023-05-25T13:18:47.663702100Z"
    }
   }
  },
  {
   "cell_type": "code",
   "execution_count": 3,
   "outputs": [],
   "source": [
    "data_clean = pd.read_csv('../data/data_clean3.csv', sep=';', parse_dates=['Datetime']).set_index('Datetime')\n",
    "prodSol = pd.read_csv('../data/prod/prodSol.csv', sep=';', parse_dates=['Datetime']).set_index('Datetime')\n",
    "prodEol = pd.read_csv('../data/prod/prodEol.csv', sep=';', parse_dates=['Datetime']).set_index('Datetime')\n",
    "prodRiv = pd.read_csv('../data/prod/prodRiv.csv', sep=';', parse_dates=['Datetime']).set_index('Datetime')"
   ],
   "metadata": {
    "collapsed": false,
    "ExecuteTime": {
     "end_time": "2023-05-25T13:17:19.848544500Z",
     "start_time": "2023-05-25T13:17:17.408125100Z"
    }
   }
  },
  {
   "cell_type": "code",
   "execution_count": 4,
   "outputs": [],
   "source": [
    "pv=122\n",
    "onshore=80\n",
    "offshore=13"
   ],
   "metadata": {
    "collapsed": false,
    "ExecuteTime": {
     "end_time": "2023-05-25T13:17:43.460178800Z",
     "start_time": "2023-05-25T13:17:43.433172300Z"
    }
   }
  },
  {
   "cell_type": "code",
   "execution_count": 8,
   "outputs": [],
   "source": [
    "data = pd.merge(data_clean,(prodSol * pv).merge((prodEol * (offshore + onshore)).merge(prodRiv, on='Datetime'),\n",
    "                                                  on='Datetime'), on='Datetime')\n",
    "data['Production Residuelle (MW)'] = dp.prodRes(Conso=data['Consommation (MW)'],\n",
    "                                                             prodEol=data['Eolien (TW)'],\n",
    "                                                             prodSol=data['Solaire (TW)'],\n",
    "                                                             prodRiv=data['Hydraulique (MW)'],\n",
    "                                                             pv=1, onshore=1, offshore=1)  # prod data already processed\n",
    "data['Annee'] = data.index.year\n",
    "data['Mois'] = data.index.month\n",
    "data['Jour'] = data.index.day\n",
    "data['Heure'] = data.index.hour\n",
    "data['Minute'] = data.index.minute"
   ],
   "metadata": {
    "collapsed": false,
    "ExecuteTime": {
     "end_time": "2023-05-25T13:18:49.627088300Z",
     "start_time": "2023-05-25T13:18:48.780363100Z"
    }
   }
  },
  {
   "cell_type": "code",
   "execution_count": 54,
   "outputs": [
    {
     "data": {
      "text/plain": "                     Pression au niveau mer   \nDatetime                                      \n2012-01-01 01:00:00             101912.1325  \\\n2012-01-01 01:15:00             101909.5278   \n2012-01-01 01:30:00             101906.9230   \n2012-01-01 01:45:00             101904.3182   \n2012-01-01 02:00:00             101901.7134   \n...                                     ...   \n2023-05-10 13:45:00             101690.4182   \n2023-05-10 14:00:00             101688.5445   \n2023-05-10 14:15:00             101683.9215   \n2023-05-10 14:30:00             101679.2986   \n2023-05-10 14:45:00             101674.6756   \n\n                     Variation de pression en 3 heures  Température   \nDatetime                                                              \n2012-01-01 01:00:00                         -26.204878   284.441001  \\\n2012-01-01 01:15:00                         -26.399241   284.418138   \n2012-01-01 01:30:00                         -26.593603   284.395274   \n2012-01-01 01:45:00                         -26.787965   284.372410   \n2012-01-01 02:00:00                         -26.982327   284.349546   \n...                                                ...          ...   \n2023-05-10 13:45:00                          -5.555157   288.633609   \n2023-05-10 14:00:00                         -11.812752   288.791610   \n2023-05-10 14:15:00                         -15.072847   288.828798   \n2023-05-10 14:30:00                         -18.332943   288.865986   \n2023-05-10 14:45:00                         -21.593038   288.903174   \n\n                      Humidité  Consommation (MW)  Holiday      A      B   \nDatetime                                                                   \n2012-01-01 01:00:00  90.875456            56231.0     True   True   True  \\\n2012-01-01 01:15:00  91.010688            56153.0     True   True   True   \n2012-01-01 01:30:00  91.145920            56075.0     True   True   True   \n2012-01-01 01:45:00  91.281152            55803.5     True   True   True   \n2012-01-01 02:00:00  91.416384            55532.0     True   True   True   \n...                        ...                ...      ...    ...    ...   \n2023-05-10 13:45:00  67.142344            48632.0    False  False  False   \n2023-05-10 14:00:00  66.369890            48073.0    False  False  False   \n2023-05-10 14:15:00  66.207288            48427.0    False  False  False   \n2023-05-10 14:30:00  66.044685            47688.0    False  False  False   \n2023-05-10 14:45:00  65.882083            47403.0    False  False  False   \n\n                         C  Confinement  ...  Prix Elec 1kWh  Solaire (TW)   \nDatetime                                 ...                                 \n2012-01-01 01:00:00   True            0  ...           69.37      0.000000  \\\n2012-01-01 01:15:00   True            0  ...           69.37      0.000000   \n2012-01-01 01:30:00   True            0  ...           69.37      0.000000   \n2012-01-01 01:45:00   True            0  ...           69.37      0.000000   \n2012-01-01 02:00:00   True            0  ...           69.37      0.000000   \n...                    ...          ...  ...             ...           ...   \n2023-05-10 13:45:00  False            0  ...          104.08     85.847085   \n2023-05-10 14:00:00  False            0  ...          104.08     83.554008   \n2023-05-10 14:15:00  False            0  ...          104.08     86.745207   \n2023-05-10 14:30:00  False            0  ...          104.08     84.729210   \n2023-05-10 14:45:00  False            0  ...          104.08     83.152719   \n\n                     Eolien (TW)  Hydraulique (MW)   \nDatetime                                             \n2012-01-01 01:00:00    63.768199            7598.0  \\\n2012-01-01 01:15:00    63.678029            7448.5   \n2012-01-01 01:30:00    63.587859            7299.0   \n2012-01-01 01:45:00    63.669012            7229.0   \n2012-01-01 02:00:00    63.750165            7159.0   \n...                          ...               ...   \n2023-05-10 13:45:00    35.917932            6661.0   \n2023-05-10 14:00:00    37.196585            6695.0   \n2023-05-10 14:15:00    39.156329            6784.0   \n2023-05-10 14:30:00    40.216518            6495.0   \n2023-05-10 14:45:00    39.824569            6568.0   \n\n                     Production Residuelle (MW)  Annee  Mois  Jour  Heure   \nDatetime                                                                    \n2012-01-01 01:00:00                78903.398418   2012     1     1      1  \\\n2012-01-01 01:15:00                78651.558488   2012     1     1      1   \n2012-01-01 01:30:00                78399.718558   2012     1     1      1   \n2012-01-01 01:45:00                78763.524495   2012     1     1      1   \n2012-01-01 02:00:00                79127.330432   2012     1     1      2   \n...                                         ...    ...   ...   ...    ...   \n2023-05-10 13:45:00               115711.948953   2023     5    10     13   \n2023-05-10 14:00:00               116569.176900   2023     5    10     14   \n2023-05-10 14:15:00               123414.864377   2023     5    10     14   \n2023-05-10 14:30:00               123969.245968   2023     5    10     14   \n2023-05-10 14:45:00               121966.857636   2023     5    10     14   \n\n                     Minute  \nDatetime                     \n2012-01-01 01:00:00       0  \n2012-01-01 01:15:00      15  \n2012-01-01 01:30:00      30  \n2012-01-01 01:45:00      45  \n2012-01-01 02:00:00       0  \n...                     ...  \n2023-05-10 13:45:00      45  \n2023-05-10 14:00:00       0  \n2023-05-10 14:15:00      15  \n2023-05-10 14:30:00      30  \n2023-05-10 14:45:00      45  \n\n[399608 rows x 23 columns]",
      "text/html": "<div>\n<style scoped>\n    .dataframe tbody tr th:only-of-type {\n        vertical-align: middle;\n    }\n\n    .dataframe tbody tr th {\n        vertical-align: top;\n    }\n\n    .dataframe thead th {\n        text-align: right;\n    }\n</style>\n<table border=\"1\" class=\"dataframe\">\n  <thead>\n    <tr style=\"text-align: right;\">\n      <th></th>\n      <th>Pression au niveau mer</th>\n      <th>Variation de pression en 3 heures</th>\n      <th>Température</th>\n      <th>Humidité</th>\n      <th>Consommation (MW)</th>\n      <th>Holiday</th>\n      <th>A</th>\n      <th>B</th>\n      <th>C</th>\n      <th>Confinement</th>\n      <th>...</th>\n      <th>Prix Elec 1kWh</th>\n      <th>Solaire (TW)</th>\n      <th>Eolien (TW)</th>\n      <th>Hydraulique (MW)</th>\n      <th>Production Residuelle (MW)</th>\n      <th>Annee</th>\n      <th>Mois</th>\n      <th>Jour</th>\n      <th>Heure</th>\n      <th>Minute</th>\n    </tr>\n    <tr>\n      <th>Datetime</th>\n      <th></th>\n      <th></th>\n      <th></th>\n      <th></th>\n      <th></th>\n      <th></th>\n      <th></th>\n      <th></th>\n      <th></th>\n      <th></th>\n      <th></th>\n      <th></th>\n      <th></th>\n      <th></th>\n      <th></th>\n      <th></th>\n      <th></th>\n      <th></th>\n      <th></th>\n      <th></th>\n      <th></th>\n    </tr>\n  </thead>\n  <tbody>\n    <tr>\n      <th>2012-01-01 01:00:00</th>\n      <td>101912.1325</td>\n      <td>-26.204878</td>\n      <td>284.441001</td>\n      <td>90.875456</td>\n      <td>56231.0</td>\n      <td>True</td>\n      <td>True</td>\n      <td>True</td>\n      <td>True</td>\n      <td>0</td>\n      <td>...</td>\n      <td>69.37</td>\n      <td>0.000000</td>\n      <td>63.768199</td>\n      <td>7598.0</td>\n      <td>78903.398418</td>\n      <td>2012</td>\n      <td>1</td>\n      <td>1</td>\n      <td>1</td>\n      <td>0</td>\n    </tr>\n    <tr>\n      <th>2012-01-01 01:15:00</th>\n      <td>101909.5278</td>\n      <td>-26.399241</td>\n      <td>284.418138</td>\n      <td>91.010688</td>\n      <td>56153.0</td>\n      <td>True</td>\n      <td>True</td>\n      <td>True</td>\n      <td>True</td>\n      <td>0</td>\n      <td>...</td>\n      <td>69.37</td>\n      <td>0.000000</td>\n      <td>63.678029</td>\n      <td>7448.5</td>\n      <td>78651.558488</td>\n      <td>2012</td>\n      <td>1</td>\n      <td>1</td>\n      <td>1</td>\n      <td>15</td>\n    </tr>\n    <tr>\n      <th>2012-01-01 01:30:00</th>\n      <td>101906.9230</td>\n      <td>-26.593603</td>\n      <td>284.395274</td>\n      <td>91.145920</td>\n      <td>56075.0</td>\n      <td>True</td>\n      <td>True</td>\n      <td>True</td>\n      <td>True</td>\n      <td>0</td>\n      <td>...</td>\n      <td>69.37</td>\n      <td>0.000000</td>\n      <td>63.587859</td>\n      <td>7299.0</td>\n      <td>78399.718558</td>\n      <td>2012</td>\n      <td>1</td>\n      <td>1</td>\n      <td>1</td>\n      <td>30</td>\n    </tr>\n    <tr>\n      <th>2012-01-01 01:45:00</th>\n      <td>101904.3182</td>\n      <td>-26.787965</td>\n      <td>284.372410</td>\n      <td>91.281152</td>\n      <td>55803.5</td>\n      <td>True</td>\n      <td>True</td>\n      <td>True</td>\n      <td>True</td>\n      <td>0</td>\n      <td>...</td>\n      <td>69.37</td>\n      <td>0.000000</td>\n      <td>63.669012</td>\n      <td>7229.0</td>\n      <td>78763.524495</td>\n      <td>2012</td>\n      <td>1</td>\n      <td>1</td>\n      <td>1</td>\n      <td>45</td>\n    </tr>\n    <tr>\n      <th>2012-01-01 02:00:00</th>\n      <td>101901.7134</td>\n      <td>-26.982327</td>\n      <td>284.349546</td>\n      <td>91.416384</td>\n      <td>55532.0</td>\n      <td>True</td>\n      <td>True</td>\n      <td>True</td>\n      <td>True</td>\n      <td>0</td>\n      <td>...</td>\n      <td>69.37</td>\n      <td>0.000000</td>\n      <td>63.750165</td>\n      <td>7159.0</td>\n      <td>79127.330432</td>\n      <td>2012</td>\n      <td>1</td>\n      <td>1</td>\n      <td>2</td>\n      <td>0</td>\n    </tr>\n    <tr>\n      <th>...</th>\n      <td>...</td>\n      <td>...</td>\n      <td>...</td>\n      <td>...</td>\n      <td>...</td>\n      <td>...</td>\n      <td>...</td>\n      <td>...</td>\n      <td>...</td>\n      <td>...</td>\n      <td>...</td>\n      <td>...</td>\n      <td>...</td>\n      <td>...</td>\n      <td>...</td>\n      <td>...</td>\n      <td>...</td>\n      <td>...</td>\n      <td>...</td>\n      <td>...</td>\n      <td>...</td>\n    </tr>\n    <tr>\n      <th>2023-05-10 13:45:00</th>\n      <td>101690.4182</td>\n      <td>-5.555157</td>\n      <td>288.633609</td>\n      <td>67.142344</td>\n      <td>48632.0</td>\n      <td>False</td>\n      <td>False</td>\n      <td>False</td>\n      <td>False</td>\n      <td>0</td>\n      <td>...</td>\n      <td>104.08</td>\n      <td>85.847085</td>\n      <td>35.917932</td>\n      <td>6661.0</td>\n      <td>115711.948953</td>\n      <td>2023</td>\n      <td>5</td>\n      <td>10</td>\n      <td>13</td>\n      <td>45</td>\n    </tr>\n    <tr>\n      <th>2023-05-10 14:00:00</th>\n      <td>101688.5445</td>\n      <td>-11.812752</td>\n      <td>288.791610</td>\n      <td>66.369890</td>\n      <td>48073.0</td>\n      <td>False</td>\n      <td>False</td>\n      <td>False</td>\n      <td>False</td>\n      <td>0</td>\n      <td>...</td>\n      <td>104.08</td>\n      <td>83.554008</td>\n      <td>37.196585</td>\n      <td>6695.0</td>\n      <td>116569.176900</td>\n      <td>2023</td>\n      <td>5</td>\n      <td>10</td>\n      <td>14</td>\n      <td>0</td>\n    </tr>\n    <tr>\n      <th>2023-05-10 14:15:00</th>\n      <td>101683.9215</td>\n      <td>-15.072847</td>\n      <td>288.828798</td>\n      <td>66.207288</td>\n      <td>48427.0</td>\n      <td>False</td>\n      <td>False</td>\n      <td>False</td>\n      <td>False</td>\n      <td>0</td>\n      <td>...</td>\n      <td>104.08</td>\n      <td>86.745207</td>\n      <td>39.156329</td>\n      <td>6784.0</td>\n      <td>123414.864377</td>\n      <td>2023</td>\n      <td>5</td>\n      <td>10</td>\n      <td>14</td>\n      <td>15</td>\n    </tr>\n    <tr>\n      <th>2023-05-10 14:30:00</th>\n      <td>101679.2986</td>\n      <td>-18.332943</td>\n      <td>288.865986</td>\n      <td>66.044685</td>\n      <td>47688.0</td>\n      <td>False</td>\n      <td>False</td>\n      <td>False</td>\n      <td>False</td>\n      <td>0</td>\n      <td>...</td>\n      <td>104.08</td>\n      <td>84.729210</td>\n      <td>40.216518</td>\n      <td>6495.0</td>\n      <td>123969.245968</td>\n      <td>2023</td>\n      <td>5</td>\n      <td>10</td>\n      <td>14</td>\n      <td>30</td>\n    </tr>\n    <tr>\n      <th>2023-05-10 14:45:00</th>\n      <td>101674.6756</td>\n      <td>-21.593038</td>\n      <td>288.903174</td>\n      <td>65.882083</td>\n      <td>47403.0</td>\n      <td>False</td>\n      <td>False</td>\n      <td>False</td>\n      <td>False</td>\n      <td>0</td>\n      <td>...</td>\n      <td>104.08</td>\n      <td>83.152719</td>\n      <td>39.824569</td>\n      <td>6568.0</td>\n      <td>121966.857636</td>\n      <td>2023</td>\n      <td>5</td>\n      <td>10</td>\n      <td>14</td>\n      <td>45</td>\n    </tr>\n  </tbody>\n</table>\n<p>399608 rows × 23 columns</p>\n</div>"
     },
     "execution_count": 54,
     "metadata": {},
     "output_type": "execute_result"
    }
   ],
   "source": [
    "data"
   ],
   "metadata": {
    "collapsed": false,
    "ExecuteTime": {
     "end_time": "2023-05-25T13:49:05.372758100Z",
     "start_time": "2023-05-25T13:49:05.284205400Z"
    }
   }
  },
  {
   "cell_type": "code",
   "execution_count": 19,
   "outputs": [],
   "source": [
    "mean = np.mean(data.drop(columns=['Annee']), axis=0)"
   ],
   "metadata": {
    "collapsed": false,
    "ExecuteTime": {
     "end_time": "2023-05-25T13:25:15.518513700Z",
     "start_time": "2023-05-25T13:25:15.466186400Z"
    }
   }
  },
  {
   "cell_type": "code",
   "execution_count": 18,
   "outputs": [],
   "source": [
    "std = np.std(data.drop(columns=['Annee']), axis=0)"
   ],
   "metadata": {
    "collapsed": false,
    "ExecuteTime": {
     "end_time": "2023-05-25T13:25:13.905715100Z",
     "start_time": "2023-05-25T13:25:13.792906100Z"
    }
   }
  },
  {
   "cell_type": "code",
   "execution_count": 31,
   "outputs": [
    {
     "data": {
      "text/plain": "                     Pression au niveau mer   \nDatetime                                      \n2012-01-01 01:00:00                0.221722  \\\n2012-01-01 01:15:00                0.219276   \n2012-01-01 01:30:00                0.216829   \n2012-01-01 01:45:00                0.214382   \n2012-01-01 02:00:00                0.211936   \n...                                     ...   \n2023-05-10 13:45:00                0.013466   \n2023-05-10 14:00:00                0.011706   \n2023-05-10 14:15:00                0.007364   \n2023-05-10 14:30:00                0.003022   \n2023-05-10 14:45:00               -0.001321   \n\n                     Variation de pression en 3 heures  Température  Humidité   \nDatetime                                                                        \n2012-01-01 01:00:00                          -0.293664    -0.150397  1.242184  \\\n2012-01-01 01:15:00                          -0.295804    -0.153679  1.252538   \n2012-01-01 01:30:00                          -0.297944    -0.156962  1.262893   \n2012-01-01 01:45:00                          -0.300084    -0.160244  1.273247   \n2012-01-01 02:00:00                          -0.302224    -0.163526  1.283602   \n...                                                ...          ...       ...   \n2023-05-10 13:45:00                          -0.066307     0.451503 -0.575040   \n2023-05-10 14:00:00                          -0.135204     0.474186 -0.634186   \n2023-05-10 14:15:00                          -0.171098     0.479525 -0.646636   \n2023-05-10 14:30:00                          -0.206993     0.484864 -0.659086   \n2023-05-10 14:45:00                          -0.242887     0.490203 -0.671537   \n\n                     Consommation (MW)   Holiday        A         B         C   \nDatetime                                                                        \n2012-01-01 01:00:00           0.209950  5.684344  1.40552  1.404764  1.404764  \\\n2012-01-01 01:15:00           0.203411  5.684344  1.40552  1.404764  1.404764   \n2012-01-01 01:30:00           0.196872  5.684344  1.40552  1.404764  1.404764   \n2012-01-01 01:45:00           0.174110  5.684344  1.40552  1.404764  1.404764   \n2012-01-01 02:00:00           0.151349  5.684344  1.40552  1.404764  1.404764   \n...                                ...       ...      ...       ...       ...   \n2023-05-10 13:45:00          -0.427122 -0.175922 -0.71148 -0.711863 -0.711863   \n2023-05-10 14:00:00          -0.473987 -0.175922 -0.71148 -0.711863 -0.711863   \n2023-05-10 14:15:00          -0.444309 -0.175922 -0.71148 -0.711863 -0.711863   \n2023-05-10 14:30:00          -0.506264 -0.175922 -0.71148 -0.711863 -0.711863   \n2023-05-10 14:45:00          -0.530157 -0.175922 -0.71148 -0.711863 -0.711863   \n\n                     Confinement  ...  week-end  Prix Elec 1kWh  Solaire (TW)   \nDatetime                          ...                                           \n2012-01-01 01:00:00    -0.182028  ...  1.571286       -0.276826     -0.700552  \\\n2012-01-01 01:15:00    -0.182028  ...  1.571286       -0.276826     -0.700552   \n2012-01-01 01:30:00    -0.182028  ...  1.571286       -0.276826     -0.700552   \n2012-01-01 01:45:00    -0.182028  ...  1.571286       -0.276826     -0.700552   \n2012-01-01 02:00:00    -0.182028  ...  1.571286       -0.276826     -0.700552   \n...                          ...  ...       ...             ...           ...   \n2023-05-10 13:45:00    -0.182028  ... -0.636421        1.407554      2.350792   \n2023-05-10 14:00:00    -0.182028  ... -0.636421        1.407554      2.269287   \n2023-05-10 14:15:00    -0.182028  ... -0.636421        1.407554      2.382715   \n2023-05-10 14:30:00    -0.182028  ... -0.636421        1.407554      2.311058   \n2023-05-10 14:45:00    -0.182028  ... -0.636421        1.407554      2.255023   \n\n                     Eolien (TW)  Hydraulique (MW)   \nDatetime                                             \n2012-01-01 01:00:00     1.484390          0.196859  \\\n2012-01-01 01:15:00     1.480398          0.143013   \n2012-01-01 01:30:00     1.476407          0.089167   \n2012-01-01 01:45:00     1.479999          0.063954   \n2012-01-01 02:00:00     1.483591          0.038742   \n...                          ...               ...   \n2023-05-10 13:45:00     0.251599         -0.140626   \n2023-05-10 14:00:00     0.308199         -0.128380   \n2023-05-10 14:15:00     0.394947         -0.096324   \n2023-05-10 14:30:00     0.441876         -0.200415   \n2023-05-10 14:45:00     0.424526         -0.174122   \n\n                     Production Residuelle (MW)      Mois      Jour     Heure   \nDatetime                                                                        \n2012-01-01 01:00:00                    0.949049 -1.555056 -1.672149 -1.511075  \\\n2012-01-01 01:15:00                    0.943785 -1.555056 -1.672149 -1.511075   \n2012-01-01 01:30:00                    0.938521 -1.555056 -1.672149 -1.511075   \n2012-01-01 01:45:00                    0.946125 -1.555056 -1.672149 -1.511075   \n2012-01-01 02:00:00                    0.953730 -1.555056 -1.672149 -1.366736   \n...                                         ...       ...       ...       ...   \n2023-05-10 13:45:00                    1.718481 -0.401137 -0.651456  0.220993   \n2023-05-10 14:00:00                    1.736400 -0.401137 -0.651456  0.365332   \n2023-05-10 14:15:00                    1.879500 -0.401137 -0.651456  0.365332   \n2023-05-10 14:30:00                    1.891088 -0.401137 -0.651456  0.365332   \n2023-05-10 14:45:00                    1.849231 -0.401137 -0.651456  0.365332   \n\n                       Minute  \nDatetime                       \n2012-01-01 01:00:00 -1.341641  \n2012-01-01 01:15:00 -0.447214  \n2012-01-01 01:30:00  0.447214  \n2012-01-01 01:45:00  1.341641  \n2012-01-01 02:00:00 -1.341641  \n...                       ...  \n2023-05-10 13:45:00  1.341641  \n2023-05-10 14:00:00 -1.341641  \n2023-05-10 14:15:00 -0.447214  \n2023-05-10 14:30:00  0.447214  \n2023-05-10 14:45:00  1.341641  \n\n[399608 rows x 22 columns]",
      "text/html": "<div>\n<style scoped>\n    .dataframe tbody tr th:only-of-type {\n        vertical-align: middle;\n    }\n\n    .dataframe tbody tr th {\n        vertical-align: top;\n    }\n\n    .dataframe thead th {\n        text-align: right;\n    }\n</style>\n<table border=\"1\" class=\"dataframe\">\n  <thead>\n    <tr style=\"text-align: right;\">\n      <th></th>\n      <th>Pression au niveau mer</th>\n      <th>Variation de pression en 3 heures</th>\n      <th>Température</th>\n      <th>Humidité</th>\n      <th>Consommation (MW)</th>\n      <th>Holiday</th>\n      <th>A</th>\n      <th>B</th>\n      <th>C</th>\n      <th>Confinement</th>\n      <th>...</th>\n      <th>week-end</th>\n      <th>Prix Elec 1kWh</th>\n      <th>Solaire (TW)</th>\n      <th>Eolien (TW)</th>\n      <th>Hydraulique (MW)</th>\n      <th>Production Residuelle (MW)</th>\n      <th>Mois</th>\n      <th>Jour</th>\n      <th>Heure</th>\n      <th>Minute</th>\n    </tr>\n    <tr>\n      <th>Datetime</th>\n      <th></th>\n      <th></th>\n      <th></th>\n      <th></th>\n      <th></th>\n      <th></th>\n      <th></th>\n      <th></th>\n      <th></th>\n      <th></th>\n      <th></th>\n      <th></th>\n      <th></th>\n      <th></th>\n      <th></th>\n      <th></th>\n      <th></th>\n      <th></th>\n      <th></th>\n      <th></th>\n      <th></th>\n    </tr>\n  </thead>\n  <tbody>\n    <tr>\n      <th>2012-01-01 01:00:00</th>\n      <td>0.221722</td>\n      <td>-0.293664</td>\n      <td>-0.150397</td>\n      <td>1.242184</td>\n      <td>0.209950</td>\n      <td>5.684344</td>\n      <td>1.40552</td>\n      <td>1.404764</td>\n      <td>1.404764</td>\n      <td>-0.182028</td>\n      <td>...</td>\n      <td>1.571286</td>\n      <td>-0.276826</td>\n      <td>-0.700552</td>\n      <td>1.484390</td>\n      <td>0.196859</td>\n      <td>0.949049</td>\n      <td>-1.555056</td>\n      <td>-1.672149</td>\n      <td>-1.511075</td>\n      <td>-1.341641</td>\n    </tr>\n    <tr>\n      <th>2012-01-01 01:15:00</th>\n      <td>0.219276</td>\n      <td>-0.295804</td>\n      <td>-0.153679</td>\n      <td>1.252538</td>\n      <td>0.203411</td>\n      <td>5.684344</td>\n      <td>1.40552</td>\n      <td>1.404764</td>\n      <td>1.404764</td>\n      <td>-0.182028</td>\n      <td>...</td>\n      <td>1.571286</td>\n      <td>-0.276826</td>\n      <td>-0.700552</td>\n      <td>1.480398</td>\n      <td>0.143013</td>\n      <td>0.943785</td>\n      <td>-1.555056</td>\n      <td>-1.672149</td>\n      <td>-1.511075</td>\n      <td>-0.447214</td>\n    </tr>\n    <tr>\n      <th>2012-01-01 01:30:00</th>\n      <td>0.216829</td>\n      <td>-0.297944</td>\n      <td>-0.156962</td>\n      <td>1.262893</td>\n      <td>0.196872</td>\n      <td>5.684344</td>\n      <td>1.40552</td>\n      <td>1.404764</td>\n      <td>1.404764</td>\n      <td>-0.182028</td>\n      <td>...</td>\n      <td>1.571286</td>\n      <td>-0.276826</td>\n      <td>-0.700552</td>\n      <td>1.476407</td>\n      <td>0.089167</td>\n      <td>0.938521</td>\n      <td>-1.555056</td>\n      <td>-1.672149</td>\n      <td>-1.511075</td>\n      <td>0.447214</td>\n    </tr>\n    <tr>\n      <th>2012-01-01 01:45:00</th>\n      <td>0.214382</td>\n      <td>-0.300084</td>\n      <td>-0.160244</td>\n      <td>1.273247</td>\n      <td>0.174110</td>\n      <td>5.684344</td>\n      <td>1.40552</td>\n      <td>1.404764</td>\n      <td>1.404764</td>\n      <td>-0.182028</td>\n      <td>...</td>\n      <td>1.571286</td>\n      <td>-0.276826</td>\n      <td>-0.700552</td>\n      <td>1.479999</td>\n      <td>0.063954</td>\n      <td>0.946125</td>\n      <td>-1.555056</td>\n      <td>-1.672149</td>\n      <td>-1.511075</td>\n      <td>1.341641</td>\n    </tr>\n    <tr>\n      <th>2012-01-01 02:00:00</th>\n      <td>0.211936</td>\n      <td>-0.302224</td>\n      <td>-0.163526</td>\n      <td>1.283602</td>\n      <td>0.151349</td>\n      <td>5.684344</td>\n      <td>1.40552</td>\n      <td>1.404764</td>\n      <td>1.404764</td>\n      <td>-0.182028</td>\n      <td>...</td>\n      <td>1.571286</td>\n      <td>-0.276826</td>\n      <td>-0.700552</td>\n      <td>1.483591</td>\n      <td>0.038742</td>\n      <td>0.953730</td>\n      <td>-1.555056</td>\n      <td>-1.672149</td>\n      <td>-1.366736</td>\n      <td>-1.341641</td>\n    </tr>\n    <tr>\n      <th>...</th>\n      <td>...</td>\n      <td>...</td>\n      <td>...</td>\n      <td>...</td>\n      <td>...</td>\n      <td>...</td>\n      <td>...</td>\n      <td>...</td>\n      <td>...</td>\n      <td>...</td>\n      <td>...</td>\n      <td>...</td>\n      <td>...</td>\n      <td>...</td>\n      <td>...</td>\n      <td>...</td>\n      <td>...</td>\n      <td>...</td>\n      <td>...</td>\n      <td>...</td>\n      <td>...</td>\n    </tr>\n    <tr>\n      <th>2023-05-10 13:45:00</th>\n      <td>0.013466</td>\n      <td>-0.066307</td>\n      <td>0.451503</td>\n      <td>-0.575040</td>\n      <td>-0.427122</td>\n      <td>-0.175922</td>\n      <td>-0.71148</td>\n      <td>-0.711863</td>\n      <td>-0.711863</td>\n      <td>-0.182028</td>\n      <td>...</td>\n      <td>-0.636421</td>\n      <td>1.407554</td>\n      <td>2.350792</td>\n      <td>0.251599</td>\n      <td>-0.140626</td>\n      <td>1.718481</td>\n      <td>-0.401137</td>\n      <td>-0.651456</td>\n      <td>0.220993</td>\n      <td>1.341641</td>\n    </tr>\n    <tr>\n      <th>2023-05-10 14:00:00</th>\n      <td>0.011706</td>\n      <td>-0.135204</td>\n      <td>0.474186</td>\n      <td>-0.634186</td>\n      <td>-0.473987</td>\n      <td>-0.175922</td>\n      <td>-0.71148</td>\n      <td>-0.711863</td>\n      <td>-0.711863</td>\n      <td>-0.182028</td>\n      <td>...</td>\n      <td>-0.636421</td>\n      <td>1.407554</td>\n      <td>2.269287</td>\n      <td>0.308199</td>\n      <td>-0.128380</td>\n      <td>1.736400</td>\n      <td>-0.401137</td>\n      <td>-0.651456</td>\n      <td>0.365332</td>\n      <td>-1.341641</td>\n    </tr>\n    <tr>\n      <th>2023-05-10 14:15:00</th>\n      <td>0.007364</td>\n      <td>-0.171098</td>\n      <td>0.479525</td>\n      <td>-0.646636</td>\n      <td>-0.444309</td>\n      <td>-0.175922</td>\n      <td>-0.71148</td>\n      <td>-0.711863</td>\n      <td>-0.711863</td>\n      <td>-0.182028</td>\n      <td>...</td>\n      <td>-0.636421</td>\n      <td>1.407554</td>\n      <td>2.382715</td>\n      <td>0.394947</td>\n      <td>-0.096324</td>\n      <td>1.879500</td>\n      <td>-0.401137</td>\n      <td>-0.651456</td>\n      <td>0.365332</td>\n      <td>-0.447214</td>\n    </tr>\n    <tr>\n      <th>2023-05-10 14:30:00</th>\n      <td>0.003022</td>\n      <td>-0.206993</td>\n      <td>0.484864</td>\n      <td>-0.659086</td>\n      <td>-0.506264</td>\n      <td>-0.175922</td>\n      <td>-0.71148</td>\n      <td>-0.711863</td>\n      <td>-0.711863</td>\n      <td>-0.182028</td>\n      <td>...</td>\n      <td>-0.636421</td>\n      <td>1.407554</td>\n      <td>2.311058</td>\n      <td>0.441876</td>\n      <td>-0.200415</td>\n      <td>1.891088</td>\n      <td>-0.401137</td>\n      <td>-0.651456</td>\n      <td>0.365332</td>\n      <td>0.447214</td>\n    </tr>\n    <tr>\n      <th>2023-05-10 14:45:00</th>\n      <td>-0.001321</td>\n      <td>-0.242887</td>\n      <td>0.490203</td>\n      <td>-0.671537</td>\n      <td>-0.530157</td>\n      <td>-0.175922</td>\n      <td>-0.71148</td>\n      <td>-0.711863</td>\n      <td>-0.711863</td>\n      <td>-0.182028</td>\n      <td>...</td>\n      <td>-0.636421</td>\n      <td>1.407554</td>\n      <td>2.255023</td>\n      <td>0.424526</td>\n      <td>-0.174122</td>\n      <td>1.849231</td>\n      <td>-0.401137</td>\n      <td>-0.651456</td>\n      <td>0.365332</td>\n      <td>1.341641</td>\n    </tr>\n  </tbody>\n</table>\n<p>399608 rows × 22 columns</p>\n</div>"
     },
     "execution_count": 31,
     "metadata": {},
     "output_type": "execute_result"
    }
   ],
   "source": [
    "data_centree_reduite = (data.drop(columns=['Annee']) - mean)/(std)\n",
    "data_centree_reduite"
   ],
   "metadata": {
    "collapsed": false,
    "ExecuteTime": {
     "end_time": "2023-05-25T13:33:07.475186700Z",
     "start_time": "2023-05-25T13:33:07.291174300Z"
    }
   }
  },
  {
   "cell_type": "code",
   "execution_count": 32,
   "outputs": [
    {
     "data": {
      "text/plain": "1.0"
     },
     "execution_count": 32,
     "metadata": {},
     "output_type": "execute_result"
    }
   ],
   "source": [
    "np.std(data_centree_reduite['Holiday'])"
   ],
   "metadata": {
    "collapsed": false,
    "ExecuteTime": {
     "end_time": "2023-05-25T13:33:10.931189900Z",
     "start_time": "2023-05-25T13:33:10.914186Z"
    }
   }
  },
  {
   "cell_type": "code",
   "execution_count": 33,
   "outputs": [],
   "source": [
    "data_scaled = np.tanh(data_centree_reduite)"
   ],
   "metadata": {
    "collapsed": false,
    "ExecuteTime": {
     "end_time": "2023-05-25T13:33:11.803185900Z",
     "start_time": "2023-05-25T13:33:11.634186Z"
    }
   }
  },
  {
   "cell_type": "code",
   "execution_count": 34,
   "outputs": [
    {
     "data": {
      "text/plain": "                     Pression au niveau mer   \nDatetime                                      \n2012-01-01 01:00:00                0.218159  \\\n2012-01-01 01:15:00                0.215828   \n2012-01-01 01:30:00                0.213494   \n2012-01-01 01:45:00                0.211157   \n2012-01-01 02:00:00                0.208818   \n...                                     ...   \n2023-05-10 13:45:00                0.013466   \n2023-05-10 14:00:00                0.011706   \n2023-05-10 14:15:00                0.007364   \n2023-05-10 14:30:00                0.003022   \n2023-05-10 14:45:00               -0.001321   \n\n                     Variation de pression en 3 heures  Température  Humidité   \nDatetime                                                                        \n2012-01-01 01:00:00                          -0.285504    -0.149273  0.846077  \\\n2012-01-01 01:15:00                          -0.287468    -0.152481  0.848994   \n2012-01-01 01:30:00                          -0.289430    -0.155685  0.851860   \n2012-01-01 01:45:00                          -0.291389    -0.158886  0.854675   \n2012-01-01 02:00:00                          -0.293346    -0.162084  0.857442   \n...                                                ...          ...       ...   \n2023-05-10 13:45:00                          -0.066210     0.423134 -0.519051   \n2023-05-10 14:00:00                          -0.134386     0.441576 -0.560928   \n2023-05-10 14:15:00                          -0.169448     0.445863 -0.569401   \n2023-05-10 14:30:00                          -0.204086     0.450131 -0.577755   \n2023-05-10 14:45:00                          -0.238221     0.454377 -0.585990   \n\n                     Consommation (MW)   Holiday         A         B   \nDatetime                                                               \n2012-01-01 01:00:00           0.206919  0.999977  0.886539  0.886377  \\\n2012-01-01 01:15:00           0.200651  0.999977  0.886539  0.886377   \n2012-01-01 01:30:00           0.194367  0.999977  0.886539  0.886377   \n2012-01-01 01:45:00           0.172372  0.999977  0.886539  0.886377   \n2012-01-01 02:00:00           0.150204  0.999977  0.886539  0.886377   \n...                                ...       ...       ...       ...   \n2023-05-10 13:45:00          -0.402914 -0.174129 -0.611604 -0.611844   \n2023-05-10 14:00:00          -0.441415 -0.174129 -0.611604 -0.611844   \n2023-05-10 14:15:00          -0.417210 -0.174129 -0.611604 -0.611844   \n2023-05-10 14:30:00          -0.467029 -0.174129 -0.611604 -0.611844   \n2023-05-10 14:45:00          -0.485501 -0.174129 -0.611604 -0.611844   \n\n                            C  Confinement  ...  week-end  Prix Elec 1kWh   \nDatetime                                    ...                             \n2012-01-01 01:00:00  0.886377    -0.180044  ...  0.917230       -0.269965  \\\n2012-01-01 01:15:00  0.886377    -0.180044  ...  0.917230       -0.269965   \n2012-01-01 01:30:00  0.886377    -0.180044  ...  0.917230       -0.269965   \n2012-01-01 01:45:00  0.886377    -0.180044  ...  0.917230       -0.269965   \n2012-01-01 02:00:00  0.886377    -0.180044  ...  0.917230       -0.269965   \n...                       ...          ...  ...       ...             ...   \n2023-05-10 13:45:00 -0.611844    -0.180044  ... -0.562458        0.886974   \n2023-05-10 14:00:00 -0.611844    -0.180044  ... -0.562458        0.886974   \n2023-05-10 14:15:00 -0.611844    -0.180044  ... -0.562458        0.886974   \n2023-05-10 14:30:00 -0.611844    -0.180044  ... -0.562458        0.886974   \n2023-05-10 14:45:00 -0.611844    -0.180044  ... -0.562458        0.886974   \n\n                     Solaire (TW)  Eolien (TW)  Hydraulique (MW)   \nDatetime                                                           \n2012-01-01 01:00:00     -0.604718     0.902287          0.194355  \\\n2012-01-01 01:15:00     -0.604718     0.901543          0.142046   \n2012-01-01 01:30:00     -0.604718     0.900793          0.088931   \n2012-01-01 01:45:00     -0.604718     0.901468          0.063867   \n2012-01-01 02:00:00     -0.604718     0.902139          0.038723   \n...                           ...          ...               ...   \n2023-05-10 13:45:00      0.982002     0.246421         -0.139706   \n2023-05-10 14:00:00      0.978849     0.298797         -0.127679   \n2023-05-10 14:15:00      0.983105     0.375617         -0.096027   \n2023-05-10 14:30:00      0.980528     0.415198         -0.197774   \n2023-05-10 14:45:00      0.978243     0.400737         -0.172383   \n\n                     Production Residuelle (MW)      Mois      Jour     Heure   \nDatetime                                                                        \n2012-01-01 01:00:00                    0.739352 -0.914616 -0.931835 -0.907130  \\\n2012-01-01 01:15:00                    0.736956 -0.914616 -0.931835 -0.907130   \n2012-01-01 01:30:00                    0.734542 -0.914616 -0.931835 -0.907130   \n2012-01-01 01:45:00                    0.738024 -0.914616 -0.931835 -0.907130   \n2012-01-01 02:00:00                    0.741467 -0.914616 -0.931835 -0.877946   \n...                                         ...       ...       ...       ...   \n2023-05-10 13:45:00                    0.937680 -0.380922 -0.572649  0.217465   \n2023-05-10 14:00:00                    0.939808 -0.380922 -0.572649  0.349902   \n2023-05-10 14:15:00                    0.954448 -0.380922 -0.572649  0.349902   \n2023-05-10 14:30:00                    0.955468 -0.380922 -0.572649  0.349902   \n2023-05-10 14:45:00                    0.951673 -0.380922 -0.572649  0.349902   \n\n                       Minute  \nDatetime                       \n2012-01-01 01:00:00 -0.872066  \n2012-01-01 01:15:00 -0.419606  \n2012-01-01 01:30:00  0.419606  \n2012-01-01 01:45:00  0.872066  \n2012-01-01 02:00:00 -0.872066  \n...                       ...  \n2023-05-10 13:45:00  0.872066  \n2023-05-10 14:00:00 -0.872066  \n2023-05-10 14:15:00 -0.419606  \n2023-05-10 14:30:00  0.419606  \n2023-05-10 14:45:00  0.872066  \n\n[399608 rows x 22 columns]",
      "text/html": "<div>\n<style scoped>\n    .dataframe tbody tr th:only-of-type {\n        vertical-align: middle;\n    }\n\n    .dataframe tbody tr th {\n        vertical-align: top;\n    }\n\n    .dataframe thead th {\n        text-align: right;\n    }\n</style>\n<table border=\"1\" class=\"dataframe\">\n  <thead>\n    <tr style=\"text-align: right;\">\n      <th></th>\n      <th>Pression au niveau mer</th>\n      <th>Variation de pression en 3 heures</th>\n      <th>Température</th>\n      <th>Humidité</th>\n      <th>Consommation (MW)</th>\n      <th>Holiday</th>\n      <th>A</th>\n      <th>B</th>\n      <th>C</th>\n      <th>Confinement</th>\n      <th>...</th>\n      <th>week-end</th>\n      <th>Prix Elec 1kWh</th>\n      <th>Solaire (TW)</th>\n      <th>Eolien (TW)</th>\n      <th>Hydraulique (MW)</th>\n      <th>Production Residuelle (MW)</th>\n      <th>Mois</th>\n      <th>Jour</th>\n      <th>Heure</th>\n      <th>Minute</th>\n    </tr>\n    <tr>\n      <th>Datetime</th>\n      <th></th>\n      <th></th>\n      <th></th>\n      <th></th>\n      <th></th>\n      <th></th>\n      <th></th>\n      <th></th>\n      <th></th>\n      <th></th>\n      <th></th>\n      <th></th>\n      <th></th>\n      <th></th>\n      <th></th>\n      <th></th>\n      <th></th>\n      <th></th>\n      <th></th>\n      <th></th>\n      <th></th>\n    </tr>\n  </thead>\n  <tbody>\n    <tr>\n      <th>2012-01-01 01:00:00</th>\n      <td>0.218159</td>\n      <td>-0.285504</td>\n      <td>-0.149273</td>\n      <td>0.846077</td>\n      <td>0.206919</td>\n      <td>0.999977</td>\n      <td>0.886539</td>\n      <td>0.886377</td>\n      <td>0.886377</td>\n      <td>-0.180044</td>\n      <td>...</td>\n      <td>0.917230</td>\n      <td>-0.269965</td>\n      <td>-0.604718</td>\n      <td>0.902287</td>\n      <td>0.194355</td>\n      <td>0.739352</td>\n      <td>-0.914616</td>\n      <td>-0.931835</td>\n      <td>-0.907130</td>\n      <td>-0.872066</td>\n    </tr>\n    <tr>\n      <th>2012-01-01 01:15:00</th>\n      <td>0.215828</td>\n      <td>-0.287468</td>\n      <td>-0.152481</td>\n      <td>0.848994</td>\n      <td>0.200651</td>\n      <td>0.999977</td>\n      <td>0.886539</td>\n      <td>0.886377</td>\n      <td>0.886377</td>\n      <td>-0.180044</td>\n      <td>...</td>\n      <td>0.917230</td>\n      <td>-0.269965</td>\n      <td>-0.604718</td>\n      <td>0.901543</td>\n      <td>0.142046</td>\n      <td>0.736956</td>\n      <td>-0.914616</td>\n      <td>-0.931835</td>\n      <td>-0.907130</td>\n      <td>-0.419606</td>\n    </tr>\n    <tr>\n      <th>2012-01-01 01:30:00</th>\n      <td>0.213494</td>\n      <td>-0.289430</td>\n      <td>-0.155685</td>\n      <td>0.851860</td>\n      <td>0.194367</td>\n      <td>0.999977</td>\n      <td>0.886539</td>\n      <td>0.886377</td>\n      <td>0.886377</td>\n      <td>-0.180044</td>\n      <td>...</td>\n      <td>0.917230</td>\n      <td>-0.269965</td>\n      <td>-0.604718</td>\n      <td>0.900793</td>\n      <td>0.088931</td>\n      <td>0.734542</td>\n      <td>-0.914616</td>\n      <td>-0.931835</td>\n      <td>-0.907130</td>\n      <td>0.419606</td>\n    </tr>\n    <tr>\n      <th>2012-01-01 01:45:00</th>\n      <td>0.211157</td>\n      <td>-0.291389</td>\n      <td>-0.158886</td>\n      <td>0.854675</td>\n      <td>0.172372</td>\n      <td>0.999977</td>\n      <td>0.886539</td>\n      <td>0.886377</td>\n      <td>0.886377</td>\n      <td>-0.180044</td>\n      <td>...</td>\n      <td>0.917230</td>\n      <td>-0.269965</td>\n      <td>-0.604718</td>\n      <td>0.901468</td>\n      <td>0.063867</td>\n      <td>0.738024</td>\n      <td>-0.914616</td>\n      <td>-0.931835</td>\n      <td>-0.907130</td>\n      <td>0.872066</td>\n    </tr>\n    <tr>\n      <th>2012-01-01 02:00:00</th>\n      <td>0.208818</td>\n      <td>-0.293346</td>\n      <td>-0.162084</td>\n      <td>0.857442</td>\n      <td>0.150204</td>\n      <td>0.999977</td>\n      <td>0.886539</td>\n      <td>0.886377</td>\n      <td>0.886377</td>\n      <td>-0.180044</td>\n      <td>...</td>\n      <td>0.917230</td>\n      <td>-0.269965</td>\n      <td>-0.604718</td>\n      <td>0.902139</td>\n      <td>0.038723</td>\n      <td>0.741467</td>\n      <td>-0.914616</td>\n      <td>-0.931835</td>\n      <td>-0.877946</td>\n      <td>-0.872066</td>\n    </tr>\n    <tr>\n      <th>...</th>\n      <td>...</td>\n      <td>...</td>\n      <td>...</td>\n      <td>...</td>\n      <td>...</td>\n      <td>...</td>\n      <td>...</td>\n      <td>...</td>\n      <td>...</td>\n      <td>...</td>\n      <td>...</td>\n      <td>...</td>\n      <td>...</td>\n      <td>...</td>\n      <td>...</td>\n      <td>...</td>\n      <td>...</td>\n      <td>...</td>\n      <td>...</td>\n      <td>...</td>\n      <td>...</td>\n    </tr>\n    <tr>\n      <th>2023-05-10 13:45:00</th>\n      <td>0.013466</td>\n      <td>-0.066210</td>\n      <td>0.423134</td>\n      <td>-0.519051</td>\n      <td>-0.402914</td>\n      <td>-0.174129</td>\n      <td>-0.611604</td>\n      <td>-0.611844</td>\n      <td>-0.611844</td>\n      <td>-0.180044</td>\n      <td>...</td>\n      <td>-0.562458</td>\n      <td>0.886974</td>\n      <td>0.982002</td>\n      <td>0.246421</td>\n      <td>-0.139706</td>\n      <td>0.937680</td>\n      <td>-0.380922</td>\n      <td>-0.572649</td>\n      <td>0.217465</td>\n      <td>0.872066</td>\n    </tr>\n    <tr>\n      <th>2023-05-10 14:00:00</th>\n      <td>0.011706</td>\n      <td>-0.134386</td>\n      <td>0.441576</td>\n      <td>-0.560928</td>\n      <td>-0.441415</td>\n      <td>-0.174129</td>\n      <td>-0.611604</td>\n      <td>-0.611844</td>\n      <td>-0.611844</td>\n      <td>-0.180044</td>\n      <td>...</td>\n      <td>-0.562458</td>\n      <td>0.886974</td>\n      <td>0.978849</td>\n      <td>0.298797</td>\n      <td>-0.127679</td>\n      <td>0.939808</td>\n      <td>-0.380922</td>\n      <td>-0.572649</td>\n      <td>0.349902</td>\n      <td>-0.872066</td>\n    </tr>\n    <tr>\n      <th>2023-05-10 14:15:00</th>\n      <td>0.007364</td>\n      <td>-0.169448</td>\n      <td>0.445863</td>\n      <td>-0.569401</td>\n      <td>-0.417210</td>\n      <td>-0.174129</td>\n      <td>-0.611604</td>\n      <td>-0.611844</td>\n      <td>-0.611844</td>\n      <td>-0.180044</td>\n      <td>...</td>\n      <td>-0.562458</td>\n      <td>0.886974</td>\n      <td>0.983105</td>\n      <td>0.375617</td>\n      <td>-0.096027</td>\n      <td>0.954448</td>\n      <td>-0.380922</td>\n      <td>-0.572649</td>\n      <td>0.349902</td>\n      <td>-0.419606</td>\n    </tr>\n    <tr>\n      <th>2023-05-10 14:30:00</th>\n      <td>0.003022</td>\n      <td>-0.204086</td>\n      <td>0.450131</td>\n      <td>-0.577755</td>\n      <td>-0.467029</td>\n      <td>-0.174129</td>\n      <td>-0.611604</td>\n      <td>-0.611844</td>\n      <td>-0.611844</td>\n      <td>-0.180044</td>\n      <td>...</td>\n      <td>-0.562458</td>\n      <td>0.886974</td>\n      <td>0.980528</td>\n      <td>0.415198</td>\n      <td>-0.197774</td>\n      <td>0.955468</td>\n      <td>-0.380922</td>\n      <td>-0.572649</td>\n      <td>0.349902</td>\n      <td>0.419606</td>\n    </tr>\n    <tr>\n      <th>2023-05-10 14:45:00</th>\n      <td>-0.001321</td>\n      <td>-0.238221</td>\n      <td>0.454377</td>\n      <td>-0.585990</td>\n      <td>-0.485501</td>\n      <td>-0.174129</td>\n      <td>-0.611604</td>\n      <td>-0.611844</td>\n      <td>-0.611844</td>\n      <td>-0.180044</td>\n      <td>...</td>\n      <td>-0.562458</td>\n      <td>0.886974</td>\n      <td>0.978243</td>\n      <td>0.400737</td>\n      <td>-0.172383</td>\n      <td>0.951673</td>\n      <td>-0.380922</td>\n      <td>-0.572649</td>\n      <td>0.349902</td>\n      <td>0.872066</td>\n    </tr>\n  </tbody>\n</table>\n<p>399608 rows × 22 columns</p>\n</div>"
     },
     "execution_count": 34,
     "metadata": {},
     "output_type": "execute_result"
    }
   ],
   "source": [
    "data_scaled"
   ],
   "metadata": {
    "collapsed": false,
    "ExecuteTime": {
     "end_time": "2023-05-25T13:33:12.366186100Z",
     "start_time": "2023-05-25T13:33:12.225796100Z"
    }
   }
  },
  {
   "cell_type": "code",
   "execution_count": 35,
   "outputs": [
    {
     "data": {
      "text/plain": "array([[ 0.21815899, -0.28550363, -0.14927325, ..., -0.93183519,\n        -0.90712965, -0.87206578],\n       [ 0.2158276 , -0.28746796, -0.1524809 , ..., -0.93183519,\n        -0.90712965, -0.41960589],\n       [ 0.21349366, -0.28942987, -0.15568533, ..., -0.93183519,\n        -0.90712965,  0.41960589],\n       ...,\n       [ 0.00736384, -0.169448  ,  0.44586331, ..., -0.57264926,\n         0.34990215, -0.41960589],\n       [ 0.00302168, -0.20408607,  0.45013058, ..., -0.57264926,\n         0.34990215,  0.41960589],\n       [-0.00132068, -0.23822057,  0.45437739, ..., -0.57264926,\n         0.34990215,  0.87206578]])"
     },
     "execution_count": 35,
     "metadata": {},
     "output_type": "execute_result"
    }
   ],
   "source": [
    "data_scaled.to_numpy()"
   ],
   "metadata": {
    "collapsed": false,
    "ExecuteTime": {
     "end_time": "2023-05-25T13:33:15.356235300Z",
     "start_time": "2023-05-25T13:33:15.324201600Z"
    }
   }
  },
  {
   "cell_type": "code",
   "execution_count": 36,
   "outputs": [
    {
     "name": "stderr",
     "output_type": "stream",
     "text": [
      "c:\\users\\doria\\appdata\\local\\programs\\python\\python38\\lib\\site-packages\\pandas\\core\\internals\\blocks.py:329: RuntimeWarning: divide by zero encountered in arctanh\n",
      "  result = func(self.values, **kwargs)\n"
     ]
    },
    {
     "data": {
      "text/plain": "                     Pression au niveau mer   \nDatetime                                      \n2012-01-01 01:00:00             101912.1325  \\\n2012-01-01 01:15:00             101909.5278   \n2012-01-01 01:30:00             101906.9230   \n2012-01-01 01:45:00             101904.3182   \n2012-01-01 02:00:00             101901.7134   \n...                                     ...   \n2023-05-10 13:45:00             101690.4182   \n2023-05-10 14:00:00             101688.5445   \n2023-05-10 14:15:00             101683.9215   \n2023-05-10 14:30:00             101679.2986   \n2023-05-10 14:45:00             101674.6756   \n\n                     Variation de pression en 3 heures  Température   \nDatetime                                                              \n2012-01-01 01:00:00                         -26.204878   284.441001  \\\n2012-01-01 01:15:00                         -26.399241   284.418138   \n2012-01-01 01:30:00                         -26.593603   284.395274   \n2012-01-01 01:45:00                         -26.787965   284.372410   \n2012-01-01 02:00:00                         -26.982327   284.349546   \n...                                                ...          ...   \n2023-05-10 13:45:00                          -5.555157   288.633609   \n2023-05-10 14:00:00                         -11.812752   288.791610   \n2023-05-10 14:15:00                         -15.072847   288.828798   \n2023-05-10 14:30:00                         -18.332943   288.865986   \n2023-05-10 14:45:00                         -21.593038   288.903174   \n\n                      Humidité  Consommation (MW)       Holiday    A    B   \nDatetime                                                                    \n2012-01-01 01:00:00  90.875456            56231.0  1.000000e+00  1.0  1.0  \\\n2012-01-01 01:15:00  91.010688            56153.0  1.000000e+00  1.0  1.0   \n2012-01-01 01:30:00  91.145920            56075.0  1.000000e+00  1.0  1.0   \n2012-01-01 01:45:00  91.281152            55803.5  1.000000e+00  1.0  1.0   \n2012-01-01 02:00:00  91.416384            55532.0  1.000000e+00  1.0  1.0   \n...                        ...                ...           ...  ...  ...   \n2023-05-10 13:45:00  67.142344            48632.0 -3.469447e-18  0.0  0.0   \n2023-05-10 14:00:00  66.369890            48073.0 -3.469447e-18  0.0  0.0   \n2023-05-10 14:15:00  66.207288            48427.0 -3.469447e-18  0.0  0.0   \n2023-05-10 14:30:00  66.044685            47688.0 -3.469447e-18  0.0  0.0   \n2023-05-10 14:45:00  65.882083            47403.0 -3.469447e-18  0.0  0.0   \n\n                                C  Confinement  ...  week-end  Prix Elec 1kWh   \nDatetime                                        ...                             \n2012-01-01 01:00:00  1.000000e+00          0.0  ...       1.0           69.37  \\\n2012-01-01 01:15:00  1.000000e+00          0.0  ...       1.0           69.37   \n2012-01-01 01:30:00  1.000000e+00          0.0  ...       1.0           69.37   \n2012-01-01 01:45:00  1.000000e+00          0.0  ...       1.0           69.37   \n2012-01-01 02:00:00  1.000000e+00          0.0  ...       1.0           69.37   \n...                           ...          ...  ...       ...             ...   \n2023-05-10 13:45:00  5.551115e-17          0.0  ...       0.0          104.08   \n2023-05-10 14:00:00  5.551115e-17          0.0  ...       0.0          104.08   \n2023-05-10 14:15:00  5.551115e-17          0.0  ...       0.0          104.08   \n2023-05-10 14:30:00  5.551115e-17          0.0  ...       0.0          104.08   \n2023-05-10 14:45:00  5.551115e-17          0.0  ...       0.0          104.08   \n\n                     Solaire (TW)  Eolien (TW)  Hydraulique (MW)   \nDatetime                                                           \n2012-01-01 01:00:00      0.000000    63.768199            7598.0  \\\n2012-01-01 01:15:00      0.000000    63.678029            7448.5   \n2012-01-01 01:30:00      0.000000    63.587859            7299.0   \n2012-01-01 01:45:00      0.000000    63.669012            7229.0   \n2012-01-01 02:00:00      0.000000    63.750165            7159.0   \n...                           ...          ...               ...   \n2023-05-10 13:45:00     85.847085    35.917932            6661.0   \n2023-05-10 14:00:00     83.554008    37.196585            6695.0   \n2023-05-10 14:15:00     86.745207    39.156329            6784.0   \n2023-05-10 14:30:00     84.729210    40.216518            6495.0   \n2023-05-10 14:45:00     83.152719    39.824569            6568.0   \n\n                     Production Residuelle (MW)  Mois  Jour  Heure  Minute  \nDatetime                                                                    \n2012-01-01 01:00:00                78903.398418   1.0   1.0    1.0     0.0  \n2012-01-01 01:15:00                78651.558488   1.0   1.0    1.0    15.0  \n2012-01-01 01:30:00                78399.718558   1.0   1.0    1.0    30.0  \n2012-01-01 01:45:00                78763.524495   1.0   1.0    1.0    45.0  \n2012-01-01 02:00:00                79127.330432   1.0   1.0    2.0     0.0  \n...                                         ...   ...   ...    ...     ...  \n2023-05-10 13:45:00               115711.948953   5.0  10.0   13.0    45.0  \n2023-05-10 14:00:00               116569.176900   5.0  10.0   14.0     0.0  \n2023-05-10 14:15:00               123414.864377   5.0  10.0   14.0    15.0  \n2023-05-10 14:30:00               123969.245968   5.0  10.0   14.0    30.0  \n2023-05-10 14:45:00               121966.857636   5.0  10.0   14.0    45.0  \n\n[399608 rows x 22 columns]",
      "text/html": "<div>\n<style scoped>\n    .dataframe tbody tr th:only-of-type {\n        vertical-align: middle;\n    }\n\n    .dataframe tbody tr th {\n        vertical-align: top;\n    }\n\n    .dataframe thead th {\n        text-align: right;\n    }\n</style>\n<table border=\"1\" class=\"dataframe\">\n  <thead>\n    <tr style=\"text-align: right;\">\n      <th></th>\n      <th>Pression au niveau mer</th>\n      <th>Variation de pression en 3 heures</th>\n      <th>Température</th>\n      <th>Humidité</th>\n      <th>Consommation (MW)</th>\n      <th>Holiday</th>\n      <th>A</th>\n      <th>B</th>\n      <th>C</th>\n      <th>Confinement</th>\n      <th>...</th>\n      <th>week-end</th>\n      <th>Prix Elec 1kWh</th>\n      <th>Solaire (TW)</th>\n      <th>Eolien (TW)</th>\n      <th>Hydraulique (MW)</th>\n      <th>Production Residuelle (MW)</th>\n      <th>Mois</th>\n      <th>Jour</th>\n      <th>Heure</th>\n      <th>Minute</th>\n    </tr>\n    <tr>\n      <th>Datetime</th>\n      <th></th>\n      <th></th>\n      <th></th>\n      <th></th>\n      <th></th>\n      <th></th>\n      <th></th>\n      <th></th>\n      <th></th>\n      <th></th>\n      <th></th>\n      <th></th>\n      <th></th>\n      <th></th>\n      <th></th>\n      <th></th>\n      <th></th>\n      <th></th>\n      <th></th>\n      <th></th>\n      <th></th>\n    </tr>\n  </thead>\n  <tbody>\n    <tr>\n      <th>2012-01-01 01:00:00</th>\n      <td>101912.1325</td>\n      <td>-26.204878</td>\n      <td>284.441001</td>\n      <td>90.875456</td>\n      <td>56231.0</td>\n      <td>1.000000e+00</td>\n      <td>1.0</td>\n      <td>1.0</td>\n      <td>1.000000e+00</td>\n      <td>0.0</td>\n      <td>...</td>\n      <td>1.0</td>\n      <td>69.37</td>\n      <td>0.000000</td>\n      <td>63.768199</td>\n      <td>7598.0</td>\n      <td>78903.398418</td>\n      <td>1.0</td>\n      <td>1.0</td>\n      <td>1.0</td>\n      <td>0.0</td>\n    </tr>\n    <tr>\n      <th>2012-01-01 01:15:00</th>\n      <td>101909.5278</td>\n      <td>-26.399241</td>\n      <td>284.418138</td>\n      <td>91.010688</td>\n      <td>56153.0</td>\n      <td>1.000000e+00</td>\n      <td>1.0</td>\n      <td>1.0</td>\n      <td>1.000000e+00</td>\n      <td>0.0</td>\n      <td>...</td>\n      <td>1.0</td>\n      <td>69.37</td>\n      <td>0.000000</td>\n      <td>63.678029</td>\n      <td>7448.5</td>\n      <td>78651.558488</td>\n      <td>1.0</td>\n      <td>1.0</td>\n      <td>1.0</td>\n      <td>15.0</td>\n    </tr>\n    <tr>\n      <th>2012-01-01 01:30:00</th>\n      <td>101906.9230</td>\n      <td>-26.593603</td>\n      <td>284.395274</td>\n      <td>91.145920</td>\n      <td>56075.0</td>\n      <td>1.000000e+00</td>\n      <td>1.0</td>\n      <td>1.0</td>\n      <td>1.000000e+00</td>\n      <td>0.0</td>\n      <td>...</td>\n      <td>1.0</td>\n      <td>69.37</td>\n      <td>0.000000</td>\n      <td>63.587859</td>\n      <td>7299.0</td>\n      <td>78399.718558</td>\n      <td>1.0</td>\n      <td>1.0</td>\n      <td>1.0</td>\n      <td>30.0</td>\n    </tr>\n    <tr>\n      <th>2012-01-01 01:45:00</th>\n      <td>101904.3182</td>\n      <td>-26.787965</td>\n      <td>284.372410</td>\n      <td>91.281152</td>\n      <td>55803.5</td>\n      <td>1.000000e+00</td>\n      <td>1.0</td>\n      <td>1.0</td>\n      <td>1.000000e+00</td>\n      <td>0.0</td>\n      <td>...</td>\n      <td>1.0</td>\n      <td>69.37</td>\n      <td>0.000000</td>\n      <td>63.669012</td>\n      <td>7229.0</td>\n      <td>78763.524495</td>\n      <td>1.0</td>\n      <td>1.0</td>\n      <td>1.0</td>\n      <td>45.0</td>\n    </tr>\n    <tr>\n      <th>2012-01-01 02:00:00</th>\n      <td>101901.7134</td>\n      <td>-26.982327</td>\n      <td>284.349546</td>\n      <td>91.416384</td>\n      <td>55532.0</td>\n      <td>1.000000e+00</td>\n      <td>1.0</td>\n      <td>1.0</td>\n      <td>1.000000e+00</td>\n      <td>0.0</td>\n      <td>...</td>\n      <td>1.0</td>\n      <td>69.37</td>\n      <td>0.000000</td>\n      <td>63.750165</td>\n      <td>7159.0</td>\n      <td>79127.330432</td>\n      <td>1.0</td>\n      <td>1.0</td>\n      <td>2.0</td>\n      <td>0.0</td>\n    </tr>\n    <tr>\n      <th>...</th>\n      <td>...</td>\n      <td>...</td>\n      <td>...</td>\n      <td>...</td>\n      <td>...</td>\n      <td>...</td>\n      <td>...</td>\n      <td>...</td>\n      <td>...</td>\n      <td>...</td>\n      <td>...</td>\n      <td>...</td>\n      <td>...</td>\n      <td>...</td>\n      <td>...</td>\n      <td>...</td>\n      <td>...</td>\n      <td>...</td>\n      <td>...</td>\n      <td>...</td>\n      <td>...</td>\n    </tr>\n    <tr>\n      <th>2023-05-10 13:45:00</th>\n      <td>101690.4182</td>\n      <td>-5.555157</td>\n      <td>288.633609</td>\n      <td>67.142344</td>\n      <td>48632.0</td>\n      <td>-3.469447e-18</td>\n      <td>0.0</td>\n      <td>0.0</td>\n      <td>5.551115e-17</td>\n      <td>0.0</td>\n      <td>...</td>\n      <td>0.0</td>\n      <td>104.08</td>\n      <td>85.847085</td>\n      <td>35.917932</td>\n      <td>6661.0</td>\n      <td>115711.948953</td>\n      <td>5.0</td>\n      <td>10.0</td>\n      <td>13.0</td>\n      <td>45.0</td>\n    </tr>\n    <tr>\n      <th>2023-05-10 14:00:00</th>\n      <td>101688.5445</td>\n      <td>-11.812752</td>\n      <td>288.791610</td>\n      <td>66.369890</td>\n      <td>48073.0</td>\n      <td>-3.469447e-18</td>\n      <td>0.0</td>\n      <td>0.0</td>\n      <td>5.551115e-17</td>\n      <td>0.0</td>\n      <td>...</td>\n      <td>0.0</td>\n      <td>104.08</td>\n      <td>83.554008</td>\n      <td>37.196585</td>\n      <td>6695.0</td>\n      <td>116569.176900</td>\n      <td>5.0</td>\n      <td>10.0</td>\n      <td>14.0</td>\n      <td>0.0</td>\n    </tr>\n    <tr>\n      <th>2023-05-10 14:15:00</th>\n      <td>101683.9215</td>\n      <td>-15.072847</td>\n      <td>288.828798</td>\n      <td>66.207288</td>\n      <td>48427.0</td>\n      <td>-3.469447e-18</td>\n      <td>0.0</td>\n      <td>0.0</td>\n      <td>5.551115e-17</td>\n      <td>0.0</td>\n      <td>...</td>\n      <td>0.0</td>\n      <td>104.08</td>\n      <td>86.745207</td>\n      <td>39.156329</td>\n      <td>6784.0</td>\n      <td>123414.864377</td>\n      <td>5.0</td>\n      <td>10.0</td>\n      <td>14.0</td>\n      <td>15.0</td>\n    </tr>\n    <tr>\n      <th>2023-05-10 14:30:00</th>\n      <td>101679.2986</td>\n      <td>-18.332943</td>\n      <td>288.865986</td>\n      <td>66.044685</td>\n      <td>47688.0</td>\n      <td>-3.469447e-18</td>\n      <td>0.0</td>\n      <td>0.0</td>\n      <td>5.551115e-17</td>\n      <td>0.0</td>\n      <td>...</td>\n      <td>0.0</td>\n      <td>104.08</td>\n      <td>84.729210</td>\n      <td>40.216518</td>\n      <td>6495.0</td>\n      <td>123969.245968</td>\n      <td>5.0</td>\n      <td>10.0</td>\n      <td>14.0</td>\n      <td>30.0</td>\n    </tr>\n    <tr>\n      <th>2023-05-10 14:45:00</th>\n      <td>101674.6756</td>\n      <td>-21.593038</td>\n      <td>288.903174</td>\n      <td>65.882083</td>\n      <td>47403.0</td>\n      <td>-3.469447e-18</td>\n      <td>0.0</td>\n      <td>0.0</td>\n      <td>5.551115e-17</td>\n      <td>0.0</td>\n      <td>...</td>\n      <td>0.0</td>\n      <td>104.08</td>\n      <td>83.152719</td>\n      <td>39.824569</td>\n      <td>6568.0</td>\n      <td>121966.857636</td>\n      <td>5.0</td>\n      <td>10.0</td>\n      <td>14.0</td>\n      <td>45.0</td>\n    </tr>\n  </tbody>\n</table>\n<p>399608 rows × 22 columns</p>\n</div>"
     },
     "execution_count": 36,
     "metadata": {},
     "output_type": "execute_result"
    }
   ],
   "source": [
    "data_unscaled = np.arctanh(data_scaled)*std + mean\n",
    "data_unscaled"
   ],
   "metadata": {
    "collapsed": false,
    "ExecuteTime": {
     "end_time": "2023-05-25T13:33:53.350226800Z",
     "start_time": "2023-05-25T13:33:53.030154Z"
    }
   }
  },
  {
   "cell_type": "code",
   "execution_count": 41,
   "outputs": [
    {
     "data": {
      "text/plain": "                                               0             1\nPression au niveau mer             101676.081632   1064.624005\nVariation de pression en 3 heures       0.467160     90.825030\nTempérature                           285.488609      6.965617\nHumidité                               74.652418     13.060096\nConsommation (MW)                   53726.713835  11927.994967\nHoliday                                 0.030019      0.170641\nA                                       0.336079      0.472366\nB                                       0.336320      0.472450\nC                                       0.336320      0.472450\nConfinement                             0.032071      0.176190\nPrévision J (MW)                    53411.036919  11860.351279\nPrévision J-1 (MW)                  53488.219292  11871.626385\nweek-end                                0.288273      0.452959\nPrix Elec 1kWh                         75.074551     20.606988\nSolaire (TW)                           19.709471     28.134187\nEolien (TW)                            30.233996     22.591239\nHydraulique (MW)                     7051.435582   2776.420529\nProduction Residuelle (MW)          33502.184454  47838.624150\nMois                                    6.390523      3.466450\nJour                                   15.744239      8.817541\nHeure                                  11.468930      6.928133\nMinute                                 22.500000     16.770510",
      "text/html": "<div>\n<style scoped>\n    .dataframe tbody tr th:only-of-type {\n        vertical-align: middle;\n    }\n\n    .dataframe tbody tr th {\n        vertical-align: top;\n    }\n\n    .dataframe thead th {\n        text-align: right;\n    }\n</style>\n<table border=\"1\" class=\"dataframe\">\n  <thead>\n    <tr style=\"text-align: right;\">\n      <th></th>\n      <th>0</th>\n      <th>1</th>\n    </tr>\n  </thead>\n  <tbody>\n    <tr>\n      <th>Pression au niveau mer</th>\n      <td>101676.081632</td>\n      <td>1064.624005</td>\n    </tr>\n    <tr>\n      <th>Variation de pression en 3 heures</th>\n      <td>0.467160</td>\n      <td>90.825030</td>\n    </tr>\n    <tr>\n      <th>Température</th>\n      <td>285.488609</td>\n      <td>6.965617</td>\n    </tr>\n    <tr>\n      <th>Humidité</th>\n      <td>74.652418</td>\n      <td>13.060096</td>\n    </tr>\n    <tr>\n      <th>Consommation (MW)</th>\n      <td>53726.713835</td>\n      <td>11927.994967</td>\n    </tr>\n    <tr>\n      <th>Holiday</th>\n      <td>0.030019</td>\n      <td>0.170641</td>\n    </tr>\n    <tr>\n      <th>A</th>\n      <td>0.336079</td>\n      <td>0.472366</td>\n    </tr>\n    <tr>\n      <th>B</th>\n      <td>0.336320</td>\n      <td>0.472450</td>\n    </tr>\n    <tr>\n      <th>C</th>\n      <td>0.336320</td>\n      <td>0.472450</td>\n    </tr>\n    <tr>\n      <th>Confinement</th>\n      <td>0.032071</td>\n      <td>0.176190</td>\n    </tr>\n    <tr>\n      <th>Prévision J (MW)</th>\n      <td>53411.036919</td>\n      <td>11860.351279</td>\n    </tr>\n    <tr>\n      <th>Prévision J-1 (MW)</th>\n      <td>53488.219292</td>\n      <td>11871.626385</td>\n    </tr>\n    <tr>\n      <th>week-end</th>\n      <td>0.288273</td>\n      <td>0.452959</td>\n    </tr>\n    <tr>\n      <th>Prix Elec 1kWh</th>\n      <td>75.074551</td>\n      <td>20.606988</td>\n    </tr>\n    <tr>\n      <th>Solaire (TW)</th>\n      <td>19.709471</td>\n      <td>28.134187</td>\n    </tr>\n    <tr>\n      <th>Eolien (TW)</th>\n      <td>30.233996</td>\n      <td>22.591239</td>\n    </tr>\n    <tr>\n      <th>Hydraulique (MW)</th>\n      <td>7051.435582</td>\n      <td>2776.420529</td>\n    </tr>\n    <tr>\n      <th>Production Residuelle (MW)</th>\n      <td>33502.184454</td>\n      <td>47838.624150</td>\n    </tr>\n    <tr>\n      <th>Mois</th>\n      <td>6.390523</td>\n      <td>3.466450</td>\n    </tr>\n    <tr>\n      <th>Jour</th>\n      <td>15.744239</td>\n      <td>8.817541</td>\n    </tr>\n    <tr>\n      <th>Heure</th>\n      <td>11.468930</td>\n      <td>6.928133</td>\n    </tr>\n    <tr>\n      <th>Minute</th>\n      <td>22.500000</td>\n      <td>16.770510</td>\n    </tr>\n  </tbody>\n</table>\n</div>"
     },
     "execution_count": 41,
     "metadata": {},
     "output_type": "execute_result"
    }
   ],
   "source": [
    "export_mean_std = pd.concat((mean,std), axis=1)\n",
    "export_mean_std"
   ],
   "metadata": {
    "collapsed": false,
    "ExecuteTime": {
     "end_time": "2023-05-25T13:36:00.916207300Z",
     "start_time": "2023-05-25T13:36:00.907205Z"
    }
   }
  },
  {
   "cell_type": "code",
   "execution_count": 46,
   "outputs": [],
   "source": [
    "data_scaled1 = np.tanh(\n",
    "    (data.drop(columns=['Annee']) - export_mean_std[0])/export_mean_std[1]\n",
    ")"
   ],
   "metadata": {
    "collapsed": false,
    "ExecuteTime": {
     "end_time": "2023-05-25T13:37:14.705183900Z",
     "start_time": "2023-05-25T13:37:14.474197Z"
    }
   }
  },
  {
   "cell_type": "code",
   "execution_count": 47,
   "outputs": [
    {
     "data": {
      "text/plain": "                     Pression au niveau mer   \nDatetime                                      \n2012-01-01 01:00:00                0.218159  \\\n2012-01-01 01:15:00                0.215828   \n2012-01-01 01:30:00                0.213494   \n2012-01-01 01:45:00                0.211157   \n2012-01-01 02:00:00                0.208818   \n...                                     ...   \n2023-05-10 13:45:00                0.013466   \n2023-05-10 14:00:00                0.011706   \n2023-05-10 14:15:00                0.007364   \n2023-05-10 14:30:00                0.003022   \n2023-05-10 14:45:00               -0.001321   \n\n                     Variation de pression en 3 heures  Température  Humidité   \nDatetime                                                                        \n2012-01-01 01:00:00                          -0.285504    -0.149273  0.846077  \\\n2012-01-01 01:15:00                          -0.287468    -0.152481  0.848994   \n2012-01-01 01:30:00                          -0.289430    -0.155685  0.851860   \n2012-01-01 01:45:00                          -0.291389    -0.158886  0.854675   \n2012-01-01 02:00:00                          -0.293346    -0.162084  0.857442   \n...                                                ...          ...       ...   \n2023-05-10 13:45:00                          -0.066210     0.423134 -0.519051   \n2023-05-10 14:00:00                          -0.134386     0.441576 -0.560928   \n2023-05-10 14:15:00                          -0.169448     0.445863 -0.569401   \n2023-05-10 14:30:00                          -0.204086     0.450131 -0.577755   \n2023-05-10 14:45:00                          -0.238221     0.454377 -0.585990   \n\n                     Consommation (MW)   Holiday         A         B   \nDatetime                                                               \n2012-01-01 01:00:00           0.206919  0.999977  0.886539  0.886377  \\\n2012-01-01 01:15:00           0.200651  0.999977  0.886539  0.886377   \n2012-01-01 01:30:00           0.194367  0.999977  0.886539  0.886377   \n2012-01-01 01:45:00           0.172372  0.999977  0.886539  0.886377   \n2012-01-01 02:00:00           0.150204  0.999977  0.886539  0.886377   \n...                                ...       ...       ...       ...   \n2023-05-10 13:45:00          -0.402914 -0.174129 -0.611604 -0.611844   \n2023-05-10 14:00:00          -0.441415 -0.174129 -0.611604 -0.611844   \n2023-05-10 14:15:00          -0.417210 -0.174129 -0.611604 -0.611844   \n2023-05-10 14:30:00          -0.467029 -0.174129 -0.611604 -0.611844   \n2023-05-10 14:45:00          -0.485501 -0.174129 -0.611604 -0.611844   \n\n                            C  Confinement  ...  week-end  Prix Elec 1kWh   \nDatetime                                    ...                             \n2012-01-01 01:00:00  0.886377    -0.180044  ...  0.917230       -0.269965  \\\n2012-01-01 01:15:00  0.886377    -0.180044  ...  0.917230       -0.269965   \n2012-01-01 01:30:00  0.886377    -0.180044  ...  0.917230       -0.269965   \n2012-01-01 01:45:00  0.886377    -0.180044  ...  0.917230       -0.269965   \n2012-01-01 02:00:00  0.886377    -0.180044  ...  0.917230       -0.269965   \n...                       ...          ...  ...       ...             ...   \n2023-05-10 13:45:00 -0.611844    -0.180044  ... -0.562458        0.886974   \n2023-05-10 14:00:00 -0.611844    -0.180044  ... -0.562458        0.886974   \n2023-05-10 14:15:00 -0.611844    -0.180044  ... -0.562458        0.886974   \n2023-05-10 14:30:00 -0.611844    -0.180044  ... -0.562458        0.886974   \n2023-05-10 14:45:00 -0.611844    -0.180044  ... -0.562458        0.886974   \n\n                     Solaire (TW)  Eolien (TW)  Hydraulique (MW)   \nDatetime                                                           \n2012-01-01 01:00:00     -0.604718     0.902287          0.194355  \\\n2012-01-01 01:15:00     -0.604718     0.901543          0.142046   \n2012-01-01 01:30:00     -0.604718     0.900793          0.088931   \n2012-01-01 01:45:00     -0.604718     0.901468          0.063867   \n2012-01-01 02:00:00     -0.604718     0.902139          0.038723   \n...                           ...          ...               ...   \n2023-05-10 13:45:00      0.982002     0.246421         -0.139706   \n2023-05-10 14:00:00      0.978849     0.298797         -0.127679   \n2023-05-10 14:15:00      0.983105     0.375617         -0.096027   \n2023-05-10 14:30:00      0.980528     0.415198         -0.197774   \n2023-05-10 14:45:00      0.978243     0.400737         -0.172383   \n\n                     Production Residuelle (MW)      Mois      Jour     Heure   \nDatetime                                                                        \n2012-01-01 01:00:00                    0.739352 -0.914616 -0.931835 -0.907130  \\\n2012-01-01 01:15:00                    0.736956 -0.914616 -0.931835 -0.907130   \n2012-01-01 01:30:00                    0.734542 -0.914616 -0.931835 -0.907130   \n2012-01-01 01:45:00                    0.738024 -0.914616 -0.931835 -0.907130   \n2012-01-01 02:00:00                    0.741467 -0.914616 -0.931835 -0.877946   \n...                                         ...       ...       ...       ...   \n2023-05-10 13:45:00                    0.937680 -0.380922 -0.572649  0.217465   \n2023-05-10 14:00:00                    0.939808 -0.380922 -0.572649  0.349902   \n2023-05-10 14:15:00                    0.954448 -0.380922 -0.572649  0.349902   \n2023-05-10 14:30:00                    0.955468 -0.380922 -0.572649  0.349902   \n2023-05-10 14:45:00                    0.951673 -0.380922 -0.572649  0.349902   \n\n                       Minute  \nDatetime                       \n2012-01-01 01:00:00 -0.872066  \n2012-01-01 01:15:00 -0.419606  \n2012-01-01 01:30:00  0.419606  \n2012-01-01 01:45:00  0.872066  \n2012-01-01 02:00:00 -0.872066  \n...                       ...  \n2023-05-10 13:45:00  0.872066  \n2023-05-10 14:00:00 -0.872066  \n2023-05-10 14:15:00 -0.419606  \n2023-05-10 14:30:00  0.419606  \n2023-05-10 14:45:00  0.872066  \n\n[399608 rows x 22 columns]",
      "text/html": "<div>\n<style scoped>\n    .dataframe tbody tr th:only-of-type {\n        vertical-align: middle;\n    }\n\n    .dataframe tbody tr th {\n        vertical-align: top;\n    }\n\n    .dataframe thead th {\n        text-align: right;\n    }\n</style>\n<table border=\"1\" class=\"dataframe\">\n  <thead>\n    <tr style=\"text-align: right;\">\n      <th></th>\n      <th>Pression au niveau mer</th>\n      <th>Variation de pression en 3 heures</th>\n      <th>Température</th>\n      <th>Humidité</th>\n      <th>Consommation (MW)</th>\n      <th>Holiday</th>\n      <th>A</th>\n      <th>B</th>\n      <th>C</th>\n      <th>Confinement</th>\n      <th>...</th>\n      <th>week-end</th>\n      <th>Prix Elec 1kWh</th>\n      <th>Solaire (TW)</th>\n      <th>Eolien (TW)</th>\n      <th>Hydraulique (MW)</th>\n      <th>Production Residuelle (MW)</th>\n      <th>Mois</th>\n      <th>Jour</th>\n      <th>Heure</th>\n      <th>Minute</th>\n    </tr>\n    <tr>\n      <th>Datetime</th>\n      <th></th>\n      <th></th>\n      <th></th>\n      <th></th>\n      <th></th>\n      <th></th>\n      <th></th>\n      <th></th>\n      <th></th>\n      <th></th>\n      <th></th>\n      <th></th>\n      <th></th>\n      <th></th>\n      <th></th>\n      <th></th>\n      <th></th>\n      <th></th>\n      <th></th>\n      <th></th>\n      <th></th>\n    </tr>\n  </thead>\n  <tbody>\n    <tr>\n      <th>2012-01-01 01:00:00</th>\n      <td>0.218159</td>\n      <td>-0.285504</td>\n      <td>-0.149273</td>\n      <td>0.846077</td>\n      <td>0.206919</td>\n      <td>0.999977</td>\n      <td>0.886539</td>\n      <td>0.886377</td>\n      <td>0.886377</td>\n      <td>-0.180044</td>\n      <td>...</td>\n      <td>0.917230</td>\n      <td>-0.269965</td>\n      <td>-0.604718</td>\n      <td>0.902287</td>\n      <td>0.194355</td>\n      <td>0.739352</td>\n      <td>-0.914616</td>\n      <td>-0.931835</td>\n      <td>-0.907130</td>\n      <td>-0.872066</td>\n    </tr>\n    <tr>\n      <th>2012-01-01 01:15:00</th>\n      <td>0.215828</td>\n      <td>-0.287468</td>\n      <td>-0.152481</td>\n      <td>0.848994</td>\n      <td>0.200651</td>\n      <td>0.999977</td>\n      <td>0.886539</td>\n      <td>0.886377</td>\n      <td>0.886377</td>\n      <td>-0.180044</td>\n      <td>...</td>\n      <td>0.917230</td>\n      <td>-0.269965</td>\n      <td>-0.604718</td>\n      <td>0.901543</td>\n      <td>0.142046</td>\n      <td>0.736956</td>\n      <td>-0.914616</td>\n      <td>-0.931835</td>\n      <td>-0.907130</td>\n      <td>-0.419606</td>\n    </tr>\n    <tr>\n      <th>2012-01-01 01:30:00</th>\n      <td>0.213494</td>\n      <td>-0.289430</td>\n      <td>-0.155685</td>\n      <td>0.851860</td>\n      <td>0.194367</td>\n      <td>0.999977</td>\n      <td>0.886539</td>\n      <td>0.886377</td>\n      <td>0.886377</td>\n      <td>-0.180044</td>\n      <td>...</td>\n      <td>0.917230</td>\n      <td>-0.269965</td>\n      <td>-0.604718</td>\n      <td>0.900793</td>\n      <td>0.088931</td>\n      <td>0.734542</td>\n      <td>-0.914616</td>\n      <td>-0.931835</td>\n      <td>-0.907130</td>\n      <td>0.419606</td>\n    </tr>\n    <tr>\n      <th>2012-01-01 01:45:00</th>\n      <td>0.211157</td>\n      <td>-0.291389</td>\n      <td>-0.158886</td>\n      <td>0.854675</td>\n      <td>0.172372</td>\n      <td>0.999977</td>\n      <td>0.886539</td>\n      <td>0.886377</td>\n      <td>0.886377</td>\n      <td>-0.180044</td>\n      <td>...</td>\n      <td>0.917230</td>\n      <td>-0.269965</td>\n      <td>-0.604718</td>\n      <td>0.901468</td>\n      <td>0.063867</td>\n      <td>0.738024</td>\n      <td>-0.914616</td>\n      <td>-0.931835</td>\n      <td>-0.907130</td>\n      <td>0.872066</td>\n    </tr>\n    <tr>\n      <th>2012-01-01 02:00:00</th>\n      <td>0.208818</td>\n      <td>-0.293346</td>\n      <td>-0.162084</td>\n      <td>0.857442</td>\n      <td>0.150204</td>\n      <td>0.999977</td>\n      <td>0.886539</td>\n      <td>0.886377</td>\n      <td>0.886377</td>\n      <td>-0.180044</td>\n      <td>...</td>\n      <td>0.917230</td>\n      <td>-0.269965</td>\n      <td>-0.604718</td>\n      <td>0.902139</td>\n      <td>0.038723</td>\n      <td>0.741467</td>\n      <td>-0.914616</td>\n      <td>-0.931835</td>\n      <td>-0.877946</td>\n      <td>-0.872066</td>\n    </tr>\n    <tr>\n      <th>...</th>\n      <td>...</td>\n      <td>...</td>\n      <td>...</td>\n      <td>...</td>\n      <td>...</td>\n      <td>...</td>\n      <td>...</td>\n      <td>...</td>\n      <td>...</td>\n      <td>...</td>\n      <td>...</td>\n      <td>...</td>\n      <td>...</td>\n      <td>...</td>\n      <td>...</td>\n      <td>...</td>\n      <td>...</td>\n      <td>...</td>\n      <td>...</td>\n      <td>...</td>\n      <td>...</td>\n    </tr>\n    <tr>\n      <th>2023-05-10 13:45:00</th>\n      <td>0.013466</td>\n      <td>-0.066210</td>\n      <td>0.423134</td>\n      <td>-0.519051</td>\n      <td>-0.402914</td>\n      <td>-0.174129</td>\n      <td>-0.611604</td>\n      <td>-0.611844</td>\n      <td>-0.611844</td>\n      <td>-0.180044</td>\n      <td>...</td>\n      <td>-0.562458</td>\n      <td>0.886974</td>\n      <td>0.982002</td>\n      <td>0.246421</td>\n      <td>-0.139706</td>\n      <td>0.937680</td>\n      <td>-0.380922</td>\n      <td>-0.572649</td>\n      <td>0.217465</td>\n      <td>0.872066</td>\n    </tr>\n    <tr>\n      <th>2023-05-10 14:00:00</th>\n      <td>0.011706</td>\n      <td>-0.134386</td>\n      <td>0.441576</td>\n      <td>-0.560928</td>\n      <td>-0.441415</td>\n      <td>-0.174129</td>\n      <td>-0.611604</td>\n      <td>-0.611844</td>\n      <td>-0.611844</td>\n      <td>-0.180044</td>\n      <td>...</td>\n      <td>-0.562458</td>\n      <td>0.886974</td>\n      <td>0.978849</td>\n      <td>0.298797</td>\n      <td>-0.127679</td>\n      <td>0.939808</td>\n      <td>-0.380922</td>\n      <td>-0.572649</td>\n      <td>0.349902</td>\n      <td>-0.872066</td>\n    </tr>\n    <tr>\n      <th>2023-05-10 14:15:00</th>\n      <td>0.007364</td>\n      <td>-0.169448</td>\n      <td>0.445863</td>\n      <td>-0.569401</td>\n      <td>-0.417210</td>\n      <td>-0.174129</td>\n      <td>-0.611604</td>\n      <td>-0.611844</td>\n      <td>-0.611844</td>\n      <td>-0.180044</td>\n      <td>...</td>\n      <td>-0.562458</td>\n      <td>0.886974</td>\n      <td>0.983105</td>\n      <td>0.375617</td>\n      <td>-0.096027</td>\n      <td>0.954448</td>\n      <td>-0.380922</td>\n      <td>-0.572649</td>\n      <td>0.349902</td>\n      <td>-0.419606</td>\n    </tr>\n    <tr>\n      <th>2023-05-10 14:30:00</th>\n      <td>0.003022</td>\n      <td>-0.204086</td>\n      <td>0.450131</td>\n      <td>-0.577755</td>\n      <td>-0.467029</td>\n      <td>-0.174129</td>\n      <td>-0.611604</td>\n      <td>-0.611844</td>\n      <td>-0.611844</td>\n      <td>-0.180044</td>\n      <td>...</td>\n      <td>-0.562458</td>\n      <td>0.886974</td>\n      <td>0.980528</td>\n      <td>0.415198</td>\n      <td>-0.197774</td>\n      <td>0.955468</td>\n      <td>-0.380922</td>\n      <td>-0.572649</td>\n      <td>0.349902</td>\n      <td>0.419606</td>\n    </tr>\n    <tr>\n      <th>2023-05-10 14:45:00</th>\n      <td>-0.001321</td>\n      <td>-0.238221</td>\n      <td>0.454377</td>\n      <td>-0.585990</td>\n      <td>-0.485501</td>\n      <td>-0.174129</td>\n      <td>-0.611604</td>\n      <td>-0.611844</td>\n      <td>-0.611844</td>\n      <td>-0.180044</td>\n      <td>...</td>\n      <td>-0.562458</td>\n      <td>0.886974</td>\n      <td>0.978243</td>\n      <td>0.400737</td>\n      <td>-0.172383</td>\n      <td>0.951673</td>\n      <td>-0.380922</td>\n      <td>-0.572649</td>\n      <td>0.349902</td>\n      <td>0.872066</td>\n    </tr>\n  </tbody>\n</table>\n<p>399608 rows × 22 columns</p>\n</div>"
     },
     "execution_count": 47,
     "metadata": {},
     "output_type": "execute_result"
    }
   ],
   "source": [
    "data_scaled1"
   ],
   "metadata": {
    "collapsed": false,
    "ExecuteTime": {
     "end_time": "2023-05-25T13:37:16.016954200Z",
     "start_time": "2023-05-25T13:37:15.906186600Z"
    }
   }
  },
  {
   "cell_type": "code",
   "execution_count": 48,
   "outputs": [
    {
     "name": "stderr",
     "output_type": "stream",
     "text": [
      "c:\\users\\doria\\appdata\\local\\programs\\python\\python38\\lib\\site-packages\\pandas\\core\\internals\\blocks.py:329: RuntimeWarning: divide by zero encountered in arctanh\n",
      "  result = func(self.values, **kwargs)\n"
     ]
    },
    {
     "data": {
      "text/plain": "                     Pression au niveau mer   \nDatetime                                      \n2012-01-01 01:00:00             101912.1325  \\\n2012-01-01 01:15:00             101909.5278   \n2012-01-01 01:30:00             101906.9230   \n2012-01-01 01:45:00             101904.3182   \n2012-01-01 02:00:00             101901.7134   \n...                                     ...   \n2023-05-10 13:45:00             101690.4182   \n2023-05-10 14:00:00             101688.5445   \n2023-05-10 14:15:00             101683.9215   \n2023-05-10 14:30:00             101679.2986   \n2023-05-10 14:45:00             101674.6756   \n\n                     Variation de pression en 3 heures  Température   \nDatetime                                                              \n2012-01-01 01:00:00                         -26.204878   284.441001  \\\n2012-01-01 01:15:00                         -26.399241   284.418138   \n2012-01-01 01:30:00                         -26.593603   284.395274   \n2012-01-01 01:45:00                         -26.787965   284.372410   \n2012-01-01 02:00:00                         -26.982327   284.349546   \n...                                                ...          ...   \n2023-05-10 13:45:00                          -5.555157   288.633609   \n2023-05-10 14:00:00                         -11.812752   288.791610   \n2023-05-10 14:15:00                         -15.072847   288.828798   \n2023-05-10 14:30:00                         -18.332943   288.865986   \n2023-05-10 14:45:00                         -21.593038   288.903174   \n\n                      Humidité  Consommation (MW)       Holiday    A    B   \nDatetime                                                                    \n2012-01-01 01:00:00  90.875456            56231.0  1.000000e+00  1.0  1.0  \\\n2012-01-01 01:15:00  91.010688            56153.0  1.000000e+00  1.0  1.0   \n2012-01-01 01:30:00  91.145920            56075.0  1.000000e+00  1.0  1.0   \n2012-01-01 01:45:00  91.281152            55803.5  1.000000e+00  1.0  1.0   \n2012-01-01 02:00:00  91.416384            55532.0  1.000000e+00  1.0  1.0   \n...                        ...                ...           ...  ...  ...   \n2023-05-10 13:45:00  67.142344            48632.0 -3.469447e-18  0.0  0.0   \n2023-05-10 14:00:00  66.369890            48073.0 -3.469447e-18  0.0  0.0   \n2023-05-10 14:15:00  66.207288            48427.0 -3.469447e-18  0.0  0.0   \n2023-05-10 14:30:00  66.044685            47688.0 -3.469447e-18  0.0  0.0   \n2023-05-10 14:45:00  65.882083            47403.0 -3.469447e-18  0.0  0.0   \n\n                                C  Confinement  ...  week-end  Prix Elec 1kWh   \nDatetime                                        ...                             \n2012-01-01 01:00:00  1.000000e+00          0.0  ...       1.0           69.37  \\\n2012-01-01 01:15:00  1.000000e+00          0.0  ...       1.0           69.37   \n2012-01-01 01:30:00  1.000000e+00          0.0  ...       1.0           69.37   \n2012-01-01 01:45:00  1.000000e+00          0.0  ...       1.0           69.37   \n2012-01-01 02:00:00  1.000000e+00          0.0  ...       1.0           69.37   \n...                           ...          ...  ...       ...             ...   \n2023-05-10 13:45:00  5.551115e-17          0.0  ...       0.0          104.08   \n2023-05-10 14:00:00  5.551115e-17          0.0  ...       0.0          104.08   \n2023-05-10 14:15:00  5.551115e-17          0.0  ...       0.0          104.08   \n2023-05-10 14:30:00  5.551115e-17          0.0  ...       0.0          104.08   \n2023-05-10 14:45:00  5.551115e-17          0.0  ...       0.0          104.08   \n\n                     Solaire (TW)  Eolien (TW)  Hydraulique (MW)   \nDatetime                                                           \n2012-01-01 01:00:00      0.000000    63.768199            7598.0  \\\n2012-01-01 01:15:00      0.000000    63.678029            7448.5   \n2012-01-01 01:30:00      0.000000    63.587859            7299.0   \n2012-01-01 01:45:00      0.000000    63.669012            7229.0   \n2012-01-01 02:00:00      0.000000    63.750165            7159.0   \n...                           ...          ...               ...   \n2023-05-10 13:45:00     85.847085    35.917932            6661.0   \n2023-05-10 14:00:00     83.554008    37.196585            6695.0   \n2023-05-10 14:15:00     86.745207    39.156329            6784.0   \n2023-05-10 14:30:00     84.729210    40.216518            6495.0   \n2023-05-10 14:45:00     83.152719    39.824569            6568.0   \n\n                     Production Residuelle (MW)  Mois  Jour  Heure  Minute  \nDatetime                                                                    \n2012-01-01 01:00:00                78903.398418   1.0   1.0    1.0     0.0  \n2012-01-01 01:15:00                78651.558488   1.0   1.0    1.0    15.0  \n2012-01-01 01:30:00                78399.718558   1.0   1.0    1.0    30.0  \n2012-01-01 01:45:00                78763.524495   1.0   1.0    1.0    45.0  \n2012-01-01 02:00:00                79127.330432   1.0   1.0    2.0     0.0  \n...                                         ...   ...   ...    ...     ...  \n2023-05-10 13:45:00               115711.948953   5.0  10.0   13.0    45.0  \n2023-05-10 14:00:00               116569.176900   5.0  10.0   14.0     0.0  \n2023-05-10 14:15:00               123414.864377   5.0  10.0   14.0    15.0  \n2023-05-10 14:30:00               123969.245968   5.0  10.0   14.0    30.0  \n2023-05-10 14:45:00               121966.857636   5.0  10.0   14.0    45.0  \n\n[399608 rows x 22 columns]",
      "text/html": "<div>\n<style scoped>\n    .dataframe tbody tr th:only-of-type {\n        vertical-align: middle;\n    }\n\n    .dataframe tbody tr th {\n        vertical-align: top;\n    }\n\n    .dataframe thead th {\n        text-align: right;\n    }\n</style>\n<table border=\"1\" class=\"dataframe\">\n  <thead>\n    <tr style=\"text-align: right;\">\n      <th></th>\n      <th>Pression au niveau mer</th>\n      <th>Variation de pression en 3 heures</th>\n      <th>Température</th>\n      <th>Humidité</th>\n      <th>Consommation (MW)</th>\n      <th>Holiday</th>\n      <th>A</th>\n      <th>B</th>\n      <th>C</th>\n      <th>Confinement</th>\n      <th>...</th>\n      <th>week-end</th>\n      <th>Prix Elec 1kWh</th>\n      <th>Solaire (TW)</th>\n      <th>Eolien (TW)</th>\n      <th>Hydraulique (MW)</th>\n      <th>Production Residuelle (MW)</th>\n      <th>Mois</th>\n      <th>Jour</th>\n      <th>Heure</th>\n      <th>Minute</th>\n    </tr>\n    <tr>\n      <th>Datetime</th>\n      <th></th>\n      <th></th>\n      <th></th>\n      <th></th>\n      <th></th>\n      <th></th>\n      <th></th>\n      <th></th>\n      <th></th>\n      <th></th>\n      <th></th>\n      <th></th>\n      <th></th>\n      <th></th>\n      <th></th>\n      <th></th>\n      <th></th>\n      <th></th>\n      <th></th>\n      <th></th>\n      <th></th>\n    </tr>\n  </thead>\n  <tbody>\n    <tr>\n      <th>2012-01-01 01:00:00</th>\n      <td>101912.1325</td>\n      <td>-26.204878</td>\n      <td>284.441001</td>\n      <td>90.875456</td>\n      <td>56231.0</td>\n      <td>1.000000e+00</td>\n      <td>1.0</td>\n      <td>1.0</td>\n      <td>1.000000e+00</td>\n      <td>0.0</td>\n      <td>...</td>\n      <td>1.0</td>\n      <td>69.37</td>\n      <td>0.000000</td>\n      <td>63.768199</td>\n      <td>7598.0</td>\n      <td>78903.398418</td>\n      <td>1.0</td>\n      <td>1.0</td>\n      <td>1.0</td>\n      <td>0.0</td>\n    </tr>\n    <tr>\n      <th>2012-01-01 01:15:00</th>\n      <td>101909.5278</td>\n      <td>-26.399241</td>\n      <td>284.418138</td>\n      <td>91.010688</td>\n      <td>56153.0</td>\n      <td>1.000000e+00</td>\n      <td>1.0</td>\n      <td>1.0</td>\n      <td>1.000000e+00</td>\n      <td>0.0</td>\n      <td>...</td>\n      <td>1.0</td>\n      <td>69.37</td>\n      <td>0.000000</td>\n      <td>63.678029</td>\n      <td>7448.5</td>\n      <td>78651.558488</td>\n      <td>1.0</td>\n      <td>1.0</td>\n      <td>1.0</td>\n      <td>15.0</td>\n    </tr>\n    <tr>\n      <th>2012-01-01 01:30:00</th>\n      <td>101906.9230</td>\n      <td>-26.593603</td>\n      <td>284.395274</td>\n      <td>91.145920</td>\n      <td>56075.0</td>\n      <td>1.000000e+00</td>\n      <td>1.0</td>\n      <td>1.0</td>\n      <td>1.000000e+00</td>\n      <td>0.0</td>\n      <td>...</td>\n      <td>1.0</td>\n      <td>69.37</td>\n      <td>0.000000</td>\n      <td>63.587859</td>\n      <td>7299.0</td>\n      <td>78399.718558</td>\n      <td>1.0</td>\n      <td>1.0</td>\n      <td>1.0</td>\n      <td>30.0</td>\n    </tr>\n    <tr>\n      <th>2012-01-01 01:45:00</th>\n      <td>101904.3182</td>\n      <td>-26.787965</td>\n      <td>284.372410</td>\n      <td>91.281152</td>\n      <td>55803.5</td>\n      <td>1.000000e+00</td>\n      <td>1.0</td>\n      <td>1.0</td>\n      <td>1.000000e+00</td>\n      <td>0.0</td>\n      <td>...</td>\n      <td>1.0</td>\n      <td>69.37</td>\n      <td>0.000000</td>\n      <td>63.669012</td>\n      <td>7229.0</td>\n      <td>78763.524495</td>\n      <td>1.0</td>\n      <td>1.0</td>\n      <td>1.0</td>\n      <td>45.0</td>\n    </tr>\n    <tr>\n      <th>2012-01-01 02:00:00</th>\n      <td>101901.7134</td>\n      <td>-26.982327</td>\n      <td>284.349546</td>\n      <td>91.416384</td>\n      <td>55532.0</td>\n      <td>1.000000e+00</td>\n      <td>1.0</td>\n      <td>1.0</td>\n      <td>1.000000e+00</td>\n      <td>0.0</td>\n      <td>...</td>\n      <td>1.0</td>\n      <td>69.37</td>\n      <td>0.000000</td>\n      <td>63.750165</td>\n      <td>7159.0</td>\n      <td>79127.330432</td>\n      <td>1.0</td>\n      <td>1.0</td>\n      <td>2.0</td>\n      <td>0.0</td>\n    </tr>\n    <tr>\n      <th>...</th>\n      <td>...</td>\n      <td>...</td>\n      <td>...</td>\n      <td>...</td>\n      <td>...</td>\n      <td>...</td>\n      <td>...</td>\n      <td>...</td>\n      <td>...</td>\n      <td>...</td>\n      <td>...</td>\n      <td>...</td>\n      <td>...</td>\n      <td>...</td>\n      <td>...</td>\n      <td>...</td>\n      <td>...</td>\n      <td>...</td>\n      <td>...</td>\n      <td>...</td>\n      <td>...</td>\n    </tr>\n    <tr>\n      <th>2023-05-10 13:45:00</th>\n      <td>101690.4182</td>\n      <td>-5.555157</td>\n      <td>288.633609</td>\n      <td>67.142344</td>\n      <td>48632.0</td>\n      <td>-3.469447e-18</td>\n      <td>0.0</td>\n      <td>0.0</td>\n      <td>5.551115e-17</td>\n      <td>0.0</td>\n      <td>...</td>\n      <td>0.0</td>\n      <td>104.08</td>\n      <td>85.847085</td>\n      <td>35.917932</td>\n      <td>6661.0</td>\n      <td>115711.948953</td>\n      <td>5.0</td>\n      <td>10.0</td>\n      <td>13.0</td>\n      <td>45.0</td>\n    </tr>\n    <tr>\n      <th>2023-05-10 14:00:00</th>\n      <td>101688.5445</td>\n      <td>-11.812752</td>\n      <td>288.791610</td>\n      <td>66.369890</td>\n      <td>48073.0</td>\n      <td>-3.469447e-18</td>\n      <td>0.0</td>\n      <td>0.0</td>\n      <td>5.551115e-17</td>\n      <td>0.0</td>\n      <td>...</td>\n      <td>0.0</td>\n      <td>104.08</td>\n      <td>83.554008</td>\n      <td>37.196585</td>\n      <td>6695.0</td>\n      <td>116569.176900</td>\n      <td>5.0</td>\n      <td>10.0</td>\n      <td>14.0</td>\n      <td>0.0</td>\n    </tr>\n    <tr>\n      <th>2023-05-10 14:15:00</th>\n      <td>101683.9215</td>\n      <td>-15.072847</td>\n      <td>288.828798</td>\n      <td>66.207288</td>\n      <td>48427.0</td>\n      <td>-3.469447e-18</td>\n      <td>0.0</td>\n      <td>0.0</td>\n      <td>5.551115e-17</td>\n      <td>0.0</td>\n      <td>...</td>\n      <td>0.0</td>\n      <td>104.08</td>\n      <td>86.745207</td>\n      <td>39.156329</td>\n      <td>6784.0</td>\n      <td>123414.864377</td>\n      <td>5.0</td>\n      <td>10.0</td>\n      <td>14.0</td>\n      <td>15.0</td>\n    </tr>\n    <tr>\n      <th>2023-05-10 14:30:00</th>\n      <td>101679.2986</td>\n      <td>-18.332943</td>\n      <td>288.865986</td>\n      <td>66.044685</td>\n      <td>47688.0</td>\n      <td>-3.469447e-18</td>\n      <td>0.0</td>\n      <td>0.0</td>\n      <td>5.551115e-17</td>\n      <td>0.0</td>\n      <td>...</td>\n      <td>0.0</td>\n      <td>104.08</td>\n      <td>84.729210</td>\n      <td>40.216518</td>\n      <td>6495.0</td>\n      <td>123969.245968</td>\n      <td>5.0</td>\n      <td>10.0</td>\n      <td>14.0</td>\n      <td>30.0</td>\n    </tr>\n    <tr>\n      <th>2023-05-10 14:45:00</th>\n      <td>101674.6756</td>\n      <td>-21.593038</td>\n      <td>288.903174</td>\n      <td>65.882083</td>\n      <td>47403.0</td>\n      <td>-3.469447e-18</td>\n      <td>0.0</td>\n      <td>0.0</td>\n      <td>5.551115e-17</td>\n      <td>0.0</td>\n      <td>...</td>\n      <td>0.0</td>\n      <td>104.08</td>\n      <td>83.152719</td>\n      <td>39.824569</td>\n      <td>6568.0</td>\n      <td>121966.857636</td>\n      <td>5.0</td>\n      <td>10.0</td>\n      <td>14.0</td>\n      <td>45.0</td>\n    </tr>\n  </tbody>\n</table>\n<p>399608 rows × 22 columns</p>\n</div>"
     },
     "execution_count": 48,
     "metadata": {},
     "output_type": "execute_result"
    }
   ],
   "source": [
    "data_unscaled1 = np.arctanh(data_scaled1)*std + mean\n",
    "data_unscaled1"
   ],
   "metadata": {
    "collapsed": false,
    "ExecuteTime": {
     "end_time": "2023-05-25T13:37:38.091191300Z",
     "start_time": "2023-05-25T13:37:37.775192100Z"
    }
   }
  },
  {
   "cell_type": "code",
   "execution_count": 51,
   "outputs": [
    {
     "data": {
      "text/plain": "1.0"
     },
     "execution_count": 51,
     "metadata": {},
     "output_type": "execute_result"
    }
   ],
   "source": [
    "np.double(1.)"
   ],
   "metadata": {
    "collapsed": false,
    "ExecuteTime": {
     "end_time": "2023-05-25T13:40:31.450225300Z",
     "start_time": "2023-05-25T13:40:31.434221400Z"
    }
   }
  },
  {
   "cell_type": "code",
   "execution_count": 52,
   "outputs": [
    {
     "data": {
      "text/plain": "1.0"
     },
     "execution_count": 52,
     "metadata": {},
     "output_type": "execute_result"
    }
   ],
   "source": [
    "np.float64(1.)"
   ],
   "metadata": {
    "collapsed": false,
    "ExecuteTime": {
     "end_time": "2023-05-25T13:40:40.434196500Z",
     "start_time": "2023-05-25T13:40:40.421193300Z"
    }
   }
  },
  {
   "cell_type": "code",
   "execution_count": 53,
   "outputs": [],
   "source": [
    "export_mean_std.to_csv('../data/mean_std.csv', sep=';')"
   ],
   "metadata": {
    "collapsed": false,
    "ExecuteTime": {
     "end_time": "2023-05-25T13:42:14.755197Z",
     "start_time": "2023-05-25T13:42:14.736192900Z"
    }
   }
  },
  {
   "cell_type": "code",
   "execution_count": 59,
   "outputs": [
    {
     "ename": "AttributeError",
     "evalue": "module 'numpy' has no attribute 'float128'",
     "output_type": "error",
     "traceback": [
      "\u001B[1;31m---------------------------------------------------------------------------\u001B[0m",
      "\u001B[1;31mAttributeError\u001B[0m                            Traceback (most recent call last)",
      "Cell \u001B[1;32mIn[59], line 1\u001B[0m\n\u001B[1;32m----> 1\u001B[0m \u001B[38;5;28mprint\u001B[39m(np\u001B[38;5;241m.\u001B[39mfinfo(\u001B[43mnp\u001B[49m\u001B[38;5;241;43m.\u001B[39;49m\u001B[43mfloat128\u001B[49m))\n",
      "File \u001B[1;32mc:\\users\\doria\\appdata\\local\\programs\\python\\python38\\lib\\site-packages\\numpy\\__init__.py:320\u001B[0m, in \u001B[0;36m__getattr__\u001B[1;34m(attr)\u001B[0m\n\u001B[0;32m    317\u001B[0m     \u001B[38;5;28;01mfrom\u001B[39;00m \u001B[38;5;21;01m.\u001B[39;00m\u001B[38;5;21;01mtesting\u001B[39;00m \u001B[38;5;28;01mimport\u001B[39;00m Tester\n\u001B[0;32m    318\u001B[0m     \u001B[38;5;28;01mreturn\u001B[39;00m Tester\n\u001B[1;32m--> 320\u001B[0m \u001B[38;5;28;01mraise\u001B[39;00m \u001B[38;5;167;01mAttributeError\u001B[39;00m(\u001B[38;5;124m\"\u001B[39m\u001B[38;5;124mmodule \u001B[39m\u001B[38;5;132;01m{!r}\u001B[39;00m\u001B[38;5;124m has no attribute \u001B[39m\u001B[38;5;124m\"\u001B[39m\n\u001B[0;32m    321\u001B[0m                      \u001B[38;5;124m\"\u001B[39m\u001B[38;5;132;01m{!r}\u001B[39;00m\u001B[38;5;124m\"\u001B[39m\u001B[38;5;241m.\u001B[39mformat(\u001B[38;5;18m__name__\u001B[39m, attr))\n",
      "\u001B[1;31mAttributeError\u001B[0m: module 'numpy' has no attribute 'float128'"
     ]
    }
   ],
   "source": [
    "print(np.finfo(np.float128))"
   ],
   "metadata": {
    "collapsed": false,
    "ExecuteTime": {
     "end_time": "2023-05-25T14:02:30.370534200Z",
     "start_time": "2023-05-25T14:02:30.332525700Z"
    }
   }
  },
  {
   "cell_type": "code",
   "execution_count": 69,
   "outputs": [],
   "source": [
    "mean_std = pd.read_csv('../data/mean_std.csv', sep=';').set_index('Unnamed: 0')"
   ],
   "metadata": {
    "collapsed": false,
    "ExecuteTime": {
     "end_time": "2023-05-25T14:15:56.392190500Z",
     "start_time": "2023-05-25T14:15:56.384188600Z"
    }
   }
  },
  {
   "cell_type": "code",
   "execution_count": 72,
   "outputs": [
    {
     "data": {
      "text/plain": "                                               0             1\nUnnamed: 0                                                    \nPression au niveau mer             101676.081632   1064.624005\nVariation de pression en 3 heures       0.467160     90.825030\nTempérature                           285.488609      6.965617\nHumidité                               74.652418     13.060096\nConsommation (MW)                   53726.713835  11927.994967\nHoliday                                 0.030019      0.170641\nA                                       0.336079      0.472366\nB                                       0.336320      0.472450\nC                                       0.336320      0.472450\nConfinement                             0.032071      0.176190\nPrévision J (MW)                    53411.036919  11860.351279\nPrévision J-1 (MW)                  53488.219292  11871.626385\nweek-end                                0.288273      0.452959\nPrix Elec 1kWh                         75.074551     20.606988\nSolaire (TW)                           19.709471     28.134187\nEolien (TW)                            30.233996     22.591239\nHydraulique (MW)                     7051.435582   2776.420529\nProduction Residuelle (MW)          33502.184454  47838.624150\nMois                                    6.390523      3.466450\nJour                                   15.744239      8.817541\nHeure                                  11.468930      6.928133\nMinute                                 22.500000     16.770510",
      "text/html": "<div>\n<style scoped>\n    .dataframe tbody tr th:only-of-type {\n        vertical-align: middle;\n    }\n\n    .dataframe tbody tr th {\n        vertical-align: top;\n    }\n\n    .dataframe thead th {\n        text-align: right;\n    }\n</style>\n<table border=\"1\" class=\"dataframe\">\n  <thead>\n    <tr style=\"text-align: right;\">\n      <th></th>\n      <th>0</th>\n      <th>1</th>\n    </tr>\n    <tr>\n      <th>Unnamed: 0</th>\n      <th></th>\n      <th></th>\n    </tr>\n  </thead>\n  <tbody>\n    <tr>\n      <th>Pression au niveau mer</th>\n      <td>101676.081632</td>\n      <td>1064.624005</td>\n    </tr>\n    <tr>\n      <th>Variation de pression en 3 heures</th>\n      <td>0.467160</td>\n      <td>90.825030</td>\n    </tr>\n    <tr>\n      <th>Température</th>\n      <td>285.488609</td>\n      <td>6.965617</td>\n    </tr>\n    <tr>\n      <th>Humidité</th>\n      <td>74.652418</td>\n      <td>13.060096</td>\n    </tr>\n    <tr>\n      <th>Consommation (MW)</th>\n      <td>53726.713835</td>\n      <td>11927.994967</td>\n    </tr>\n    <tr>\n      <th>Holiday</th>\n      <td>0.030019</td>\n      <td>0.170641</td>\n    </tr>\n    <tr>\n      <th>A</th>\n      <td>0.336079</td>\n      <td>0.472366</td>\n    </tr>\n    <tr>\n      <th>B</th>\n      <td>0.336320</td>\n      <td>0.472450</td>\n    </tr>\n    <tr>\n      <th>C</th>\n      <td>0.336320</td>\n      <td>0.472450</td>\n    </tr>\n    <tr>\n      <th>Confinement</th>\n      <td>0.032071</td>\n      <td>0.176190</td>\n    </tr>\n    <tr>\n      <th>Prévision J (MW)</th>\n      <td>53411.036919</td>\n      <td>11860.351279</td>\n    </tr>\n    <tr>\n      <th>Prévision J-1 (MW)</th>\n      <td>53488.219292</td>\n      <td>11871.626385</td>\n    </tr>\n    <tr>\n      <th>week-end</th>\n      <td>0.288273</td>\n      <td>0.452959</td>\n    </tr>\n    <tr>\n      <th>Prix Elec 1kWh</th>\n      <td>75.074551</td>\n      <td>20.606988</td>\n    </tr>\n    <tr>\n      <th>Solaire (TW)</th>\n      <td>19.709471</td>\n      <td>28.134187</td>\n    </tr>\n    <tr>\n      <th>Eolien (TW)</th>\n      <td>30.233996</td>\n      <td>22.591239</td>\n    </tr>\n    <tr>\n      <th>Hydraulique (MW)</th>\n      <td>7051.435582</td>\n      <td>2776.420529</td>\n    </tr>\n    <tr>\n      <th>Production Residuelle (MW)</th>\n      <td>33502.184454</td>\n      <td>47838.624150</td>\n    </tr>\n    <tr>\n      <th>Mois</th>\n      <td>6.390523</td>\n      <td>3.466450</td>\n    </tr>\n    <tr>\n      <th>Jour</th>\n      <td>15.744239</td>\n      <td>8.817541</td>\n    </tr>\n    <tr>\n      <th>Heure</th>\n      <td>11.468930</td>\n      <td>6.928133</td>\n    </tr>\n    <tr>\n      <th>Minute</th>\n      <td>22.500000</td>\n      <td>16.770510</td>\n    </tr>\n  </tbody>\n</table>\n</div>"
     },
     "execution_count": 72,
     "metadata": {},
     "output_type": "execute_result"
    }
   ],
   "source": [
    "mean_std"
   ],
   "metadata": {
    "collapsed": false,
    "ExecuteTime": {
     "end_time": "2023-05-25T14:16:20.503212Z",
     "start_time": "2023-05-25T14:16:20.487692500Z"
    }
   }
  },
  {
   "cell_type": "code",
   "execution_count": 73,
   "outputs": [
    {
     "data": {
      "text/plain": "Unnamed: 0\nPression au niveau mer               101676.081632\nVariation de pression en 3 heures         0.467160\nTempérature                             285.488609\nHumidité                                 74.652418\nConsommation (MW)                     53726.713835\nHoliday                                   0.030019\nA                                         0.336079\nB                                         0.336320\nC                                         0.336320\nConfinement                               0.032071\nPrévision J (MW)                      53411.036919\nPrévision J-1 (MW)                    53488.219292\nweek-end                                  0.288273\nPrix Elec 1kWh                           75.074551\nSolaire (TW)                             19.709471\nEolien (TW)                              30.233996\nHydraulique (MW)                       7051.435582\nProduction Residuelle (MW)            33502.184454\nMois                                      6.390523\nJour                                     15.744239\nHeure                                    11.468930\nMinute                                   22.500000\nName: 0, dtype: float64"
     },
     "execution_count": 73,
     "metadata": {},
     "output_type": "execute_result"
    }
   ],
   "source": [
    "mean_std['0']"
   ],
   "metadata": {
    "collapsed": false,
    "ExecuteTime": {
     "end_time": "2023-05-25T14:16:21.234507700Z",
     "start_time": "2023-05-25T14:16:21.214979200Z"
    }
   }
  },
  {
   "cell_type": "code",
   "execution_count": 74,
   "outputs": [],
   "source": [
    "data_scaled2 = np.tanh(\n",
    "    (data.drop(columns=['Annee']) - mean_std['0'])/mean_std['1']\n",
    ")"
   ],
   "metadata": {
    "collapsed": false,
    "ExecuteTime": {
     "end_time": "2023-05-25T14:16:23.792314600Z",
     "start_time": "2023-05-25T14:16:23.557189700Z"
    }
   }
  },
  {
   "cell_type": "code",
   "execution_count": 75,
   "outputs": [
    {
     "data": {
      "text/plain": "                     Pression au niveau mer   \nDatetime                                      \n2012-01-01 01:00:00                0.218159  \\\n2012-01-01 01:15:00                0.215828   \n2012-01-01 01:30:00                0.213494   \n2012-01-01 01:45:00                0.211157   \n2012-01-01 02:00:00                0.208818   \n...                                     ...   \n2023-05-10 13:45:00                0.013466   \n2023-05-10 14:00:00                0.011706   \n2023-05-10 14:15:00                0.007364   \n2023-05-10 14:30:00                0.003022   \n2023-05-10 14:45:00               -0.001321   \n\n                     Variation de pression en 3 heures  Température  Humidité   \nDatetime                                                                        \n2012-01-01 01:00:00                          -0.285504    -0.149273  0.846077  \\\n2012-01-01 01:15:00                          -0.287468    -0.152481  0.848994   \n2012-01-01 01:30:00                          -0.289430    -0.155685  0.851860   \n2012-01-01 01:45:00                          -0.291389    -0.158886  0.854675   \n2012-01-01 02:00:00                          -0.293346    -0.162084  0.857442   \n...                                                ...          ...       ...   \n2023-05-10 13:45:00                          -0.066210     0.423134 -0.519051   \n2023-05-10 14:00:00                          -0.134386     0.441576 -0.560928   \n2023-05-10 14:15:00                          -0.169448     0.445863 -0.569401   \n2023-05-10 14:30:00                          -0.204086     0.450131 -0.577755   \n2023-05-10 14:45:00                          -0.238221     0.454377 -0.585990   \n\n                     Consommation (MW)   Holiday         A         B   \nDatetime                                                               \n2012-01-01 01:00:00           0.206919  0.999977  0.886539  0.886377  \\\n2012-01-01 01:15:00           0.200651  0.999977  0.886539  0.886377   \n2012-01-01 01:30:00           0.194367  0.999977  0.886539  0.886377   \n2012-01-01 01:45:00           0.172372  0.999977  0.886539  0.886377   \n2012-01-01 02:00:00           0.150204  0.999977  0.886539  0.886377   \n...                                ...       ...       ...       ...   \n2023-05-10 13:45:00          -0.402914 -0.174129 -0.611604 -0.611844   \n2023-05-10 14:00:00          -0.441415 -0.174129 -0.611604 -0.611844   \n2023-05-10 14:15:00          -0.417210 -0.174129 -0.611604 -0.611844   \n2023-05-10 14:30:00          -0.467029 -0.174129 -0.611604 -0.611844   \n2023-05-10 14:45:00          -0.485501 -0.174129 -0.611604 -0.611844   \n\n                            C  Confinement  ...  week-end  Prix Elec 1kWh   \nDatetime                                    ...                             \n2012-01-01 01:00:00  0.886377    -0.180044  ...  0.917230       -0.269965  \\\n2012-01-01 01:15:00  0.886377    -0.180044  ...  0.917230       -0.269965   \n2012-01-01 01:30:00  0.886377    -0.180044  ...  0.917230       -0.269965   \n2012-01-01 01:45:00  0.886377    -0.180044  ...  0.917230       -0.269965   \n2012-01-01 02:00:00  0.886377    -0.180044  ...  0.917230       -0.269965   \n...                       ...          ...  ...       ...             ...   \n2023-05-10 13:45:00 -0.611844    -0.180044  ... -0.562458        0.886974   \n2023-05-10 14:00:00 -0.611844    -0.180044  ... -0.562458        0.886974   \n2023-05-10 14:15:00 -0.611844    -0.180044  ... -0.562458        0.886974   \n2023-05-10 14:30:00 -0.611844    -0.180044  ... -0.562458        0.886974   \n2023-05-10 14:45:00 -0.611844    -0.180044  ... -0.562458        0.886974   \n\n                     Solaire (TW)  Eolien (TW)  Hydraulique (MW)   \nDatetime                                                           \n2012-01-01 01:00:00     -0.604718     0.902287          0.194355  \\\n2012-01-01 01:15:00     -0.604718     0.901543          0.142046   \n2012-01-01 01:30:00     -0.604718     0.900793          0.088931   \n2012-01-01 01:45:00     -0.604718     0.901468          0.063867   \n2012-01-01 02:00:00     -0.604718     0.902139          0.038723   \n...                           ...          ...               ...   \n2023-05-10 13:45:00      0.982002     0.246421         -0.139706   \n2023-05-10 14:00:00      0.978849     0.298797         -0.127679   \n2023-05-10 14:15:00      0.983105     0.375617         -0.096027   \n2023-05-10 14:30:00      0.980528     0.415198         -0.197774   \n2023-05-10 14:45:00      0.978243     0.400737         -0.172383   \n\n                     Production Residuelle (MW)      Mois      Jour     Heure   \nDatetime                                                                        \n2012-01-01 01:00:00                    0.739352 -0.914616 -0.931835 -0.907130  \\\n2012-01-01 01:15:00                    0.736956 -0.914616 -0.931835 -0.907130   \n2012-01-01 01:30:00                    0.734542 -0.914616 -0.931835 -0.907130   \n2012-01-01 01:45:00                    0.738024 -0.914616 -0.931835 -0.907130   \n2012-01-01 02:00:00                    0.741467 -0.914616 -0.931835 -0.877946   \n...                                         ...       ...       ...       ...   \n2023-05-10 13:45:00                    0.937680 -0.380922 -0.572649  0.217465   \n2023-05-10 14:00:00                    0.939808 -0.380922 -0.572649  0.349902   \n2023-05-10 14:15:00                    0.954448 -0.380922 -0.572649  0.349902   \n2023-05-10 14:30:00                    0.955468 -0.380922 -0.572649  0.349902   \n2023-05-10 14:45:00                    0.951673 -0.380922 -0.572649  0.349902   \n\n                       Minute  \nDatetime                       \n2012-01-01 01:00:00 -0.872066  \n2012-01-01 01:15:00 -0.419606  \n2012-01-01 01:30:00  0.419606  \n2012-01-01 01:45:00  0.872066  \n2012-01-01 02:00:00 -0.872066  \n...                       ...  \n2023-05-10 13:45:00  0.872066  \n2023-05-10 14:00:00 -0.872066  \n2023-05-10 14:15:00 -0.419606  \n2023-05-10 14:30:00  0.419606  \n2023-05-10 14:45:00  0.872066  \n\n[399608 rows x 22 columns]",
      "text/html": "<div>\n<style scoped>\n    .dataframe tbody tr th:only-of-type {\n        vertical-align: middle;\n    }\n\n    .dataframe tbody tr th {\n        vertical-align: top;\n    }\n\n    .dataframe thead th {\n        text-align: right;\n    }\n</style>\n<table border=\"1\" class=\"dataframe\">\n  <thead>\n    <tr style=\"text-align: right;\">\n      <th></th>\n      <th>Pression au niveau mer</th>\n      <th>Variation de pression en 3 heures</th>\n      <th>Température</th>\n      <th>Humidité</th>\n      <th>Consommation (MW)</th>\n      <th>Holiday</th>\n      <th>A</th>\n      <th>B</th>\n      <th>C</th>\n      <th>Confinement</th>\n      <th>...</th>\n      <th>week-end</th>\n      <th>Prix Elec 1kWh</th>\n      <th>Solaire (TW)</th>\n      <th>Eolien (TW)</th>\n      <th>Hydraulique (MW)</th>\n      <th>Production Residuelle (MW)</th>\n      <th>Mois</th>\n      <th>Jour</th>\n      <th>Heure</th>\n      <th>Minute</th>\n    </tr>\n    <tr>\n      <th>Datetime</th>\n      <th></th>\n      <th></th>\n      <th></th>\n      <th></th>\n      <th></th>\n      <th></th>\n      <th></th>\n      <th></th>\n      <th></th>\n      <th></th>\n      <th></th>\n      <th></th>\n      <th></th>\n      <th></th>\n      <th></th>\n      <th></th>\n      <th></th>\n      <th></th>\n      <th></th>\n      <th></th>\n      <th></th>\n    </tr>\n  </thead>\n  <tbody>\n    <tr>\n      <th>2012-01-01 01:00:00</th>\n      <td>0.218159</td>\n      <td>-0.285504</td>\n      <td>-0.149273</td>\n      <td>0.846077</td>\n      <td>0.206919</td>\n      <td>0.999977</td>\n      <td>0.886539</td>\n      <td>0.886377</td>\n      <td>0.886377</td>\n      <td>-0.180044</td>\n      <td>...</td>\n      <td>0.917230</td>\n      <td>-0.269965</td>\n      <td>-0.604718</td>\n      <td>0.902287</td>\n      <td>0.194355</td>\n      <td>0.739352</td>\n      <td>-0.914616</td>\n      <td>-0.931835</td>\n      <td>-0.907130</td>\n      <td>-0.872066</td>\n    </tr>\n    <tr>\n      <th>2012-01-01 01:15:00</th>\n      <td>0.215828</td>\n      <td>-0.287468</td>\n      <td>-0.152481</td>\n      <td>0.848994</td>\n      <td>0.200651</td>\n      <td>0.999977</td>\n      <td>0.886539</td>\n      <td>0.886377</td>\n      <td>0.886377</td>\n      <td>-0.180044</td>\n      <td>...</td>\n      <td>0.917230</td>\n      <td>-0.269965</td>\n      <td>-0.604718</td>\n      <td>0.901543</td>\n      <td>0.142046</td>\n      <td>0.736956</td>\n      <td>-0.914616</td>\n      <td>-0.931835</td>\n      <td>-0.907130</td>\n      <td>-0.419606</td>\n    </tr>\n    <tr>\n      <th>2012-01-01 01:30:00</th>\n      <td>0.213494</td>\n      <td>-0.289430</td>\n      <td>-0.155685</td>\n      <td>0.851860</td>\n      <td>0.194367</td>\n      <td>0.999977</td>\n      <td>0.886539</td>\n      <td>0.886377</td>\n      <td>0.886377</td>\n      <td>-0.180044</td>\n      <td>...</td>\n      <td>0.917230</td>\n      <td>-0.269965</td>\n      <td>-0.604718</td>\n      <td>0.900793</td>\n      <td>0.088931</td>\n      <td>0.734542</td>\n      <td>-0.914616</td>\n      <td>-0.931835</td>\n      <td>-0.907130</td>\n      <td>0.419606</td>\n    </tr>\n    <tr>\n      <th>2012-01-01 01:45:00</th>\n      <td>0.211157</td>\n      <td>-0.291389</td>\n      <td>-0.158886</td>\n      <td>0.854675</td>\n      <td>0.172372</td>\n      <td>0.999977</td>\n      <td>0.886539</td>\n      <td>0.886377</td>\n      <td>0.886377</td>\n      <td>-0.180044</td>\n      <td>...</td>\n      <td>0.917230</td>\n      <td>-0.269965</td>\n      <td>-0.604718</td>\n      <td>0.901468</td>\n      <td>0.063867</td>\n      <td>0.738024</td>\n      <td>-0.914616</td>\n      <td>-0.931835</td>\n      <td>-0.907130</td>\n      <td>0.872066</td>\n    </tr>\n    <tr>\n      <th>2012-01-01 02:00:00</th>\n      <td>0.208818</td>\n      <td>-0.293346</td>\n      <td>-0.162084</td>\n      <td>0.857442</td>\n      <td>0.150204</td>\n      <td>0.999977</td>\n      <td>0.886539</td>\n      <td>0.886377</td>\n      <td>0.886377</td>\n      <td>-0.180044</td>\n      <td>...</td>\n      <td>0.917230</td>\n      <td>-0.269965</td>\n      <td>-0.604718</td>\n      <td>0.902139</td>\n      <td>0.038723</td>\n      <td>0.741467</td>\n      <td>-0.914616</td>\n      <td>-0.931835</td>\n      <td>-0.877946</td>\n      <td>-0.872066</td>\n    </tr>\n    <tr>\n      <th>...</th>\n      <td>...</td>\n      <td>...</td>\n      <td>...</td>\n      <td>...</td>\n      <td>...</td>\n      <td>...</td>\n      <td>...</td>\n      <td>...</td>\n      <td>...</td>\n      <td>...</td>\n      <td>...</td>\n      <td>...</td>\n      <td>...</td>\n      <td>...</td>\n      <td>...</td>\n      <td>...</td>\n      <td>...</td>\n      <td>...</td>\n      <td>...</td>\n      <td>...</td>\n      <td>...</td>\n    </tr>\n    <tr>\n      <th>2023-05-10 13:45:00</th>\n      <td>0.013466</td>\n      <td>-0.066210</td>\n      <td>0.423134</td>\n      <td>-0.519051</td>\n      <td>-0.402914</td>\n      <td>-0.174129</td>\n      <td>-0.611604</td>\n      <td>-0.611844</td>\n      <td>-0.611844</td>\n      <td>-0.180044</td>\n      <td>...</td>\n      <td>-0.562458</td>\n      <td>0.886974</td>\n      <td>0.982002</td>\n      <td>0.246421</td>\n      <td>-0.139706</td>\n      <td>0.937680</td>\n      <td>-0.380922</td>\n      <td>-0.572649</td>\n      <td>0.217465</td>\n      <td>0.872066</td>\n    </tr>\n    <tr>\n      <th>2023-05-10 14:00:00</th>\n      <td>0.011706</td>\n      <td>-0.134386</td>\n      <td>0.441576</td>\n      <td>-0.560928</td>\n      <td>-0.441415</td>\n      <td>-0.174129</td>\n      <td>-0.611604</td>\n      <td>-0.611844</td>\n      <td>-0.611844</td>\n      <td>-0.180044</td>\n      <td>...</td>\n      <td>-0.562458</td>\n      <td>0.886974</td>\n      <td>0.978849</td>\n      <td>0.298797</td>\n      <td>-0.127679</td>\n      <td>0.939808</td>\n      <td>-0.380922</td>\n      <td>-0.572649</td>\n      <td>0.349902</td>\n      <td>-0.872066</td>\n    </tr>\n    <tr>\n      <th>2023-05-10 14:15:00</th>\n      <td>0.007364</td>\n      <td>-0.169448</td>\n      <td>0.445863</td>\n      <td>-0.569401</td>\n      <td>-0.417210</td>\n      <td>-0.174129</td>\n      <td>-0.611604</td>\n      <td>-0.611844</td>\n      <td>-0.611844</td>\n      <td>-0.180044</td>\n      <td>...</td>\n      <td>-0.562458</td>\n      <td>0.886974</td>\n      <td>0.983105</td>\n      <td>0.375617</td>\n      <td>-0.096027</td>\n      <td>0.954448</td>\n      <td>-0.380922</td>\n      <td>-0.572649</td>\n      <td>0.349902</td>\n      <td>-0.419606</td>\n    </tr>\n    <tr>\n      <th>2023-05-10 14:30:00</th>\n      <td>0.003022</td>\n      <td>-0.204086</td>\n      <td>0.450131</td>\n      <td>-0.577755</td>\n      <td>-0.467029</td>\n      <td>-0.174129</td>\n      <td>-0.611604</td>\n      <td>-0.611844</td>\n      <td>-0.611844</td>\n      <td>-0.180044</td>\n      <td>...</td>\n      <td>-0.562458</td>\n      <td>0.886974</td>\n      <td>0.980528</td>\n      <td>0.415198</td>\n      <td>-0.197774</td>\n      <td>0.955468</td>\n      <td>-0.380922</td>\n      <td>-0.572649</td>\n      <td>0.349902</td>\n      <td>0.419606</td>\n    </tr>\n    <tr>\n      <th>2023-05-10 14:45:00</th>\n      <td>-0.001321</td>\n      <td>-0.238221</td>\n      <td>0.454377</td>\n      <td>-0.585990</td>\n      <td>-0.485501</td>\n      <td>-0.174129</td>\n      <td>-0.611604</td>\n      <td>-0.611844</td>\n      <td>-0.611844</td>\n      <td>-0.180044</td>\n      <td>...</td>\n      <td>-0.562458</td>\n      <td>0.886974</td>\n      <td>0.978243</td>\n      <td>0.400737</td>\n      <td>-0.172383</td>\n      <td>0.951673</td>\n      <td>-0.380922</td>\n      <td>-0.572649</td>\n      <td>0.349902</td>\n      <td>0.872066</td>\n    </tr>\n  </tbody>\n</table>\n<p>399608 rows × 22 columns</p>\n</div>"
     },
     "execution_count": 75,
     "metadata": {},
     "output_type": "execute_result"
    }
   ],
   "source": [
    "data_scaled2"
   ],
   "metadata": {
    "collapsed": false,
    "ExecuteTime": {
     "end_time": "2023-05-25T14:16:24.262423Z",
     "start_time": "2023-05-25T14:16:24.152397700Z"
    }
   }
  },
  {
   "cell_type": "code",
   "execution_count": 77,
   "outputs": [
    {
     "data": {
      "text/plain": "                     Pression au niveau mer   \nDatetime                                      \n2012-01-01 01:00:00             101912.1325  \\\n2012-01-01 01:15:00             101909.5278   \n2012-01-01 01:30:00             101906.9230   \n2012-01-01 01:45:00             101904.3182   \n2012-01-01 02:00:00             101901.7134   \n...                                     ...   \n2023-05-10 13:45:00             101690.4182   \n2023-05-10 14:00:00             101688.5445   \n2023-05-10 14:15:00             101683.9215   \n2023-05-10 14:30:00             101679.2986   \n2023-05-10 14:45:00             101674.6756   \n\n                     Variation de pression en 3 heures  Température   \nDatetime                                                              \n2012-01-01 01:00:00                         -26.204878   284.441001  \\\n2012-01-01 01:15:00                         -26.399241   284.418138   \n2012-01-01 01:30:00                         -26.593603   284.395274   \n2012-01-01 01:45:00                         -26.787965   284.372410   \n2012-01-01 02:00:00                         -26.982327   284.349546   \n...                                                ...          ...   \n2023-05-10 13:45:00                          -5.555157   288.633609   \n2023-05-10 14:00:00                         -11.812752   288.791610   \n2023-05-10 14:15:00                         -15.072847   288.828798   \n2023-05-10 14:30:00                         -18.332943   288.865986   \n2023-05-10 14:45:00                         -21.593038   288.903174   \n\n                      Humidité  Consommation (MW)  Holiday      A      B   \nDatetime                                                                   \n2012-01-01 01:00:00  90.875456            56231.0     True   True   True  \\\n2012-01-01 01:15:00  91.010688            56153.0     True   True   True   \n2012-01-01 01:30:00  91.145920            56075.0     True   True   True   \n2012-01-01 01:45:00  91.281152            55803.5     True   True   True   \n2012-01-01 02:00:00  91.416384            55532.0     True   True   True   \n...                        ...                ...      ...    ...    ...   \n2023-05-10 13:45:00  67.142344            48632.0    False  False  False   \n2023-05-10 14:00:00  66.369890            48073.0    False  False  False   \n2023-05-10 14:15:00  66.207288            48427.0    False  False  False   \n2023-05-10 14:30:00  66.044685            47688.0    False  False  False   \n2023-05-10 14:45:00  65.882083            47403.0    False  False  False   \n\n                         C  Confinement  Prévision J (MW)  Prévision J-1 (MW)   \nDatetime                                                                        \n2012-01-01 01:00:00   True            0             55100               55200  \\\n2012-01-01 01:15:00   True            0             55250               55600   \n2012-01-01 01:30:00   True            0             55400               56000   \n2012-01-01 01:45:00   True            0             55200               56000   \n2012-01-01 02:00:00   True            0             55000               56000   \n...                    ...          ...               ...                 ...   \n2023-05-10 13:45:00  False            0             48350               49900   \n2023-05-10 14:00:00  False            0             48300               49700   \n2023-05-10 14:15:00  False            0             47850               49600   \n2023-05-10 14:30:00  False            0             47400               49500   \n2023-05-10 14:45:00  False            0             47150               48800   \n\n                     week-end  Prix Elec 1kWh  \nDatetime                                       \n2012-01-01 01:00:00         1           69.37  \n2012-01-01 01:15:00         1           69.37  \n2012-01-01 01:30:00         1           69.37  \n2012-01-01 01:45:00         1           69.37  \n2012-01-01 02:00:00         1           69.37  \n...                       ...             ...  \n2023-05-10 13:45:00         0          104.08  \n2023-05-10 14:00:00         0          104.08  \n2023-05-10 14:15:00         0          104.08  \n2023-05-10 14:30:00         0          104.08  \n2023-05-10 14:45:00         0          104.08  \n\n[363216 rows x 14 columns]",
      "text/html": "<div>\n<style scoped>\n    .dataframe tbody tr th:only-of-type {\n        vertical-align: middle;\n    }\n\n    .dataframe tbody tr th {\n        vertical-align: top;\n    }\n\n    .dataframe thead th {\n        text-align: right;\n    }\n</style>\n<table border=\"1\" class=\"dataframe\">\n  <thead>\n    <tr style=\"text-align: right;\">\n      <th></th>\n      <th>Pression au niveau mer</th>\n      <th>Variation de pression en 3 heures</th>\n      <th>Température</th>\n      <th>Humidité</th>\n      <th>Consommation (MW)</th>\n      <th>Holiday</th>\n      <th>A</th>\n      <th>B</th>\n      <th>C</th>\n      <th>Confinement</th>\n      <th>Prévision J (MW)</th>\n      <th>Prévision J-1 (MW)</th>\n      <th>week-end</th>\n      <th>Prix Elec 1kWh</th>\n    </tr>\n    <tr>\n      <th>Datetime</th>\n      <th></th>\n      <th></th>\n      <th></th>\n      <th></th>\n      <th></th>\n      <th></th>\n      <th></th>\n      <th></th>\n      <th></th>\n      <th></th>\n      <th></th>\n      <th></th>\n      <th></th>\n      <th></th>\n    </tr>\n  </thead>\n  <tbody>\n    <tr>\n      <th>2012-01-01 01:00:00</th>\n      <td>101912.1325</td>\n      <td>-26.204878</td>\n      <td>284.441001</td>\n      <td>90.875456</td>\n      <td>56231.0</td>\n      <td>True</td>\n      <td>True</td>\n      <td>True</td>\n      <td>True</td>\n      <td>0</td>\n      <td>55100</td>\n      <td>55200</td>\n      <td>1</td>\n      <td>69.37</td>\n    </tr>\n    <tr>\n      <th>2012-01-01 01:15:00</th>\n      <td>101909.5278</td>\n      <td>-26.399241</td>\n      <td>284.418138</td>\n      <td>91.010688</td>\n      <td>56153.0</td>\n      <td>True</td>\n      <td>True</td>\n      <td>True</td>\n      <td>True</td>\n      <td>0</td>\n      <td>55250</td>\n      <td>55600</td>\n      <td>1</td>\n      <td>69.37</td>\n    </tr>\n    <tr>\n      <th>2012-01-01 01:30:00</th>\n      <td>101906.9230</td>\n      <td>-26.593603</td>\n      <td>284.395274</td>\n      <td>91.145920</td>\n      <td>56075.0</td>\n      <td>True</td>\n      <td>True</td>\n      <td>True</td>\n      <td>True</td>\n      <td>0</td>\n      <td>55400</td>\n      <td>56000</td>\n      <td>1</td>\n      <td>69.37</td>\n    </tr>\n    <tr>\n      <th>2012-01-01 01:45:00</th>\n      <td>101904.3182</td>\n      <td>-26.787965</td>\n      <td>284.372410</td>\n      <td>91.281152</td>\n      <td>55803.5</td>\n      <td>True</td>\n      <td>True</td>\n      <td>True</td>\n      <td>True</td>\n      <td>0</td>\n      <td>55200</td>\n      <td>56000</td>\n      <td>1</td>\n      <td>69.37</td>\n    </tr>\n    <tr>\n      <th>2012-01-01 02:00:00</th>\n      <td>101901.7134</td>\n      <td>-26.982327</td>\n      <td>284.349546</td>\n      <td>91.416384</td>\n      <td>55532.0</td>\n      <td>True</td>\n      <td>True</td>\n      <td>True</td>\n      <td>True</td>\n      <td>0</td>\n      <td>55000</td>\n      <td>56000</td>\n      <td>1</td>\n      <td>69.37</td>\n    </tr>\n    <tr>\n      <th>...</th>\n      <td>...</td>\n      <td>...</td>\n      <td>...</td>\n      <td>...</td>\n      <td>...</td>\n      <td>...</td>\n      <td>...</td>\n      <td>...</td>\n      <td>...</td>\n      <td>...</td>\n      <td>...</td>\n      <td>...</td>\n      <td>...</td>\n      <td>...</td>\n    </tr>\n    <tr>\n      <th>2023-05-10 13:45:00</th>\n      <td>101690.4182</td>\n      <td>-5.555157</td>\n      <td>288.633609</td>\n      <td>67.142344</td>\n      <td>48632.0</td>\n      <td>False</td>\n      <td>False</td>\n      <td>False</td>\n      <td>False</td>\n      <td>0</td>\n      <td>48350</td>\n      <td>49900</td>\n      <td>0</td>\n      <td>104.08</td>\n    </tr>\n    <tr>\n      <th>2023-05-10 14:00:00</th>\n      <td>101688.5445</td>\n      <td>-11.812752</td>\n      <td>288.791610</td>\n      <td>66.369890</td>\n      <td>48073.0</td>\n      <td>False</td>\n      <td>False</td>\n      <td>False</td>\n      <td>False</td>\n      <td>0</td>\n      <td>48300</td>\n      <td>49700</td>\n      <td>0</td>\n      <td>104.08</td>\n    </tr>\n    <tr>\n      <th>2023-05-10 14:15:00</th>\n      <td>101683.9215</td>\n      <td>-15.072847</td>\n      <td>288.828798</td>\n      <td>66.207288</td>\n      <td>48427.0</td>\n      <td>False</td>\n      <td>False</td>\n      <td>False</td>\n      <td>False</td>\n      <td>0</td>\n      <td>47850</td>\n      <td>49600</td>\n      <td>0</td>\n      <td>104.08</td>\n    </tr>\n    <tr>\n      <th>2023-05-10 14:30:00</th>\n      <td>101679.2986</td>\n      <td>-18.332943</td>\n      <td>288.865986</td>\n      <td>66.044685</td>\n      <td>47688.0</td>\n      <td>False</td>\n      <td>False</td>\n      <td>False</td>\n      <td>False</td>\n      <td>0</td>\n      <td>47400</td>\n      <td>49500</td>\n      <td>0</td>\n      <td>104.08</td>\n    </tr>\n    <tr>\n      <th>2023-05-10 14:45:00</th>\n      <td>101674.6756</td>\n      <td>-21.593038</td>\n      <td>288.903174</td>\n      <td>65.882083</td>\n      <td>47403.0</td>\n      <td>False</td>\n      <td>False</td>\n      <td>False</td>\n      <td>False</td>\n      <td>0</td>\n      <td>47150</td>\n      <td>48800</td>\n      <td>0</td>\n      <td>104.08</td>\n    </tr>\n  </tbody>\n</table>\n<p>363216 rows × 14 columns</p>\n</div>"
     },
     "execution_count": 77,
     "metadata": {},
     "output_type": "execute_result"
    }
   ],
   "source": [
    "df_2022 = data_clean[data_clean.index.year != 2022]\n",
    "df_2022"
   ],
   "metadata": {
    "collapsed": false,
    "ExecuteTime": {
     "end_time": "2023-05-25T14:22:58.454210400Z",
     "start_time": "2023-05-25T14:22:58.387195200Z"
    }
   }
  },
  {
   "cell_type": "code",
   "execution_count": 80,
   "outputs": [
    {
     "data": {
      "text/plain": "                     Solaire (TW)\nDatetime                         \n2012-01-01 00:00:00      0.000000\n2012-01-01 00:15:00      0.000000\n2012-01-01 00:30:00      0.000000\n2012-01-01 00:45:00      0.000000\n2012-01-01 01:00:00      0.000000\n...                           ...\n2023-05-12 22:45:00      0.493231\n2023-05-12 23:00:00      0.493231\n2023-05-12 23:15:00      0.493231\n2023-05-12 23:30:00      0.493231\n2023-05-12 23:45:00      0.493231\n\n[363360 rows x 1 columns]",
      "text/html": "<div>\n<style scoped>\n    .dataframe tbody tr th:only-of-type {\n        vertical-align: middle;\n    }\n\n    .dataframe tbody tr th {\n        vertical-align: top;\n    }\n\n    .dataframe thead th {\n        text-align: right;\n    }\n</style>\n<table border=\"1\" class=\"dataframe\">\n  <thead>\n    <tr style=\"text-align: right;\">\n      <th></th>\n      <th>Solaire (TW)</th>\n    </tr>\n    <tr>\n      <th>Datetime</th>\n      <th></th>\n    </tr>\n  </thead>\n  <tbody>\n    <tr>\n      <th>2012-01-01 00:00:00</th>\n      <td>0.000000</td>\n    </tr>\n    <tr>\n      <th>2012-01-01 00:15:00</th>\n      <td>0.000000</td>\n    </tr>\n    <tr>\n      <th>2012-01-01 00:30:00</th>\n      <td>0.000000</td>\n    </tr>\n    <tr>\n      <th>2012-01-01 00:45:00</th>\n      <td>0.000000</td>\n    </tr>\n    <tr>\n      <th>2012-01-01 01:00:00</th>\n      <td>0.000000</td>\n    </tr>\n    <tr>\n      <th>...</th>\n      <td>...</td>\n    </tr>\n    <tr>\n      <th>2023-05-12 22:45:00</th>\n      <td>0.493231</td>\n    </tr>\n    <tr>\n      <th>2023-05-12 23:00:00</th>\n      <td>0.493231</td>\n    </tr>\n    <tr>\n      <th>2023-05-12 23:15:00</th>\n      <td>0.493231</td>\n    </tr>\n    <tr>\n      <th>2023-05-12 23:30:00</th>\n      <td>0.493231</td>\n    </tr>\n    <tr>\n      <th>2023-05-12 23:45:00</th>\n      <td>0.493231</td>\n    </tr>\n  </tbody>\n</table>\n<p>363360 rows × 1 columns</p>\n</div>"
     },
     "execution_count": 80,
     "metadata": {},
     "output_type": "execute_result"
    }
   ],
   "source": [
    "prodSol[prodSol.index.year != 2022]"
   ],
   "metadata": {
    "collapsed": false,
    "ExecuteTime": {
     "end_time": "2023-05-25T14:30:18.885541800Z",
     "start_time": "2023-05-25T14:30:18.354780400Z"
    }
   }
  },
  {
   "cell_type": "code",
   "execution_count": 85,
   "outputs": [
    {
     "data": {
      "text/plain": "array([-3, -8])"
     },
     "execution_count": 85,
     "metadata": {},
     "output_type": "execute_result"
    }
   ],
   "source": [
    "flux = [\n",
    "    [-20,-5,-7,-9],\n",
    "    [-27,-15,-12,-7]\n",
    "]\n",
    "\n",
    "prodRes = [-44,-69]\n",
    "\n",
    "prodRes - np.sum(flux, axis=1)"
   ],
   "metadata": {
    "collapsed": false,
    "ExecuteTime": {
     "end_time": "2023-05-25T14:42:41.106812300Z",
     "start_time": "2023-05-25T14:42:41.100810900Z"
    }
   }
  },
  {
   "cell_type": "code",
   "execution_count": 86,
   "outputs": [
    {
     "data": {
      "text/plain": "2.75"
     },
     "execution_count": 86,
     "metadata": {},
     "output_type": "execute_result"
    }
   ],
   "source": [
    "np.sum(prodRes - np.sum(flux, axis=1)) * -0.25"
   ],
   "metadata": {
    "collapsed": false,
    "ExecuteTime": {
     "end_time": "2023-05-25T14:43:08.168191Z",
     "start_time": "2023-05-25T14:43:08.161189600Z"
    }
   }
  },
  {
   "cell_type": "code",
   "execution_count": null,
   "outputs": [],
   "source": [],
   "metadata": {
    "collapsed": false
   }
  }
 ],
 "metadata": {
  "kernelspec": {
   "display_name": "Python 3",
   "language": "python",
   "name": "python3"
  },
  "language_info": {
   "codemirror_mode": {
    "name": "ipython",
    "version": 2
   },
   "file_extension": ".py",
   "mimetype": "text/x-python",
   "name": "python",
   "nbconvert_exporter": "python",
   "pygments_lexer": "ipython2",
   "version": "2.7.6"
  }
 },
 "nbformat": 4,
 "nbformat_minor": 0
}
